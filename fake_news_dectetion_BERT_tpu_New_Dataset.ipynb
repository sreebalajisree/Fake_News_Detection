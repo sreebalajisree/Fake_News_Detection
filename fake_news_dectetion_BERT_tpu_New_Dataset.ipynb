{
  "cells": [
    {
      "cell_type": "markdown",
      "metadata": {
        "id": "view-in-github",
        "colab_type": "text"
      },
      "source": [
        "<a href=\"https://colab.research.google.com/github/sreebalajisree/Fake_News_Detection/blob/main/fake_news_dectetion_BERT_tpu_New_Dataset.ipynb\" target=\"_parent\"><img src=\"https://colab.research.google.com/assets/colab-badge.svg\" alt=\"Open In Colab\"/></a>"
      ]
    },
    {
      "cell_type": "markdown",
      "metadata": {
        "id": "m9I5Gjr1VeIi"
      },
      "source": [
        "## About this notebook\n"
      ]
    },
    {
      "cell_type": "markdown",
      "metadata": {
        "id": "nJg0-4fFVeIl"
      },
      "source": [
        "Other things to try:\n",
        "\n",
        "Five-fold cross-mean fusion base 0.97709\n",
        "\n",
        "Single Fold base 0.974\n",
        "\n",
        "Five-fold cross-validation, weight fusion 0.9789\n",
        "\n",
        "In-domain data further pre-training\n",
        "\n",
        "1. Fine-tune warm_up 0.9794\n",
        "\n",
        "2. dropout 0.9706\n",
        "\n",
        "3. Utilize pseudo-tags\n",
        "\n",
        "4. Label smoothing 0.9790\n",
        "\n",
        "5: Add Indian language data\n",
        "\n",
        "6: Five-fold cross-validation, average fusion 0.9814\n",
        "\n",
        "7: Five-fold cross-validation, weight fusion 0.9789\n",
        "\n",
        "8: single fold, average fusion\n",
        "\n",
        "9: single fold, weight fusion, 10: length 130 0.978, 192 0.976\n",
        "\n"
      ]
    },
    {
      "cell_type": "code",
      "execution_count": 109,
      "metadata": {
        "id": "DuA5HibmVw1s",
        "colab": {
          "base_uri": "https://localhost:8080/"
        },
        "outputId": "6553edb1-e977-4005-fa58-9d17f8d2c4be"
      },
      "outputs": [
        {
          "output_type": "stream",
          "name": "stdout",
          "text": [
            "Looking in indexes: https://pypi.org/simple, https://us-python.pkg.dev/colab-wheels/public/simple/\n",
            "Requirement already satisfied: tensorflow-addons in /usr/local/lib/python3.7/dist-packages (0.18.0)\n",
            "Requirement already satisfied: typeguard>=2.7 in /usr/local/lib/python3.7/dist-packages (from tensorflow-addons) (2.7.1)\n",
            "Requirement already satisfied: packaging in /usr/local/lib/python3.7/dist-packages (from tensorflow-addons) (21.3)\n",
            "Requirement already satisfied: pyparsing!=3.0.5,>=2.0.2 in /usr/local/lib/python3.7/dist-packages (from packaging->tensorflow-addons) (3.0.9)\n"
          ]
        }
      ],
      "source": [
        "!pip install tensorflow-addons"
      ]
    },
    {
      "cell_type": "code",
      "execution_count": 110,
      "metadata": {
        "id": "_S_780H0WGDc",
        "colab": {
          "base_uri": "https://localhost:8080/"
        },
        "outputId": "f87b29b9-7166-4dc4-9257-407910243943"
      },
      "outputs": [
        {
          "output_type": "stream",
          "name": "stdout",
          "text": [
            "Looking in indexes: https://pypi.org/simple, https://us-python.pkg.dev/colab-wheels/public/simple/\n",
            "Requirement already satisfied: transformers in /usr/local/lib/python3.7/dist-packages (4.24.0)\n",
            "Requirement already satisfied: regex!=2019.12.17 in /usr/local/lib/python3.7/dist-packages (from transformers) (2022.6.2)\n",
            "Requirement already satisfied: requests in /usr/local/lib/python3.7/dist-packages (from transformers) (2.23.0)\n",
            "Requirement already satisfied: pyyaml>=5.1 in /usr/local/lib/python3.7/dist-packages (from transformers) (6.0)\n",
            "Requirement already satisfied: tqdm>=4.27 in /usr/local/lib/python3.7/dist-packages (from transformers) (4.64.1)\n",
            "Requirement already satisfied: huggingface-hub<1.0,>=0.10.0 in /usr/local/lib/python3.7/dist-packages (from transformers) (0.11.0)\n",
            "Requirement already satisfied: tokenizers!=0.11.3,<0.14,>=0.11.1 in /usr/local/lib/python3.7/dist-packages (from transformers) (0.13.2)\n",
            "Requirement already satisfied: packaging>=20.0 in /usr/local/lib/python3.7/dist-packages (from transformers) (21.3)\n",
            "Requirement already satisfied: numpy>=1.17 in /usr/local/lib/python3.7/dist-packages (from transformers) (1.21.6)\n",
            "Requirement already satisfied: filelock in /usr/local/lib/python3.7/dist-packages (from transformers) (3.8.0)\n",
            "Requirement already satisfied: importlib-metadata in /usr/local/lib/python3.7/dist-packages (from transformers) (4.13.0)\n",
            "Requirement already satisfied: typing-extensions>=3.7.4.3 in /usr/local/lib/python3.7/dist-packages (from huggingface-hub<1.0,>=0.10.0->transformers) (4.1.1)\n",
            "Requirement already satisfied: pyparsing!=3.0.5,>=2.0.2 in /usr/local/lib/python3.7/dist-packages (from packaging>=20.0->transformers) (3.0.9)\n",
            "Requirement already satisfied: zipp>=0.5 in /usr/local/lib/python3.7/dist-packages (from importlib-metadata->transformers) (3.10.0)\n",
            "Requirement already satisfied: urllib3!=1.25.0,!=1.25.1,<1.26,>=1.21.1 in /usr/local/lib/python3.7/dist-packages (from requests->transformers) (1.24.3)\n",
            "Requirement already satisfied: certifi>=2017.4.17 in /usr/local/lib/python3.7/dist-packages (from requests->transformers) (2022.9.24)\n",
            "Requirement already satisfied: chardet<4,>=3.0.2 in /usr/local/lib/python3.7/dist-packages (from requests->transformers) (3.0.4)\n",
            "Requirement already satisfied: idna<3,>=2.5 in /usr/local/lib/python3.7/dist-packages (from requests->transformers) (2.10)\n"
          ]
        }
      ],
      "source": [
        "!pip install transformers"
      ]
    },
    {
      "cell_type": "code",
      "execution_count": 111,
      "metadata": {
        "id": "bhie32NuVeIm"
      },
      "outputs": [],
      "source": [
        "#Python libraries\n",
        "import os\n",
        "import copy\n",
        "import random\n",
        "from string import digits, punctuation\n",
        "import re\n",
        "\n",
        "#Basic EDA libraries\n",
        "import numpy as np\n",
        "import pandas as pd\n",
        "import matplotlib.pyplot as plt\n",
        "from imblearn.under_sampling import RandomUnderSampler\n",
        "import seaborn as sns\n",
        "\n",
        "#SK-learn libraries\n",
        "from sklearn.model_selection import KFold, train_test_split\n",
        "from sklearn.metrics import f1_score,confusion_matrix,precision_score,recall_score, accuracy_score, classification_report\n",
        "\n",
        "#Tensorflow libraries\n",
        "import tensorflow as tf\n",
        "import tensorflow_addons as tfa\n",
        "from tensorflow_addons.optimizers import AdamW\n",
        "from tensorflow.keras.layers import Dense, Input,Dropout\n",
        "from tensorflow.keras.utils import to_categorical\n",
        "from tensorflow.keras.optimizers import Adam\n",
        "import tensorflow.keras.backend as K\n",
        "from tensorflow.keras.models import Model\n",
        "from tensorflow.keras.callbacks import ModelCheckpoint\n",
        "from gc import callbacks\n",
        "\n",
        "#Transformer libraries\n",
        "import transformers\n",
        "from transformers import AutoModel\n",
        "from transformers import BertTokenizer,BertModel,BertConfig,BertForPreTraining\n",
        "from transformers import TFAutoModel, AutoTokenizer\n",
        "from gc import callbacks\n",
        "\n",
        "#Other NLP libraries\n",
        "from tqdm.notebook import tqdm\n",
        "from tokenizers import Tokenizer, models, pre_tokenizers, decoders, processors\n",
        "from gensim.models.word2vec import Word2VecKeyedVectors\n",
        "\n",
        "AUTO = tf.data.experimental.AUTOTUNE"
      ]
    },
    {
      "cell_type": "code",
      "execution_count": 112,
      "metadata": {
        "colab": {
          "base_uri": "https://localhost:8080/",
          "height": 35
        },
        "id": "L7UvbfyYVeIo",
        "outputId": "4aad88cc-6158-4c09-df5c-012b2b4d6a86"
      },
      "outputs": [
        {
          "output_type": "execute_result",
          "data": {
            "text/plain": [
              "'4.24.0'"
            ],
            "application/vnd.google.colaboratory.intrinsic+json": {
              "type": "string"
            }
          },
          "metadata": {},
          "execution_count": 112
        }
      ],
      "source": [
        "transformers.__version__"
      ]
    },
    {
      "cell_type": "code",
      "execution_count": 113,
      "metadata": {
        "id": "Cr3w3OiQtyWz"
      },
      "outputs": [],
      "source": [
        "fake_train_covid= pd.read_excel(\"/content/sample_data/data/Constraint_English_Train.xlsx\")\n",
        "fake_valid_covid = pd.read_excel(\"/content/sample_data/data/Constraint_English_Val.xlsx\")\n",
        "fake_test_covid = pd.read_excel(\"/content/sample_data/data/Constraint_English_Test_without_labels.xlsx\")\n",
        "fake_external1 = pd.read_excel(\"/content/sample_data/data/external_1.xlsx\")\n",
        "fake_external2 = pd.read_excel(\"/content/sample_data/data/external_2.xlsx\")\n",
        "df_pseudo = pd.read_csv(\"/content/sample_data/data/pseudo_submission.csv\")\n",
        "fake_train = pd.read_excel(\"/content/sample_data/data/new_train_data_all_topic.xlsx\")\n",
        "fake_valid = pd.read_excel(\"/content/sample_data/data/new_valid_data_all_topic.xlsx\")\n",
        "fake_test = pd.read_excel(\"/content/sample_data/data/new_test_data_all_topic.xlsx\")"
      ]
    },
    {
      "cell_type": "code",
      "execution_count": 114,
      "metadata": {
        "colab": {
          "base_uri": "https://localhost:8080/",
          "height": 206
        },
        "id": "pB1BBOJ6uQBz",
        "outputId": "6e177ab1-578c-41f6-84f6-81093c09e4f5"
      },
      "outputs": [
        {
          "output_type": "execute_result",
          "data": {
            "text/plain": [
              "                                               tweet  label\n",
              "0   Donald Trump Sends Out Embarrassing New Yearâ...      0\n",
              "1   Drunk Bragging Trump Staffer Started Russian ...      0\n",
              "2   Sheriff David Clarke Becomes An Internet Joke...      0\n",
              "3   Trump Is So Obsessed He Even Has Obamaâ€™s Na...      0\n",
              "4   Pope Francis Just Called Out Donald Trump Dur...      0"
            ],
            "text/html": [
              "\n",
              "  <div id=\"df-a4846841-fa8d-4919-b3cb-519bda569233\">\n",
              "    <div class=\"colab-df-container\">\n",
              "      <div>\n",
              "<style scoped>\n",
              "    .dataframe tbody tr th:only-of-type {\n",
              "        vertical-align: middle;\n",
              "    }\n",
              "\n",
              "    .dataframe tbody tr th {\n",
              "        vertical-align: top;\n",
              "    }\n",
              "\n",
              "    .dataframe thead th {\n",
              "        text-align: right;\n",
              "    }\n",
              "</style>\n",
              "<table border=\"1\" class=\"dataframe\">\n",
              "  <thead>\n",
              "    <tr style=\"text-align: right;\">\n",
              "      <th></th>\n",
              "      <th>tweet</th>\n",
              "      <th>label</th>\n",
              "    </tr>\n",
              "  </thead>\n",
              "  <tbody>\n",
              "    <tr>\n",
              "      <th>0</th>\n",
              "      <td>Donald Trump Sends Out Embarrassing New Yearâ...</td>\n",
              "      <td>0</td>\n",
              "    </tr>\n",
              "    <tr>\n",
              "      <th>1</th>\n",
              "      <td>Drunk Bragging Trump Staffer Started Russian ...</td>\n",
              "      <td>0</td>\n",
              "    </tr>\n",
              "    <tr>\n",
              "      <th>2</th>\n",
              "      <td>Sheriff David Clarke Becomes An Internet Joke...</td>\n",
              "      <td>0</td>\n",
              "    </tr>\n",
              "    <tr>\n",
              "      <th>3</th>\n",
              "      <td>Trump Is So Obsessed He Even Has Obamaâ€™s Na...</td>\n",
              "      <td>0</td>\n",
              "    </tr>\n",
              "    <tr>\n",
              "      <th>4</th>\n",
              "      <td>Pope Francis Just Called Out Donald Trump Dur...</td>\n",
              "      <td>0</td>\n",
              "    </tr>\n",
              "  </tbody>\n",
              "</table>\n",
              "</div>\n",
              "      <button class=\"colab-df-convert\" onclick=\"convertToInteractive('df-a4846841-fa8d-4919-b3cb-519bda569233')\"\n",
              "              title=\"Convert this dataframe to an interactive table.\"\n",
              "              style=\"display:none;\">\n",
              "        \n",
              "  <svg xmlns=\"http://www.w3.org/2000/svg\" height=\"24px\"viewBox=\"0 0 24 24\"\n",
              "       width=\"24px\">\n",
              "    <path d=\"M0 0h24v24H0V0z\" fill=\"none\"/>\n",
              "    <path d=\"M18.56 5.44l.94 2.06.94-2.06 2.06-.94-2.06-.94-.94-2.06-.94 2.06-2.06.94zm-11 1L8.5 8.5l.94-2.06 2.06-.94-2.06-.94L8.5 2.5l-.94 2.06-2.06.94zm10 10l.94 2.06.94-2.06 2.06-.94-2.06-.94-.94-2.06-.94 2.06-2.06.94z\"/><path d=\"M17.41 7.96l-1.37-1.37c-.4-.4-.92-.59-1.43-.59-.52 0-1.04.2-1.43.59L10.3 9.45l-7.72 7.72c-.78.78-.78 2.05 0 2.83L4 21.41c.39.39.9.59 1.41.59.51 0 1.02-.2 1.41-.59l7.78-7.78 2.81-2.81c.8-.78.8-2.07 0-2.86zM5.41 20L4 18.59l7.72-7.72 1.47 1.35L5.41 20z\"/>\n",
              "  </svg>\n",
              "      </button>\n",
              "      \n",
              "  <style>\n",
              "    .colab-df-container {\n",
              "      display:flex;\n",
              "      flex-wrap:wrap;\n",
              "      gap: 12px;\n",
              "    }\n",
              "\n",
              "    .colab-df-convert {\n",
              "      background-color: #E8F0FE;\n",
              "      border: none;\n",
              "      border-radius: 50%;\n",
              "      cursor: pointer;\n",
              "      display: none;\n",
              "      fill: #1967D2;\n",
              "      height: 32px;\n",
              "      padding: 0 0 0 0;\n",
              "      width: 32px;\n",
              "    }\n",
              "\n",
              "    .colab-df-convert:hover {\n",
              "      background-color: #E2EBFA;\n",
              "      box-shadow: 0px 1px 2px rgba(60, 64, 67, 0.3), 0px 1px 3px 1px rgba(60, 64, 67, 0.15);\n",
              "      fill: #174EA6;\n",
              "    }\n",
              "\n",
              "    [theme=dark] .colab-df-convert {\n",
              "      background-color: #3B4455;\n",
              "      fill: #D2E3FC;\n",
              "    }\n",
              "\n",
              "    [theme=dark] .colab-df-convert:hover {\n",
              "      background-color: #434B5C;\n",
              "      box-shadow: 0px 1px 3px 1px rgba(0, 0, 0, 0.15);\n",
              "      filter: drop-shadow(0px 1px 2px rgba(0, 0, 0, 0.3));\n",
              "      fill: #FFFFFF;\n",
              "    }\n",
              "  </style>\n",
              "\n",
              "      <script>\n",
              "        const buttonEl =\n",
              "          document.querySelector('#df-a4846841-fa8d-4919-b3cb-519bda569233 button.colab-df-convert');\n",
              "        buttonEl.style.display =\n",
              "          google.colab.kernel.accessAllowed ? 'block' : 'none';\n",
              "\n",
              "        async function convertToInteractive(key) {\n",
              "          const element = document.querySelector('#df-a4846841-fa8d-4919-b3cb-519bda569233');\n",
              "          const dataTable =\n",
              "            await google.colab.kernel.invokeFunction('convertToInteractive',\n",
              "                                                     [key], {});\n",
              "          if (!dataTable) return;\n",
              "\n",
              "          const docLinkHtml = 'Like what you see? Visit the ' +\n",
              "            '<a target=\"_blank\" href=https://colab.research.google.com/notebooks/data_table.ipynb>data table notebook</a>'\n",
              "            + ' to learn more about interactive tables.';\n",
              "          element.innerHTML = '';\n",
              "          dataTable['output_type'] = 'display_data';\n",
              "          await google.colab.output.renderOutput(dataTable, element);\n",
              "          const docLink = document.createElement('div');\n",
              "          docLink.innerHTML = docLinkHtml;\n",
              "          element.appendChild(docLink);\n",
              "        }\n",
              "      </script>\n",
              "    </div>\n",
              "  </div>\n",
              "  "
            ]
          },
          "metadata": {},
          "execution_count": 114
        }
      ],
      "source": [
        "fake_train.head()"
      ]
    },
    {
      "cell_type": "code",
      "execution_count": 115,
      "metadata": {
        "colab": {
          "base_uri": "https://localhost:8080/",
          "height": 206
        },
        "id": "E95JbgdBuQob",
        "outputId": "3f6162b6-9d1f-44b8-f2dd-08744fce4d7b"
      },
      "outputs": [
        {
          "output_type": "execute_result",
          "data": {
            "text/plain": [
              "                                               tweet  label\n",
              "0  ULTIMATE HYPOCRITES! RUSSIAN Ambassador Visite...      0\n",
              "1  WATCH: G.W. BUSH Gushes Over Kimmelâ€™s Anti-T...      0\n",
              "2  RACIST LIBERAL REPORTER Arrested In Connection...      0\n",
              "3  NEWT GINGRICH Punches Back At Democrats With M...      0\n",
              "4  EXPOSED! OBAMA REGIME Gave MILLIONS US Tax Dol...      0"
            ],
            "text/html": [
              "\n",
              "  <div id=\"df-214405a7-5443-4b91-839a-77d38e81ddf5\">\n",
              "    <div class=\"colab-df-container\">\n",
              "      <div>\n",
              "<style scoped>\n",
              "    .dataframe tbody tr th:only-of-type {\n",
              "        vertical-align: middle;\n",
              "    }\n",
              "\n",
              "    .dataframe tbody tr th {\n",
              "        vertical-align: top;\n",
              "    }\n",
              "\n",
              "    .dataframe thead th {\n",
              "        text-align: right;\n",
              "    }\n",
              "</style>\n",
              "<table border=\"1\" class=\"dataframe\">\n",
              "  <thead>\n",
              "    <tr style=\"text-align: right;\">\n",
              "      <th></th>\n",
              "      <th>tweet</th>\n",
              "      <th>label</th>\n",
              "    </tr>\n",
              "  </thead>\n",
              "  <tbody>\n",
              "    <tr>\n",
              "      <th>0</th>\n",
              "      <td>ULTIMATE HYPOCRITES! RUSSIAN Ambassador Visite...</td>\n",
              "      <td>0</td>\n",
              "    </tr>\n",
              "    <tr>\n",
              "      <th>1</th>\n",
              "      <td>WATCH: G.W. BUSH Gushes Over Kimmelâ€™s Anti-T...</td>\n",
              "      <td>0</td>\n",
              "    </tr>\n",
              "    <tr>\n",
              "      <th>2</th>\n",
              "      <td>RACIST LIBERAL REPORTER Arrested In Connection...</td>\n",
              "      <td>0</td>\n",
              "    </tr>\n",
              "    <tr>\n",
              "      <th>3</th>\n",
              "      <td>NEWT GINGRICH Punches Back At Democrats With M...</td>\n",
              "      <td>0</td>\n",
              "    </tr>\n",
              "    <tr>\n",
              "      <th>4</th>\n",
              "      <td>EXPOSED! OBAMA REGIME Gave MILLIONS US Tax Dol...</td>\n",
              "      <td>0</td>\n",
              "    </tr>\n",
              "  </tbody>\n",
              "</table>\n",
              "</div>\n",
              "      <button class=\"colab-df-convert\" onclick=\"convertToInteractive('df-214405a7-5443-4b91-839a-77d38e81ddf5')\"\n",
              "              title=\"Convert this dataframe to an interactive table.\"\n",
              "              style=\"display:none;\">\n",
              "        \n",
              "  <svg xmlns=\"http://www.w3.org/2000/svg\" height=\"24px\"viewBox=\"0 0 24 24\"\n",
              "       width=\"24px\">\n",
              "    <path d=\"M0 0h24v24H0V0z\" fill=\"none\"/>\n",
              "    <path d=\"M18.56 5.44l.94 2.06.94-2.06 2.06-.94-2.06-.94-.94-2.06-.94 2.06-2.06.94zm-11 1L8.5 8.5l.94-2.06 2.06-.94-2.06-.94L8.5 2.5l-.94 2.06-2.06.94zm10 10l.94 2.06.94-2.06 2.06-.94-2.06-.94-.94-2.06-.94 2.06-2.06.94z\"/><path d=\"M17.41 7.96l-1.37-1.37c-.4-.4-.92-.59-1.43-.59-.52 0-1.04.2-1.43.59L10.3 9.45l-7.72 7.72c-.78.78-.78 2.05 0 2.83L4 21.41c.39.39.9.59 1.41.59.51 0 1.02-.2 1.41-.59l7.78-7.78 2.81-2.81c.8-.78.8-2.07 0-2.86zM5.41 20L4 18.59l7.72-7.72 1.47 1.35L5.41 20z\"/>\n",
              "  </svg>\n",
              "      </button>\n",
              "      \n",
              "  <style>\n",
              "    .colab-df-container {\n",
              "      display:flex;\n",
              "      flex-wrap:wrap;\n",
              "      gap: 12px;\n",
              "    }\n",
              "\n",
              "    .colab-df-convert {\n",
              "      background-color: #E8F0FE;\n",
              "      border: none;\n",
              "      border-radius: 50%;\n",
              "      cursor: pointer;\n",
              "      display: none;\n",
              "      fill: #1967D2;\n",
              "      height: 32px;\n",
              "      padding: 0 0 0 0;\n",
              "      width: 32px;\n",
              "    }\n",
              "\n",
              "    .colab-df-convert:hover {\n",
              "      background-color: #E2EBFA;\n",
              "      box-shadow: 0px 1px 2px rgba(60, 64, 67, 0.3), 0px 1px 3px 1px rgba(60, 64, 67, 0.15);\n",
              "      fill: #174EA6;\n",
              "    }\n",
              "\n",
              "    [theme=dark] .colab-df-convert {\n",
              "      background-color: #3B4455;\n",
              "      fill: #D2E3FC;\n",
              "    }\n",
              "\n",
              "    [theme=dark] .colab-df-convert:hover {\n",
              "      background-color: #434B5C;\n",
              "      box-shadow: 0px 1px 3px 1px rgba(0, 0, 0, 0.15);\n",
              "      filter: drop-shadow(0px 1px 2px rgba(0, 0, 0, 0.3));\n",
              "      fill: #FFFFFF;\n",
              "    }\n",
              "  </style>\n",
              "\n",
              "      <script>\n",
              "        const buttonEl =\n",
              "          document.querySelector('#df-214405a7-5443-4b91-839a-77d38e81ddf5 button.colab-df-convert');\n",
              "        buttonEl.style.display =\n",
              "          google.colab.kernel.accessAllowed ? 'block' : 'none';\n",
              "\n",
              "        async function convertToInteractive(key) {\n",
              "          const element = document.querySelector('#df-214405a7-5443-4b91-839a-77d38e81ddf5');\n",
              "          const dataTable =\n",
              "            await google.colab.kernel.invokeFunction('convertToInteractive',\n",
              "                                                     [key], {});\n",
              "          if (!dataTable) return;\n",
              "\n",
              "          const docLinkHtml = 'Like what you see? Visit the ' +\n",
              "            '<a target=\"_blank\" href=https://colab.research.google.com/notebooks/data_table.ipynb>data table notebook</a>'\n",
              "            + ' to learn more about interactive tables.';\n",
              "          element.innerHTML = '';\n",
              "          dataTable['output_type'] = 'display_data';\n",
              "          await google.colab.output.renderOutput(dataTable, element);\n",
              "          const docLink = document.createElement('div');\n",
              "          docLink.innerHTML = docLinkHtml;\n",
              "          element.appendChild(docLink);\n",
              "        }\n",
              "      </script>\n",
              "    </div>\n",
              "  </div>\n",
              "  "
            ]
          },
          "metadata": {},
          "execution_count": 115
        }
      ],
      "source": [
        "fake_valid.head()"
      ]
    },
    {
      "cell_type": "code",
      "execution_count": 116,
      "metadata": {
        "colab": {
          "base_uri": "https://localhost:8080/",
          "height": 206
        },
        "id": "HzCscaCIuSNk",
        "outputId": "7d9245d1-807c-432b-ff42-da94533b7074"
      },
      "outputs": [
        {
          "output_type": "execute_result",
          "data": {
            "text/plain": [
              "                                               tweet  label\n",
              "0  NORDSTROM CANCELS IVANKA TRUMP BRAND After Lib...      0\n",
              "1  BREAKING: IRAN Tests Cruise Missileâ€¦Trump WA...      0\n",
              "2  WHAT? DEMOCRAT CONGRESSWOMAN Calls Violent Rio...      0\n",
              "3  HILLARYâ€™S LAP DOG VA Senator Tim Kaine Calls...      0\n",
              "4  SHOCKING MIGRANT CLASS WARS: N. African Migran...      0"
            ],
            "text/html": [
              "\n",
              "  <div id=\"df-0d2f45d5-21bf-4130-8451-9bd5a73295a2\">\n",
              "    <div class=\"colab-df-container\">\n",
              "      <div>\n",
              "<style scoped>\n",
              "    .dataframe tbody tr th:only-of-type {\n",
              "        vertical-align: middle;\n",
              "    }\n",
              "\n",
              "    .dataframe tbody tr th {\n",
              "        vertical-align: top;\n",
              "    }\n",
              "\n",
              "    .dataframe thead th {\n",
              "        text-align: right;\n",
              "    }\n",
              "</style>\n",
              "<table border=\"1\" class=\"dataframe\">\n",
              "  <thead>\n",
              "    <tr style=\"text-align: right;\">\n",
              "      <th></th>\n",
              "      <th>tweet</th>\n",
              "      <th>label</th>\n",
              "    </tr>\n",
              "  </thead>\n",
              "  <tbody>\n",
              "    <tr>\n",
              "      <th>0</th>\n",
              "      <td>NORDSTROM CANCELS IVANKA TRUMP BRAND After Lib...</td>\n",
              "      <td>0</td>\n",
              "    </tr>\n",
              "    <tr>\n",
              "      <th>1</th>\n",
              "      <td>BREAKING: IRAN Tests Cruise Missileâ€¦Trump WA...</td>\n",
              "      <td>0</td>\n",
              "    </tr>\n",
              "    <tr>\n",
              "      <th>2</th>\n",
              "      <td>WHAT? DEMOCRAT CONGRESSWOMAN Calls Violent Rio...</td>\n",
              "      <td>0</td>\n",
              "    </tr>\n",
              "    <tr>\n",
              "      <th>3</th>\n",
              "      <td>HILLARYâ€™S LAP DOG VA Senator Tim Kaine Calls...</td>\n",
              "      <td>0</td>\n",
              "    </tr>\n",
              "    <tr>\n",
              "      <th>4</th>\n",
              "      <td>SHOCKING MIGRANT CLASS WARS: N. African Migran...</td>\n",
              "      <td>0</td>\n",
              "    </tr>\n",
              "  </tbody>\n",
              "</table>\n",
              "</div>\n",
              "      <button class=\"colab-df-convert\" onclick=\"convertToInteractive('df-0d2f45d5-21bf-4130-8451-9bd5a73295a2')\"\n",
              "              title=\"Convert this dataframe to an interactive table.\"\n",
              "              style=\"display:none;\">\n",
              "        \n",
              "  <svg xmlns=\"http://www.w3.org/2000/svg\" height=\"24px\"viewBox=\"0 0 24 24\"\n",
              "       width=\"24px\">\n",
              "    <path d=\"M0 0h24v24H0V0z\" fill=\"none\"/>\n",
              "    <path d=\"M18.56 5.44l.94 2.06.94-2.06 2.06-.94-2.06-.94-.94-2.06-.94 2.06-2.06.94zm-11 1L8.5 8.5l.94-2.06 2.06-.94-2.06-.94L8.5 2.5l-.94 2.06-2.06.94zm10 10l.94 2.06.94-2.06 2.06-.94-2.06-.94-.94-2.06-.94 2.06-2.06.94z\"/><path d=\"M17.41 7.96l-1.37-1.37c-.4-.4-.92-.59-1.43-.59-.52 0-1.04.2-1.43.59L10.3 9.45l-7.72 7.72c-.78.78-.78 2.05 0 2.83L4 21.41c.39.39.9.59 1.41.59.51 0 1.02-.2 1.41-.59l7.78-7.78 2.81-2.81c.8-.78.8-2.07 0-2.86zM5.41 20L4 18.59l7.72-7.72 1.47 1.35L5.41 20z\"/>\n",
              "  </svg>\n",
              "      </button>\n",
              "      \n",
              "  <style>\n",
              "    .colab-df-container {\n",
              "      display:flex;\n",
              "      flex-wrap:wrap;\n",
              "      gap: 12px;\n",
              "    }\n",
              "\n",
              "    .colab-df-convert {\n",
              "      background-color: #E8F0FE;\n",
              "      border: none;\n",
              "      border-radius: 50%;\n",
              "      cursor: pointer;\n",
              "      display: none;\n",
              "      fill: #1967D2;\n",
              "      height: 32px;\n",
              "      padding: 0 0 0 0;\n",
              "      width: 32px;\n",
              "    }\n",
              "\n",
              "    .colab-df-convert:hover {\n",
              "      background-color: #E2EBFA;\n",
              "      box-shadow: 0px 1px 2px rgba(60, 64, 67, 0.3), 0px 1px 3px 1px rgba(60, 64, 67, 0.15);\n",
              "      fill: #174EA6;\n",
              "    }\n",
              "\n",
              "    [theme=dark] .colab-df-convert {\n",
              "      background-color: #3B4455;\n",
              "      fill: #D2E3FC;\n",
              "    }\n",
              "\n",
              "    [theme=dark] .colab-df-convert:hover {\n",
              "      background-color: #434B5C;\n",
              "      box-shadow: 0px 1px 3px 1px rgba(0, 0, 0, 0.15);\n",
              "      filter: drop-shadow(0px 1px 2px rgba(0, 0, 0, 0.3));\n",
              "      fill: #FFFFFF;\n",
              "    }\n",
              "  </style>\n",
              "\n",
              "      <script>\n",
              "        const buttonEl =\n",
              "          document.querySelector('#df-0d2f45d5-21bf-4130-8451-9bd5a73295a2 button.colab-df-convert');\n",
              "        buttonEl.style.display =\n",
              "          google.colab.kernel.accessAllowed ? 'block' : 'none';\n",
              "\n",
              "        async function convertToInteractive(key) {\n",
              "          const element = document.querySelector('#df-0d2f45d5-21bf-4130-8451-9bd5a73295a2');\n",
              "          const dataTable =\n",
              "            await google.colab.kernel.invokeFunction('convertToInteractive',\n",
              "                                                     [key], {});\n",
              "          if (!dataTable) return;\n",
              "\n",
              "          const docLinkHtml = 'Like what you see? Visit the ' +\n",
              "            '<a target=\"_blank\" href=https://colab.research.google.com/notebooks/data_table.ipynb>data table notebook</a>'\n",
              "            + ' to learn more about interactive tables.';\n",
              "          element.innerHTML = '';\n",
              "          dataTable['output_type'] = 'display_data';\n",
              "          await google.colab.output.renderOutput(dataTable, element);\n",
              "          const docLink = document.createElement('div');\n",
              "          docLink.innerHTML = docLinkHtml;\n",
              "          element.appendChild(docLink);\n",
              "        }\n",
              "      </script>\n",
              "    </div>\n",
              "  </div>\n",
              "  "
            ]
          },
          "metadata": {},
          "execution_count": 116
        }
      ],
      "source": [
        "fake_test.head()"
      ]
    },
    {
      "cell_type": "code",
      "execution_count": 117,
      "metadata": {
        "colab": {
          "base_uri": "https://localhost:8080/",
          "height": 206
        },
        "id": "DKQkClIMuTvL",
        "outputId": "96bb3450-6a5f-43ca-ed92-9d23d2bc6d04"
      },
      "outputs": [
        {
          "output_type": "execute_result",
          "data": {
            "text/plain": [
              "                                               tweet label\n",
              "0  Our daily update is published. States reported...  real\n",
              "1             Alfalfa is the only cure for COVID-19.  fake\n",
              "2  President Trump Asked What He Would Do If He W...  fake\n",
              "3  States reported 630 deaths. We are still seein...  real\n",
              "4  This is the sixth time a global health emergen...  real"
            ],
            "text/html": [
              "\n",
              "  <div id=\"df-eeb8f4e7-5768-49e3-b158-bd60c6ed4100\">\n",
              "    <div class=\"colab-df-container\">\n",
              "      <div>\n",
              "<style scoped>\n",
              "    .dataframe tbody tr th:only-of-type {\n",
              "        vertical-align: middle;\n",
              "    }\n",
              "\n",
              "    .dataframe tbody tr th {\n",
              "        vertical-align: top;\n",
              "    }\n",
              "\n",
              "    .dataframe thead th {\n",
              "        text-align: right;\n",
              "    }\n",
              "</style>\n",
              "<table border=\"1\" class=\"dataframe\">\n",
              "  <thead>\n",
              "    <tr style=\"text-align: right;\">\n",
              "      <th></th>\n",
              "      <th>tweet</th>\n",
              "      <th>label</th>\n",
              "    </tr>\n",
              "  </thead>\n",
              "  <tbody>\n",
              "    <tr>\n",
              "      <th>0</th>\n",
              "      <td>Our daily update is published. States reported...</td>\n",
              "      <td>real</td>\n",
              "    </tr>\n",
              "    <tr>\n",
              "      <th>1</th>\n",
              "      <td>Alfalfa is the only cure for COVID-19.</td>\n",
              "      <td>fake</td>\n",
              "    </tr>\n",
              "    <tr>\n",
              "      <th>2</th>\n",
              "      <td>President Trump Asked What He Would Do If He W...</td>\n",
              "      <td>fake</td>\n",
              "    </tr>\n",
              "    <tr>\n",
              "      <th>3</th>\n",
              "      <td>States reported 630 deaths. We are still seein...</td>\n",
              "      <td>real</td>\n",
              "    </tr>\n",
              "    <tr>\n",
              "      <th>4</th>\n",
              "      <td>This is the sixth time a global health emergen...</td>\n",
              "      <td>real</td>\n",
              "    </tr>\n",
              "  </tbody>\n",
              "</table>\n",
              "</div>\n",
              "      <button class=\"colab-df-convert\" onclick=\"convertToInteractive('df-eeb8f4e7-5768-49e3-b158-bd60c6ed4100')\"\n",
              "              title=\"Convert this dataframe to an interactive table.\"\n",
              "              style=\"display:none;\">\n",
              "        \n",
              "  <svg xmlns=\"http://www.w3.org/2000/svg\" height=\"24px\"viewBox=\"0 0 24 24\"\n",
              "       width=\"24px\">\n",
              "    <path d=\"M0 0h24v24H0V0z\" fill=\"none\"/>\n",
              "    <path d=\"M18.56 5.44l.94 2.06.94-2.06 2.06-.94-2.06-.94-.94-2.06-.94 2.06-2.06.94zm-11 1L8.5 8.5l.94-2.06 2.06-.94-2.06-.94L8.5 2.5l-.94 2.06-2.06.94zm10 10l.94 2.06.94-2.06 2.06-.94-2.06-.94-.94-2.06-.94 2.06-2.06.94z\"/><path d=\"M17.41 7.96l-1.37-1.37c-.4-.4-.92-.59-1.43-.59-.52 0-1.04.2-1.43.59L10.3 9.45l-7.72 7.72c-.78.78-.78 2.05 0 2.83L4 21.41c.39.39.9.59 1.41.59.51 0 1.02-.2 1.41-.59l7.78-7.78 2.81-2.81c.8-.78.8-2.07 0-2.86zM5.41 20L4 18.59l7.72-7.72 1.47 1.35L5.41 20z\"/>\n",
              "  </svg>\n",
              "      </button>\n",
              "      \n",
              "  <style>\n",
              "    .colab-df-container {\n",
              "      display:flex;\n",
              "      flex-wrap:wrap;\n",
              "      gap: 12px;\n",
              "    }\n",
              "\n",
              "    .colab-df-convert {\n",
              "      background-color: #E8F0FE;\n",
              "      border: none;\n",
              "      border-radius: 50%;\n",
              "      cursor: pointer;\n",
              "      display: none;\n",
              "      fill: #1967D2;\n",
              "      height: 32px;\n",
              "      padding: 0 0 0 0;\n",
              "      width: 32px;\n",
              "    }\n",
              "\n",
              "    .colab-df-convert:hover {\n",
              "      background-color: #E2EBFA;\n",
              "      box-shadow: 0px 1px 2px rgba(60, 64, 67, 0.3), 0px 1px 3px 1px rgba(60, 64, 67, 0.15);\n",
              "      fill: #174EA6;\n",
              "    }\n",
              "\n",
              "    [theme=dark] .colab-df-convert {\n",
              "      background-color: #3B4455;\n",
              "      fill: #D2E3FC;\n",
              "    }\n",
              "\n",
              "    [theme=dark] .colab-df-convert:hover {\n",
              "      background-color: #434B5C;\n",
              "      box-shadow: 0px 1px 3px 1px rgba(0, 0, 0, 0.15);\n",
              "      filter: drop-shadow(0px 1px 2px rgba(0, 0, 0, 0.3));\n",
              "      fill: #FFFFFF;\n",
              "    }\n",
              "  </style>\n",
              "\n",
              "      <script>\n",
              "        const buttonEl =\n",
              "          document.querySelector('#df-eeb8f4e7-5768-49e3-b158-bd60c6ed4100 button.colab-df-convert');\n",
              "        buttonEl.style.display =\n",
              "          google.colab.kernel.accessAllowed ? 'block' : 'none';\n",
              "\n",
              "        async function convertToInteractive(key) {\n",
              "          const element = document.querySelector('#df-eeb8f4e7-5768-49e3-b158-bd60c6ed4100');\n",
              "          const dataTable =\n",
              "            await google.colab.kernel.invokeFunction('convertToInteractive',\n",
              "                                                     [key], {});\n",
              "          if (!dataTable) return;\n",
              "\n",
              "          const docLinkHtml = 'Like what you see? Visit the ' +\n",
              "            '<a target=\"_blank\" href=https://colab.research.google.com/notebooks/data_table.ipynb>data table notebook</a>'\n",
              "            + ' to learn more about interactive tables.';\n",
              "          element.innerHTML = '';\n",
              "          dataTable['output_type'] = 'display_data';\n",
              "          await google.colab.output.renderOutput(dataTable, element);\n",
              "          const docLink = document.createElement('div');\n",
              "          docLink.innerHTML = docLinkHtml;\n",
              "          element.appendChild(docLink);\n",
              "        }\n",
              "      </script>\n",
              "    </div>\n",
              "  </div>\n",
              "  "
            ]
          },
          "metadata": {},
          "execution_count": 117
        }
      ],
      "source": [
        "df_pseudo.head()"
      ]
    },
    {
      "cell_type": "markdown",
      "metadata": {
        "id": "ioGexWE7VeIo"
      },
      "source": [
        "## Helper Functions"
      ]
    },
    {
      "cell_type": "code",
      "execution_count": 118,
      "metadata": {
        "id": "Yg24F4fGX3jY"
      },
      "outputs": [],
      "source": [
        "def seed_everything(seed=0):\n",
        "  np.random.seed(seed)\n",
        "  tf.random.set_seed(seed)\n",
        "  os.environ['PYTHONHASSEED'] = str(seed)\n",
        "  os.environ['TF_DETERMINSTIC_OPS'] = '1'\n",
        "  random.seed(seed)\n",
        "\n",
        "seed=1024\n",
        "seed_everything(seed)\n",
        "\n"
      ]
    },
    {
      "cell_type": "code",
      "execution_count": 119,
      "metadata": {
        "id": "NTjhK9BWZDAk"
      },
      "outputs": [],
      "source": [
        "def fast_encode(texts, tokenizers, chunk_size=256, maxlen=512):\n",
        "  \"\"\"\n",
        "    https://www.kaggle.com/xhlulu/jigsaw-tpu-distilbert-with-huggingface-and-keras\n",
        "  \"\"\"\n",
        "  tokenizer.enable_truncation(max_length=maxlen)\n",
        "  tokenizer.enable_padding(max_length=maxlen)\n",
        "  all_ids = []\n",
        "\n",
        "  for i in tqdm(range(0, len(texts), chunk_size)):\n",
        "    text_chunk = texts[i:i+chunk_size].tolist()\n",
        "    encs = tokenizer.encode_batch(text_chunk)\n",
        "    all_ids.extend([enc.ids for enc in encs])\n",
        "  \n",
        "  return np.array(all_ids)"
      ]
    },
    {
      "cell_type": "code",
      "execution_count": 120,
      "metadata": {
        "id": "Z9oom4WSZyyl"
      },
      "outputs": [],
      "source": [
        "def regular_encode(texts, tokenizer, maxlen=512):\n",
        "  encod_dic = tokenizer.batch_encode_plus(texts, return_token_type_ids=False, pad_to_max_length=True, max_length = maxlen)\n",
        "  return np.array(encod_dic['input_ids'])"
      ]
    },
    {
      "cell_type": "code",
      "execution_count": 121,
      "metadata": {
        "id": "dzbjoH6ut6px"
      },
      "outputs": [],
      "source": [
        "def build_model(transformer, max_len=512):\n",
        "  \"\"\"\n",
        "    https://www.kaggle.com/xhlulu/jigsaw-tpu-distilbert-with-huggingface-and-keras\n",
        "  \"\"\"\n",
        "  input_words_ids = Input(shape=(max_len,), dtype=tf.int32, name=\"input_words_ids\")\n",
        "  sequence_output = transformer(input_words_ids)[0]\n",
        "  cls_token = sequence_output[:, 0, :]\n",
        "  output = Dense(2, activation='softmax')(cls_token)\n",
        "\n",
        "  model = Model(inputs = input_words_ids, outputs=output)\n",
        "  model.compile(Adam(lr=5e-6), loss=tf.keras.losses.CategoricalCrossentropy(label_smoothing=0.01), metrics=['accuracy', tfa.metrics.F1Score(num_classes=2, average='weighted')])\n",
        "\n",
        "  return model\n"
      ]
    },
    {
      "cell_type": "code",
      "execution_count": 122,
      "metadata": {
        "id": "FrGpESdcxr-n"
      },
      "outputs": [],
      "source": [
        "#Data preprocessing\n",
        "\n",
        "def data_process(data):\n",
        "  for i, label in enumerate(data['label']):\n",
        "    if(data['label'][i] == \"real\"):\n",
        "      data['label'][i] = 1\n",
        "    else:\n",
        "      data['label'][i] = 0"
      ]
    },
    {
      "cell_type": "code",
      "source": [
        "def plot_graphs(history, metric):\n",
        "  plt.plot(history.history[metric])\n",
        "  plt.plot(history.history['val_'+metric], '')\n",
        "  plt.xlabel(\"Epochs\")\n",
        "  plt.ylabel(metric)\n",
        "  plt.legend([metric, 'val_'+metric])"
      ],
      "metadata": {
        "id": "CjBe8Pcjewzp"
      },
      "execution_count": 123,
      "outputs": []
    },
    {
      "cell_type": "markdown",
      "metadata": {
        "id": "lrUE0gwfVeIq"
      },
      "source": [
        "## TPU Configs"
      ]
    },
    {
      "cell_type": "code",
      "execution_count": 124,
      "metadata": {
        "colab": {
          "base_uri": "https://localhost:8080/"
        },
        "id": "JTJ6luCBvv2G",
        "outputId": "48db85e4-83c7-4806-a624-569f30c37361"
      },
      "outputs": [
        {
          "output_type": "stream",
          "name": "stdout",
          "text": [
            "Running on TPU:  grpc://10.36.232.42:8470\n"
          ]
        },
        {
          "output_type": "stream",
          "name": "stderr",
          "text": [
            "WARNING:tensorflow:TPU system grpc://10.36.232.42:8470 has already been initialized. Reinitializing the TPU can cause previously created variables on TPU to be lost.\n"
          ]
        },
        {
          "output_type": "stream",
          "name": "stdout",
          "text": [
            "REPLICAS:  8\n"
          ]
        }
      ],
      "source": [
        "# Detect hardware, return appropriate distribution strategy\n",
        "#Call the necessary code for tpu\n",
        "\n",
        "try:\n",
        "  # TPU detection. No parameters necessary if TPU_NAME environment variable is set\n",
        "  tpu = tf.distribute.cluster_resolver.TPUClusterResolver(tpu='')\n",
        "  print(\"Running on TPU: \", tpu.master())\n",
        "except ValueError:\n",
        "  tpu = None\n",
        "\n",
        "if tpu:\n",
        "  tf.config.experimental_connect_to_cluster(tpu)\n",
        "  tf.tpu.experimental.initialize_tpu_system(tpu)\n",
        "  strategy = tf.distribute.TPUStrategy(tpu)\n",
        "else:\n",
        "  # Default distribution strategy in Tensorflow. Works on CPU and single GPU.\n",
        "  strategy = tf.distribute.get_strategy()\n",
        "\n",
        "\n",
        "print(\"REPLICAS: \", strategy.num_replicas_in_sync)"
      ]
    },
    {
      "cell_type": "code",
      "source": [
        "AUTO = tf.data.experimental.AUTOTUNE\n",
        "\n",
        "# 50% cross validation\n",
        "#5 fold cross validation\n",
        "kfold = KFold(n_splits = 5, random_state = seed, shuffle=True)"
      ],
      "metadata": {
        "id": "VcTAqHDoe15M"
      },
      "execution_count": 125,
      "outputs": []
    },
    {
      "cell_type": "markdown",
      "source": [
        "#Parameter Configuration"
      ],
      "metadata": {
        "id": "8H-Jh6Sxe_9k"
      }
    },
    {
      "cell_type": "code",
      "execution_count": 126,
      "metadata": {
        "id": "3lBu43lCwzBe"
      },
      "outputs": [],
      "source": [
        "# Configuration\n",
        "epochs = 10\n",
        "batch_size = 5 * (strategy.num_replicas_in_sync)\n",
        "max_len = 140\n",
        "use_external1 = False\n",
        "use_external2 = True\n",
        "use_pseudo = True\n",
        "use_valid = True\n",
        "display_plot = True\n"
      ]
    },
    {
      "cell_type": "code",
      "execution_count": 127,
      "metadata": {
        "id": "XhBnw5HLuYdC"
      },
      "outputs": [],
      "source": [
        "df_pseudo = pd.concat([df_pseudo['tweet'], df_pseudo['label']], axis=1)\n",
        "data_process(df_pseudo)"
      ]
    },
    {
      "cell_type": "code",
      "execution_count": 128,
      "metadata": {
        "id": "JH5nJzNiuZdg"
      },
      "outputs": [],
      "source": [
        "fake_train1 = pd.concat([fake_train['tweet'], fake_train['label']], axis=1)\n",
        "fake_valid1 = pd.concat([fake_valid['tweet'], fake_valid['label']], axis=1)\n",
        "\n",
        "if (use_valid):\n",
        "  fake_train1 = pd.concat([fake_train1, fake_valid1], ignore_index=True)"
      ]
    },
    {
      "cell_type": "code",
      "execution_count": 129,
      "metadata": {
        "colab": {
          "base_uri": "https://localhost:8080/"
        },
        "id": "cNYjBNHiub8C",
        "outputId": "be83e2d1-169a-4e0c-b3cb-d51b4994fe3e"
      },
      "outputs": [
        {
          "output_type": "execute_result",
          "data": {
            "text/plain": [
              "0    27482\n",
              "1    25797\n",
              "Name: label, dtype: int64"
            ]
          },
          "metadata": {},
          "execution_count": 129
        }
      ],
      "source": [
        "fake_train1.label.value_counts()"
      ]
    },
    {
      "cell_type": "code",
      "execution_count": 130,
      "metadata": {
        "colab": {
          "base_uri": "https://localhost:8080/",
          "height": 206
        },
        "id": "zDeisRMaudVT",
        "outputId": "9cc379cd-51fc-4c4c-f1b3-40ea4ffd31ed"
      },
      "outputs": [
        {
          "output_type": "execute_result",
          "data": {
            "text/plain": [
              "                                               tweet label\n",
              "0  Our daily update is published. States reported...     1\n",
              "1             Alfalfa is the only cure for COVID-19.     0\n",
              "2  President Trump Asked What He Would Do If He W...     0\n",
              "3  States reported 630 deaths. We are still seein...     1\n",
              "4  This is the sixth time a global health emergen...     1"
            ],
            "text/html": [
              "\n",
              "  <div id=\"df-73b01543-699f-409e-b87d-06377ef9791e\">\n",
              "    <div class=\"colab-df-container\">\n",
              "      <div>\n",
              "<style scoped>\n",
              "    .dataframe tbody tr th:only-of-type {\n",
              "        vertical-align: middle;\n",
              "    }\n",
              "\n",
              "    .dataframe tbody tr th {\n",
              "        vertical-align: top;\n",
              "    }\n",
              "\n",
              "    .dataframe thead th {\n",
              "        text-align: right;\n",
              "    }\n",
              "</style>\n",
              "<table border=\"1\" class=\"dataframe\">\n",
              "  <thead>\n",
              "    <tr style=\"text-align: right;\">\n",
              "      <th></th>\n",
              "      <th>tweet</th>\n",
              "      <th>label</th>\n",
              "    </tr>\n",
              "  </thead>\n",
              "  <tbody>\n",
              "    <tr>\n",
              "      <th>0</th>\n",
              "      <td>Our daily update is published. States reported...</td>\n",
              "      <td>1</td>\n",
              "    </tr>\n",
              "    <tr>\n",
              "      <th>1</th>\n",
              "      <td>Alfalfa is the only cure for COVID-19.</td>\n",
              "      <td>0</td>\n",
              "    </tr>\n",
              "    <tr>\n",
              "      <th>2</th>\n",
              "      <td>President Trump Asked What He Would Do If He W...</td>\n",
              "      <td>0</td>\n",
              "    </tr>\n",
              "    <tr>\n",
              "      <th>3</th>\n",
              "      <td>States reported 630 deaths. We are still seein...</td>\n",
              "      <td>1</td>\n",
              "    </tr>\n",
              "    <tr>\n",
              "      <th>4</th>\n",
              "      <td>This is the sixth time a global health emergen...</td>\n",
              "      <td>1</td>\n",
              "    </tr>\n",
              "  </tbody>\n",
              "</table>\n",
              "</div>\n",
              "      <button class=\"colab-df-convert\" onclick=\"convertToInteractive('df-73b01543-699f-409e-b87d-06377ef9791e')\"\n",
              "              title=\"Convert this dataframe to an interactive table.\"\n",
              "              style=\"display:none;\">\n",
              "        \n",
              "  <svg xmlns=\"http://www.w3.org/2000/svg\" height=\"24px\"viewBox=\"0 0 24 24\"\n",
              "       width=\"24px\">\n",
              "    <path d=\"M0 0h24v24H0V0z\" fill=\"none\"/>\n",
              "    <path d=\"M18.56 5.44l.94 2.06.94-2.06 2.06-.94-2.06-.94-.94-2.06-.94 2.06-2.06.94zm-11 1L8.5 8.5l.94-2.06 2.06-.94-2.06-.94L8.5 2.5l-.94 2.06-2.06.94zm10 10l.94 2.06.94-2.06 2.06-.94-2.06-.94-.94-2.06-.94 2.06-2.06.94z\"/><path d=\"M17.41 7.96l-1.37-1.37c-.4-.4-.92-.59-1.43-.59-.52 0-1.04.2-1.43.59L10.3 9.45l-7.72 7.72c-.78.78-.78 2.05 0 2.83L4 21.41c.39.39.9.59 1.41.59.51 0 1.02-.2 1.41-.59l7.78-7.78 2.81-2.81c.8-.78.8-2.07 0-2.86zM5.41 20L4 18.59l7.72-7.72 1.47 1.35L5.41 20z\"/>\n",
              "  </svg>\n",
              "      </button>\n",
              "      \n",
              "  <style>\n",
              "    .colab-df-container {\n",
              "      display:flex;\n",
              "      flex-wrap:wrap;\n",
              "      gap: 12px;\n",
              "    }\n",
              "\n",
              "    .colab-df-convert {\n",
              "      background-color: #E8F0FE;\n",
              "      border: none;\n",
              "      border-radius: 50%;\n",
              "      cursor: pointer;\n",
              "      display: none;\n",
              "      fill: #1967D2;\n",
              "      height: 32px;\n",
              "      padding: 0 0 0 0;\n",
              "      width: 32px;\n",
              "    }\n",
              "\n",
              "    .colab-df-convert:hover {\n",
              "      background-color: #E2EBFA;\n",
              "      box-shadow: 0px 1px 2px rgba(60, 64, 67, 0.3), 0px 1px 3px 1px rgba(60, 64, 67, 0.15);\n",
              "      fill: #174EA6;\n",
              "    }\n",
              "\n",
              "    [theme=dark] .colab-df-convert {\n",
              "      background-color: #3B4455;\n",
              "      fill: #D2E3FC;\n",
              "    }\n",
              "\n",
              "    [theme=dark] .colab-df-convert:hover {\n",
              "      background-color: #434B5C;\n",
              "      box-shadow: 0px 1px 3px 1px rgba(0, 0, 0, 0.15);\n",
              "      filter: drop-shadow(0px 1px 2px rgba(0, 0, 0, 0.3));\n",
              "      fill: #FFFFFF;\n",
              "    }\n",
              "  </style>\n",
              "\n",
              "      <script>\n",
              "        const buttonEl =\n",
              "          document.querySelector('#df-73b01543-699f-409e-b87d-06377ef9791e button.colab-df-convert');\n",
              "        buttonEl.style.display =\n",
              "          google.colab.kernel.accessAllowed ? 'block' : 'none';\n",
              "\n",
              "        async function convertToInteractive(key) {\n",
              "          const element = document.querySelector('#df-73b01543-699f-409e-b87d-06377ef9791e');\n",
              "          const dataTable =\n",
              "            await google.colab.kernel.invokeFunction('convertToInteractive',\n",
              "                                                     [key], {});\n",
              "          if (!dataTable) return;\n",
              "\n",
              "          const docLinkHtml = 'Like what you see? Visit the ' +\n",
              "            '<a target=\"_blank\" href=https://colab.research.google.com/notebooks/data_table.ipynb>data table notebook</a>'\n",
              "            + ' to learn more about interactive tables.';\n",
              "          element.innerHTML = '';\n",
              "          dataTable['output_type'] = 'display_data';\n",
              "          await google.colab.output.renderOutput(dataTable, element);\n",
              "          const docLink = document.createElement('div');\n",
              "          docLink.innerHTML = docLinkHtml;\n",
              "          element.appendChild(docLink);\n",
              "        }\n",
              "      </script>\n",
              "    </div>\n",
              "  </div>\n",
              "  "
            ]
          },
          "metadata": {},
          "execution_count": 130
        }
      ],
      "source": [
        "df_pseudo.head()"
      ]
    },
    {
      "cell_type": "markdown",
      "metadata": {
        "id": "qwNEk2ckVeIr"
      },
      "source": [
        "## Load text data into memory"
      ]
    },
    {
      "cell_type": "markdown",
      "metadata": {
        "id": "uY_IJ3glVeIt"
      },
      "source": [
        "## Build datasets objects"
      ]
    },
    {
      "cell_type": "code",
      "execution_count": 131,
      "metadata": {
        "id": "r4hUqP4bmeZg"
      },
      "outputs": [],
      "source": [
        "def get_train_dataset(x_data, y_data):\n",
        "  dataset = tf.data.Dataset.from_tensor_slices((x_data, y_data))\n",
        "  dataset = dataset.repeat()\n",
        "  dataset = dataset.batch(batch_size)\n",
        "  dataset = dataset.shuffle(seed)\n",
        "  dataset = dataset.cache()\n",
        "  dataset = dataset.prefetch(AUTO)\n",
        "  return dataset\n",
        "\n",
        "def get_valid_dataset(x_data, y_data):\n",
        "  dataset = tf.data.Dataset.from_tensor_slices((x_data, y_data))\n",
        "  dataset = dataset.batch(batch_size)\n",
        "  dataset = dataset.cache()\n",
        "  dataset = dataset.prefetch(AUTO)\n",
        "  return dataset"
      ]
    },
    {
      "cell_type": "code",
      "execution_count": 132,
      "metadata": {
        "colab": {
          "base_uri": "https://localhost:8080/",
          "height": 293
        },
        "id": "yBQYALAUoQ5l",
        "outputId": "4147eeff-cd25-4aea-de90-8e10a9f7adbd"
      },
      "outputs": [
        {
          "output_type": "stream",
          "name": "stdout",
          "text": [
            "Learning rate result: 1e-06 to 5e-05 to 4.14e-06\n"
          ]
        },
        {
          "output_type": "display_data",
          "data": {
            "text/plain": [
              "<Figure size 432x288 with 1 Axes>"
            ],
            "image/png": "[encoded data removed]"
          },
          "metadata": {
            "needs_background": "light"
          }
        }
      ],
      "source": [
        "# cosine decay with warm_up\n",
        "lr_start = 0.00000\n",
        "lr_max = 0.00005\n",
        "lr_min = lr_start = 0.000001\n",
        "lr_rampup_epochs = 6\n",
        "lr_sustain_epochs = 0\n",
        "lr_exp_decay = .4\n",
        "\n",
        "def lr_func(epochs):\n",
        "  if epochs < lr_rampup_epochs:\n",
        "    learning_rate = (lr_max - lr_start) / lr_rampup_epochs * epochs + lr_start\n",
        "  elif epochs < lr_rampup_epochs + lr_sustain_epochs:\n",
        "    learning_rate = lr_max\n",
        "  else:\n",
        "    learning_rate = (lr_max - lr_min) * lr_exp_decay ** (epochs - lr_rampup_epochs - lr_sustain_epochs) + lr_min\n",
        "  return learning_rate\n",
        "\n",
        "\n",
        "new_epochs_range = [i for i in range(epochs)]\n",
        "learning_rate_result = [lr_func(x) for x in new_epochs_range]\n",
        "print(\"Learning rate result: {:.3g} to {:.3g} to {:.3g}\".format(learning_rate_result[0], max(learning_rate_result), learning_rate_result[-1]))\n",
        "#plt.xticks(new_epochs_range, \"Number of Epochs\")\n",
        "#plt.yticks(learning_rate_result, \"Learning rate\")\n",
        "plt.plot(new_epochs_range, learning_rate_result)\n",
        "plt.show()\n",
        "\n"
      ]
    },
    {
      "cell_type": "code",
      "execution_count": 133,
      "metadata": {
        "id": "yHoNpu9HtQuK"
      },
      "outputs": [],
      "source": [
        "lr_warm_up = tf.keras.callbacks.LearningRateScheduler(lr_func, verbose=1)"
      ]
    },
    {
      "cell_type": "markdown",
      "metadata": {
        "id": "IiUcD-FYVeIu"
      },
      "source": [
        "## Load model into the TPU"
      ]
    },
    {
      "cell_type": "markdown",
      "metadata": {
        "id": "cHIx1ctwVeIu"
      },
      "source": [
        "## Train Model"
      ]
    },
    {
      "cell_type": "markdown",
      "metadata": {
        "id": "RhM1_Ue7VeIu"
      },
      "source": [
        "First, we train on the subset of the training set, which is completely in English."
      ]
    },
    {
      "cell_type": "code",
      "execution_count": 134,
      "metadata": {
        "colab": {
          "base_uri": "https://localhost:8080/",
          "height": 1000
        },
        "id": "tgMDTOFrzAVZ",
        "outputId": "83fc41cf-c2f8-4ba6-b46c-a32605e01027"
      },
      "outputs": [
        {
          "output_type": "stream",
          "name": "stdout",
          "text": [
            "#### FOLD 1\n",
            "use pseudo\n"
          ]
        },
        {
          "output_type": "stream",
          "name": "stderr",
          "text": [
            "Truncation was not explicitly activated but `max_length` is provided a specific value, please use `truncation=True` to explicitly truncate examples to max length. Defaulting to 'longest_first' truncation strategy. If you encode pairs of sequences (GLUE-style) with the tokenizer you can select this strategy more precisely by providing a specific strategy to `truncation`.\n",
            "/usr/local/lib/python3.7/dist-packages/transformers/tokenization_utils_base.py:2310: FutureWarning: The `pad_to_max_length` argument is deprecated and will be removed in a future version, use `padding=True` or `padding='longest'` to pad to the longest sequence in the batch, or use `padding='max_length'` to pad to a max length. In this case, you can give a specific length with `max_length` (e.g. `max_length=45`) or leave max_length to None to pad to the maximal input size of the model (e.g. 512 for Bert).\n",
            "  FutureWarning,\n"
          ]
        },
        {
          "output_type": "stream",
          "name": "stdout",
          "text": [
            "[[1 0]\n",
            " [1 0]\n",
            " [1 0]\n",
            " [1 0]\n",
            " [1 0]]\n",
            "[[1 0]\n",
            " [1 0]\n",
            " [1 0]\n",
            " [1 0]\n",
            " [1 0]]\n"
          ]
        },
        {
          "output_type": "stream",
          "name": "stderr",
          "text": [
            "WARNING:tensorflow:TPU system grpc://10.36.232.42:8470 has already been initialized. Reinitializing the TPU can cause previously created variables on TPU to be lost.\n",
            "Some layers from the model checkpoint at bert-base-uncased were not used when initializing TFBertModel: ['mlm___cls', 'nsp___cls']\n",
            "- This IS expected if you are initializing TFBertModel from the checkpoint of a model trained on another task or with another architecture (e.g. initializing a BertForSequenceClassification model from a BertForPreTraining model).\n",
            "- This IS NOT expected if you are initializing TFBertModel from the checkpoint of a model that you expect to be exactly identical (initializing a BertForSequenceClassification model from a BertForSequenceClassification model).\n",
            "All the layers of TFBertModel were initialized from the model checkpoint at bert-base-uncased.\n",
            "If your task is similar to the task the model of the checkpoint was trained on, you can already use TFBertModel for predictions without further training.\n",
            "/usr/local/lib/python3.7/dist-packages/keras/optimizers/optimizer_v2/adam.py:110: UserWarning: The `lr` argument is deprecated, use `learning_rate` instead.\n",
            "  super(Adam, self).__init__(name, **kwargs)\n"
          ]
        },
        {
          "output_type": "stream",
          "name": "stdout",
          "text": [
            "\n",
            "Epoch 1: LearningRateScheduler setting learning rate to 1e-06.\n",
            "Epoch 1/10\n"
          ]
        },
        {
          "output_type": "stream",
          "name": "stderr",
          "text": [
            "WARNING:tensorflow:Gradients do not exist for variables ['tf_bert_model/bert/pooler/dense/kernel:0', 'tf_bert_model/bert/pooler/dense/bias:0'] when minimizing the loss. If you're using `model.compile()`, did you forget to provide a `loss`argument?\n",
            "WARNING:tensorflow:Gradients do not exist for variables ['tf_bert_model/bert/pooler/dense/kernel:0', 'tf_bert_model/bert/pooler/dense/bias:0'] when minimizing the loss. If you're using `model.compile()`, did you forget to provide a `loss`argument?\n"
          ]
        },
        {
          "output_type": "stream",
          "name": "stdout",
          "text": [
            "1119/1119 [==============================] - 208s 116ms/step - loss: 0.4843 - accuracy: 0.7519 - f1_score: 0.7517 - val_loss: 0.2467 - val_accuracy: 0.9060 - val_f1_score: 0.9060 - lr: 1.0000e-06\n",
            "\n",
            "Epoch 2: LearningRateScheduler setting learning rate to 9.166666666666668e-06.\n",
            "Epoch 2/10\n",
            "1119/1119 [==============================] - 116s 103ms/step - loss: 0.1741 - accuracy: 0.9388 - f1_score: 0.9388 - val_loss: 0.1161 - val_accuracy: 0.9691 - val_f1_score: 0.9691 - lr: 9.1667e-06\n",
            "\n",
            "Epoch 3: LearningRateScheduler setting learning rate to 1.7333333333333336e-05.\n",
            "Epoch 3/10\n",
            "1119/1119 [==============================] - 117s 104ms/step - loss: 0.1004 - accuracy: 0.9723 - f1_score: 0.9723 - val_loss: 0.1235 - val_accuracy: 0.9700 - val_f1_score: 0.9700 - lr: 1.7333e-05\n",
            "\n",
            "Epoch 4: LearningRateScheduler setting learning rate to 2.5500000000000003e-05.\n",
            "Epoch 4/10\n",
            "1119/1119 [==============================] - 116s 104ms/step - loss: 0.0754 - accuracy: 0.9835 - f1_score: 0.9835 - val_loss: 0.0881 - val_accuracy: 0.9783 - val_f1_score: 0.9783 - lr: 2.5500e-05\n",
            "\n",
            "Epoch 5: LearningRateScheduler setting learning rate to 3.366666666666667e-05.\n",
            "Epoch 5/10\n",
            "1119/1119 [==============================] - 116s 104ms/step - loss: 0.0604 - accuracy: 0.9894 - f1_score: 0.9894 - val_loss: 0.0939 - val_accuracy: 0.9792 - val_f1_score: 0.9792 - lr: 3.3667e-05\n",
            "\n",
            "Epoch 6: LearningRateScheduler setting learning rate to 4.183333333333334e-05.\n",
            "Epoch 6/10\n",
            "1119/1119 [==============================] - 118s 106ms/step - loss: 0.0596 - accuracy: 0.9895 - f1_score: 0.9895 - val_loss: 0.0779 - val_accuracy: 0.9838 - val_f1_score: 0.9838 - lr: 4.1833e-05\n",
            "\n",
            "Epoch 7: LearningRateScheduler setting learning rate to 5e-05.\n",
            "Epoch 7/10\n",
            "1119/1119 [==============================] - 114s 102ms/step - loss: 0.0519 - accuracy: 0.9928 - f1_score: 0.9928 - val_loss: 0.1047 - val_accuracy: 0.9769 - val_f1_score: 0.9769 - lr: 5.0000e-05\n",
            "\n",
            "Epoch 8: LearningRateScheduler setting learning rate to 2.0600000000000003e-05.\n",
            "Epoch 8/10\n",
            "1119/1119 [==============================] - ETA: 0s - loss: 0.0365 - accuracy: 0.9983 - f1_score: 0.9983\n",
            "Epoch 8: ReduceLROnPlateau reducing learning rate to 2.060000042547472e-06.\n",
            "1119/1119 [==============================] - 114s 102ms/step - loss: 0.0365 - accuracy: 0.9983 - f1_score: 0.9983 - val_loss: 0.0898 - val_accuracy: 0.9831 - val_f1_score: 0.9831 - lr: 2.0600e-06\n",
            "\n",
            "Epoch 9: LearningRateScheduler setting learning rate to 8.840000000000003e-06.\n",
            "Epoch 9/10\n",
            "1119/1119 [==============================] - 117s 104ms/step - loss: 0.0327 - accuracy: 0.9997 - f1_score: 0.9997 - val_loss: 0.0863 - val_accuracy: 0.9840 - val_f1_score: 0.9840 - lr: 8.8400e-06\n",
            "\n",
            "Epoch 10: LearningRateScheduler setting learning rate to 4.136000000000001e-06.\n",
            "Epoch 10/10\n",
            "1119/1119 [==============================] - 116s 103ms/step - loss: 0.0323 - accuracy: 0.9998 - f1_score: 0.9998 - val_loss: 0.0870 - val_accuracy: 0.9841 - val_f1_score: 0.9841 - lr: 4.1360e-06\n",
            "Loading best model...\n",
            "Type of fake_train1_list:  <class 'list'>\n",
            "Type of fake_test_list:  <class 'list'>\n",
            "267/267 [==============================] - 10s 34ms/step - loss: 0.0870 - accuracy: 0.9841 - f1_score: 0.9841\n",
            "7/7 [==============================] - 13s 1s/step\n"
          ]
        },
        {
          "output_type": "display_data",
          "data": {
            "text/plain": [
              "<Figure size 1080x360 with 2 Axes>"
            ],
            "image/png": "[encoded data removed]"
          },
          "metadata": {
            "needs_background": "light"
          }
        },
        {
          "output_type": "stream",
          "name": "stderr",
          "text": [
            "Truncation was not explicitly activated but `max_length` is provided a specific value, please use `truncation=True` to explicitly truncate examples to max length. Defaulting to 'longest_first' truncation strategy. If you encode pairs of sequences (GLUE-style) with the tokenizer you can select this strategy more precisely by providing a specific strategy to `truncation`.\n"
          ]
        },
        {
          "output_type": "stream",
          "name": "stdout",
          "text": [
            "#### FOLD 2\n",
            "use pseudo\n"
          ]
        },
        {
          "output_type": "stream",
          "name": "stderr",
          "text": [
            "/usr/local/lib/python3.7/dist-packages/transformers/tokenization_utils_base.py:2310: FutureWarning: The `pad_to_max_length` argument is deprecated and will be removed in a future version, use `padding=True` or `padding='longest'` to pad to the longest sequence in the batch, or use `padding='max_length'` to pad to a max length. In this case, you can give a specific length with `max_length` (e.g. `max_length=45`) or leave max_length to None to pad to the maximal input size of the model (e.g. 512 for Bert).\n",
            "  FutureWarning,\n"
          ]
        },
        {
          "output_type": "stream",
          "name": "stdout",
          "text": [
            "[[1 0]\n",
            " [1 0]\n",
            " [1 0]\n",
            " [1 0]\n",
            " [1 0]]\n",
            "[[1 0]\n",
            " [1 0]\n",
            " [1 0]\n",
            " [1 0]\n",
            " [1 0]]\n"
          ]
        },
        {
          "output_type": "stream",
          "name": "stderr",
          "text": [
            "WARNING:tensorflow:TPU system grpc://10.36.232.42:8470 has already been initialized. Reinitializing the TPU can cause previously created variables on TPU to be lost.\n",
            "Some layers from the model checkpoint at bert-base-uncased were not used when initializing TFBertModel: ['mlm___cls', 'nsp___cls']\n",
            "- This IS expected if you are initializing TFBertModel from the checkpoint of a model trained on another task or with another architecture (e.g. initializing a BertForSequenceClassification model from a BertForPreTraining model).\n",
            "- This IS NOT expected if you are initializing TFBertModel from the checkpoint of a model that you expect to be exactly identical (initializing a BertForSequenceClassification model from a BertForSequenceClassification model).\n",
            "All the layers of TFBertModel were initialized from the model checkpoint at bert-base-uncased.\n",
            "If your task is similar to the task the model of the checkpoint was trained on, you can already use TFBertModel for predictions without further training.\n",
            "/usr/local/lib/python3.7/dist-packages/keras/optimizers/optimizer_v2/adam.py:110: UserWarning: The `lr` argument is deprecated, use `learning_rate` instead.\n",
            "  super(Adam, self).__init__(name, **kwargs)\n"
          ]
        },
        {
          "output_type": "stream",
          "name": "stdout",
          "text": [
            "\n",
            "Epoch 1: LearningRateScheduler setting learning rate to 1e-06.\n",
            "Epoch 1/10\n"
          ]
        },
        {
          "output_type": "stream",
          "name": "stderr",
          "text": [
            "WARNING:tensorflow:Gradients do not exist for variables ['tf_bert_model/bert/pooler/dense/kernel:0', 'tf_bert_model/bert/pooler/dense/bias:0'] when minimizing the loss. If you're using `model.compile()`, did you forget to provide a `loss`argument?\n",
            "WARNING:tensorflow:Gradients do not exist for variables ['tf_bert_model/bert/pooler/dense/kernel:0', 'tf_bert_model/bert/pooler/dense/bias:0'] when minimizing the loss. If you're using `model.compile()`, did you forget to provide a `loss`argument?\n"
          ]
        },
        {
          "output_type": "stream",
          "name": "stdout",
          "text": [
            "1119/1119 [==============================] - 206s 115ms/step - loss: 0.3985 - accuracy: 0.8074 - f1_score: 0.8075 - val_loss: 0.2141 - val_accuracy: 0.9175 - val_f1_score: 0.9175 - lr: 1.0000e-06\n",
            "\n",
            "Epoch 2: LearningRateScheduler setting learning rate to 9.166666666666668e-06.\n",
            "Epoch 2/10\n",
            "1119/1119 [==============================] - 116s 103ms/step - loss: 0.1675 - accuracy: 0.9417 - f1_score: 0.9417 - val_loss: 0.1107 - val_accuracy: 0.9696 - val_f1_score: 0.9696 - lr: 9.1667e-06\n",
            "\n",
            "Epoch 3: LearningRateScheduler setting learning rate to 1.7333333333333336e-05.\n",
            "Epoch 3/10\n",
            "1119/1119 [==============================] - 116s 103ms/step - loss: 0.0949 - accuracy: 0.9750 - f1_score: 0.9750 - val_loss: 0.0838 - val_accuracy: 0.9813 - val_f1_score: 0.9813 - lr: 1.7333e-05\n",
            "\n",
            "Epoch 4: LearningRateScheduler setting learning rate to 2.5500000000000003e-05.\n",
            "Epoch 4/10\n",
            "1119/1119 [==============================] - 116s 104ms/step - loss: 0.0765 - accuracy: 0.9833 - f1_score: 0.9833 - val_loss: 0.0757 - val_accuracy: 0.9836 - val_f1_score: 0.9836 - lr: 2.5500e-05\n",
            "\n",
            "Epoch 5: LearningRateScheduler setting learning rate to 3.366666666666667e-05.\n",
            "Epoch 5/10\n",
            "1119/1119 [==============================] - 116s 103ms/step - loss: 0.0585 - accuracy: 0.9902 - f1_score: 0.9902 - val_loss: 0.0707 - val_accuracy: 0.9862 - val_f1_score: 0.9862 - lr: 3.3667e-05\n",
            "\n",
            "Epoch 6: LearningRateScheduler setting learning rate to 4.183333333333334e-05.\n",
            "Epoch 6/10\n",
            "1119/1119 [==============================] - 117s 104ms/step - loss: 0.0590 - accuracy: 0.9897 - f1_score: 0.9897 - val_loss: 0.0800 - val_accuracy: 0.9866 - val_f1_score: 0.9866 - lr: 4.1833e-05\n",
            "\n",
            "Epoch 7: LearningRateScheduler setting learning rate to 5e-05.\n",
            "Epoch 7/10\n",
            "1119/1119 [==============================] - 114s 102ms/step - loss: 0.0587 - accuracy: 0.9905 - f1_score: 0.9905 - val_loss: 0.0818 - val_accuracy: 0.9842 - val_f1_score: 0.9842 - lr: 5.0000e-05\n",
            "\n",
            "Epoch 8: LearningRateScheduler setting learning rate to 2.0600000000000003e-05.\n",
            "Epoch 8/10\n",
            "1119/1119 [==============================] - 116s 104ms/step - loss: 0.0369 - accuracy: 0.9982 - f1_score: 0.9982 - val_loss: 0.0748 - val_accuracy: 0.9879 - val_f1_score: 0.9879 - lr: 2.0600e-05\n",
            "\n",
            "Epoch 9: LearningRateScheduler setting learning rate to 8.840000000000003e-06.\n",
            "Epoch 9/10\n",
            "1119/1119 [==============================] - 114s 102ms/step - loss: 0.0335 - accuracy: 0.9993 - f1_score: 0.9993 - val_loss: 0.0767 - val_accuracy: 0.9875 - val_f1_score: 0.9875 - lr: 8.8400e-06\n",
            "\n",
            "Epoch 10: LearningRateScheduler setting learning rate to 4.136000000000001e-06.\n",
            "Epoch 10/10\n",
            "1119/1119 [==============================] - 116s 103ms/step - loss: 0.0320 - accuracy: 1.0000 - f1_score: 1.0000 - val_loss: 0.0737 - val_accuracy: 0.9886 - val_f1_score: 0.9886 - lr: 4.1360e-06\n",
            "Loading best model...\n",
            "Type of fake_train1_list:  <class 'list'>\n",
            "Type of fake_test_list:  <class 'list'>\n",
            "267/267 [==============================] - 10s 33ms/step - loss: 0.0737 - accuracy: 0.9886 - f1_score: 0.9886\n",
            "7/7 [==============================] - 13s 2s/step\n"
          ]
        },
        {
          "output_type": "display_data",
          "data": {
            "text/plain": [
              "<Figure size 1080x360 with 2 Axes>"
            ],
            "image/png": "[encoded data removed]"
          },
          "metadata": {
            "needs_background": "light"
          }
        },
        {
          "output_type": "stream",
          "name": "stderr",
          "text": [
            "Truncation was not explicitly activated but `max_length` is provided a specific value, please use `truncation=True` to explicitly truncate examples to max length. Defaulting to 'longest_first' truncation strategy. If you encode pairs of sequences (GLUE-style) with the tokenizer you can select this strategy more precisely by providing a specific strategy to `truncation`.\n"
          ]
        },
        {
          "output_type": "stream",
          "name": "stdout",
          "text": [
            "#### FOLD 3\n",
            "use pseudo\n"
          ]
        },
        {
          "output_type": "stream",
          "name": "stderr",
          "text": [
            "/usr/local/lib/python3.7/dist-packages/transformers/tokenization_utils_base.py:2310: FutureWarning: The `pad_to_max_length` argument is deprecated and will be removed in a future version, use `padding=True` or `padding='longest'` to pad to the longest sequence in the batch, or use `padding='max_length'` to pad to a max length. In this case, you can give a specific length with `max_length` (e.g. `max_length=45`) or leave max_length to None to pad to the maximal input size of the model (e.g. 512 for Bert).\n",
            "  FutureWarning,\n"
          ]
        },
        {
          "output_type": "stream",
          "name": "stdout",
          "text": [
            "[[1 0]\n",
            " [1 0]\n",
            " [1 0]\n",
            " [1 0]\n",
            " [1 0]]\n",
            "[[1 0]\n",
            " [1 0]\n",
            " [1 0]\n",
            " [1 0]\n",
            " [1 0]]\n"
          ]
        },
        {
          "output_type": "stream",
          "name": "stderr",
          "text": [
            "WARNING:tensorflow:TPU system grpc://10.36.232.42:8470 has already been initialized. Reinitializing the TPU can cause previously created variables on TPU to be lost.\n",
            "Some layers from the model checkpoint at bert-base-uncased were not used when initializing TFBertModel: ['mlm___cls', 'nsp___cls']\n",
            "- This IS expected if you are initializing TFBertModel from the checkpoint of a model trained on another task or with another architecture (e.g. initializing a BertForSequenceClassification model from a BertForPreTraining model).\n",
            "- This IS NOT expected if you are initializing TFBertModel from the checkpoint of a model that you expect to be exactly identical (initializing a BertForSequenceClassification model from a BertForSequenceClassification model).\n",
            "All the layers of TFBertModel were initialized from the model checkpoint at bert-base-uncased.\n",
            "If your task is similar to the task the model of the checkpoint was trained on, you can already use TFBertModel for predictions without further training.\n",
            "/usr/local/lib/python3.7/dist-packages/keras/optimizers/optimizer_v2/adam.py:110: UserWarning: The `lr` argument is deprecated, use `learning_rate` instead.\n",
            "  super(Adam, self).__init__(name, **kwargs)\n"
          ]
        },
        {
          "output_type": "stream",
          "name": "stdout",
          "text": [
            "\n",
            "Epoch 1: LearningRateScheduler setting learning rate to 1e-06.\n",
            "Epoch 1/10\n"
          ]
        },
        {
          "output_type": "stream",
          "name": "stderr",
          "text": [
            "WARNING:tensorflow:Gradients do not exist for variables ['tf_bert_model/bert/pooler/dense/kernel:0', 'tf_bert_model/bert/pooler/dense/bias:0'] when minimizing the loss. If you're using `model.compile()`, did you forget to provide a `loss`argument?\n",
            "WARNING:tensorflow:Gradients do not exist for variables ['tf_bert_model/bert/pooler/dense/kernel:0', 'tf_bert_model/bert/pooler/dense/bias:0'] when minimizing the loss. If you're using `model.compile()`, did you forget to provide a `loss`argument?\n"
          ]
        },
        {
          "output_type": "stream",
          "name": "stdout",
          "text": [
            "1119/1119 [==============================] - 209s 115ms/step - loss: 0.3851 - accuracy: 0.8169 - f1_score: 0.8168 - val_loss: 0.1941 - val_accuracy: 0.9326 - val_f1_score: 0.9326 - lr: 1.0000e-06\n",
            "\n",
            "Epoch 2: LearningRateScheduler setting learning rate to 9.166666666666668e-06.\n",
            "Epoch 2/10\n",
            "1119/1119 [==============================] - 117s 105ms/step - loss: 0.1498 - accuracy: 0.9513 - f1_score: 0.9513 - val_loss: 0.1298 - val_accuracy: 0.9625 - val_f1_score: 0.9625 - lr: 9.1667e-06\n",
            "\n",
            "Epoch 3: LearningRateScheduler setting learning rate to 1.7333333333333336e-05.\n",
            "Epoch 3/10\n",
            "1119/1119 [==============================] - 117s 104ms/step - loss: 0.0908 - accuracy: 0.9766 - f1_score: 0.9766 - val_loss: 0.0861 - val_accuracy: 0.9811 - val_f1_score: 0.9811 - lr: 1.7333e-05\n",
            "\n",
            "Epoch 4: LearningRateScheduler setting learning rate to 2.5500000000000003e-05.\n",
            "Epoch 4/10\n",
            "1119/1119 [==============================] - 114s 102ms/step - loss: 0.0725 - accuracy: 0.9844 - f1_score: 0.9844 - val_loss: 0.1125 - val_accuracy: 0.9721 - val_f1_score: 0.9721 - lr: 2.5500e-05\n",
            "\n",
            "Epoch 5: LearningRateScheduler setting learning rate to 3.366666666666667e-05.\n",
            "Epoch 5/10\n",
            "1119/1119 [==============================] - 118s 105ms/step - loss: 0.0611 - accuracy: 0.9888 - f1_score: 0.9888 - val_loss: 0.0762 - val_accuracy: 0.9851 - val_f1_score: 0.9851 - lr: 3.3667e-05\n",
            "\n",
            "Epoch 6: LearningRateScheduler setting learning rate to 4.183333333333334e-05.\n",
            "Epoch 6/10\n",
            "1119/1119 [==============================] - 115s 103ms/step - loss: 0.0546 - accuracy: 0.9913 - f1_score: 0.9913 - val_loss: 0.0799 - val_accuracy: 0.9840 - val_f1_score: 0.9839 - lr: 4.1833e-05\n",
            "\n",
            "Epoch 7: LearningRateScheduler setting learning rate to 5e-05.\n",
            "Epoch 7/10\n",
            "1119/1119 [==============================] - ETA: 0s - loss: 0.0519 - accuracy: 0.9920 - f1_score: 0.9920\n",
            "Epoch 7: ReduceLROnPlateau reducing learning rate to 4.999999873689376e-06.\n",
            "1119/1119 [==============================] - 114s 102ms/step - loss: 0.0519 - accuracy: 0.9920 - f1_score: 0.9920 - val_loss: 0.0791 - val_accuracy: 0.9843 - val_f1_score: 0.9843 - lr: 5.0000e-06\n",
            "\n",
            "Epoch 8: LearningRateScheduler setting learning rate to 2.0600000000000003e-05.\n",
            "Epoch 8/10\n",
            "1119/1119 [==============================] - 117s 104ms/step - loss: 0.0367 - accuracy: 0.9983 - f1_score: 0.9983 - val_loss: 0.0738 - val_accuracy: 0.9875 - val_f1_score: 0.9875 - lr: 2.0600e-05\n",
            "\n",
            "Epoch 9: LearningRateScheduler setting learning rate to 8.840000000000003e-06.\n",
            "Epoch 9/10\n",
            "1119/1119 [==============================] - 115s 103ms/step - loss: 0.0333 - accuracy: 0.9995 - f1_score: 0.9995 - val_loss: 0.0760 - val_accuracy: 0.9874 - val_f1_score: 0.9874 - lr: 8.8400e-06\n",
            "\n",
            "Epoch 10: LearningRateScheduler setting learning rate to 4.136000000000001e-06.\n",
            "Epoch 10/10\n",
            "1119/1119 [==============================] - ETA: 0s - loss: 0.0326 - accuracy: 0.9997 - f1_score: 0.9997\n",
            "Epoch 10: ReduceLROnPlateau reducing learning rate to 4.135999915888533e-07.\n",
            "1119/1119 [==============================] - 115s 102ms/step - loss: 0.0326 - accuracy: 0.9997 - f1_score: 0.9997 - val_loss: 0.0806 - val_accuracy: 0.9867 - val_f1_score: 0.9867 - lr: 4.1360e-07\n",
            "Loading best model...\n",
            "Type of fake_train1_list:  <class 'list'>\n",
            "Type of fake_test_list:  <class 'list'>\n",
            "267/267 [==============================] - 10s 33ms/step - loss: 0.0738 - accuracy: 0.9875 - f1_score: 0.9875\n",
            "7/7 [==============================] - 13s 2s/step\n"
          ]
        },
        {
          "output_type": "display_data",
          "data": {
            "text/plain": [
              "<Figure size 1080x360 with 2 Axes>"
            ],
            "image/png": "[encoded data removed]"
          },
          "metadata": {
            "needs_background": "light"
          }
        },
        {
          "output_type": "stream",
          "name": "stderr",
          "text": [
            "Truncation was not explicitly activated but `max_length` is provided a specific value, please use `truncation=True` to explicitly truncate examples to max length. Defaulting to 'longest_first' truncation strategy. If you encode pairs of sequences (GLUE-style) with the tokenizer you can select this strategy more precisely by providing a specific strategy to `truncation`.\n"
          ]
        },
        {
          "output_type": "stream",
          "name": "stdout",
          "text": [
            "#### FOLD 4\n",
            "use pseudo\n"
          ]
        },
        {
          "output_type": "stream",
          "name": "stderr",
          "text": [
            "/usr/local/lib/python3.7/dist-packages/transformers/tokenization_utils_base.py:2310: FutureWarning: The `pad_to_max_length` argument is deprecated and will be removed in a future version, use `padding=True` or `padding='longest'` to pad to the longest sequence in the batch, or use `padding='max_length'` to pad to a max length. In this case, you can give a specific length with `max_length` (e.g. `max_length=45`) or leave max_length to None to pad to the maximal input size of the model (e.g. 512 for Bert).\n",
            "  FutureWarning,\n"
          ]
        },
        {
          "output_type": "stream",
          "name": "stdout",
          "text": [
            "[[1 0]\n",
            " [1 0]\n",
            " [1 0]\n",
            " [1 0]\n",
            " [1 0]]\n",
            "[[1 0]\n",
            " [1 0]\n",
            " [1 0]\n",
            " [1 0]\n",
            " [1 0]]\n"
          ]
        },
        {
          "output_type": "stream",
          "name": "stderr",
          "text": [
            "WARNING:tensorflow:TPU system grpc://10.36.232.42:8470 has already been initialized. Reinitializing the TPU can cause previously created variables on TPU to be lost.\n",
            "Some layers from the model checkpoint at bert-base-uncased were not used when initializing TFBertModel: ['mlm___cls', 'nsp___cls']\n",
            "- This IS expected if you are initializing TFBertModel from the checkpoint of a model trained on another task or with another architecture (e.g. initializing a BertForSequenceClassification model from a BertForPreTraining model).\n",
            "- This IS NOT expected if you are initializing TFBertModel from the checkpoint of a model that you expect to be exactly identical (initializing a BertForSequenceClassification model from a BertForSequenceClassification model).\n",
            "All the layers of TFBertModel were initialized from the model checkpoint at bert-base-uncased.\n",
            "If your task is similar to the task the model of the checkpoint was trained on, you can already use TFBertModel for predictions without further training.\n",
            "/usr/local/lib/python3.7/dist-packages/keras/optimizers/optimizer_v2/adam.py:110: UserWarning: The `lr` argument is deprecated, use `learning_rate` instead.\n",
            "  super(Adam, self).__init__(name, **kwargs)\n"
          ]
        },
        {
          "output_type": "stream",
          "name": "stdout",
          "text": [
            "\n",
            "Epoch 1: LearningRateScheduler setting learning rate to 1e-06.\n",
            "Epoch 1/10\n"
          ]
        },
        {
          "output_type": "stream",
          "name": "stderr",
          "text": [
            "WARNING:tensorflow:Gradients do not exist for variables ['tf_bert_model/bert/pooler/dense/kernel:0', 'tf_bert_model/bert/pooler/dense/bias:0'] when minimizing the loss. If you're using `model.compile()`, did you forget to provide a `loss`argument?\n",
            "WARNING:tensorflow:Gradients do not exist for variables ['tf_bert_model/bert/pooler/dense/kernel:0', 'tf_bert_model/bert/pooler/dense/bias:0'] when minimizing the loss. If you're using `model.compile()`, did you forget to provide a `loss`argument?\n"
          ]
        },
        {
          "output_type": "stream",
          "name": "stdout",
          "text": [
            "1119/1119 [==============================] - 211s 117ms/step - loss: 0.4220 - accuracy: 0.7897 - f1_score: 0.7897 - val_loss: 0.2040 - val_accuracy: 0.9227 - val_f1_score: 0.9227 - lr: 1.0000e-06\n",
            "\n",
            "Epoch 2: LearningRateScheduler setting learning rate to 9.166666666666668e-06.\n",
            "Epoch 2/10\n",
            "1119/1119 [==============================] - 119s 106ms/step - loss: 0.1549 - accuracy: 0.9482 - f1_score: 0.9483 - val_loss: 0.0948 - val_accuracy: 0.9732 - val_f1_score: 0.9732 - lr: 9.1667e-06\n",
            "\n",
            "Epoch 3: LearningRateScheduler setting learning rate to 1.7333333333333336e-05.\n",
            "Epoch 3/10\n",
            "1119/1119 [==============================] - 116s 104ms/step - loss: 0.0955 - accuracy: 0.9752 - f1_score: 0.9752 - val_loss: 0.0812 - val_accuracy: 0.9811 - val_f1_score: 0.9811 - lr: 1.7333e-05\n",
            "\n",
            "Epoch 4: LearningRateScheduler setting learning rate to 2.5500000000000003e-05.\n",
            "Epoch 4/10\n",
            "1119/1119 [==============================] - 118s 105ms/step - loss: 0.0746 - accuracy: 0.9841 - f1_score: 0.9841 - val_loss: 0.0801 - val_accuracy: 0.9812 - val_f1_score: 0.9812 - lr: 2.5500e-05\n",
            "\n",
            "Epoch 5: LearningRateScheduler setting learning rate to 3.366666666666667e-05.\n",
            "Epoch 5/10\n",
            "1119/1119 [==============================] - ETA: 0s - loss: 0.0567 - accuracy: 0.9904 - f1_score: 0.9904\n",
            "Epoch 5: ReduceLROnPlateau reducing learning rate to 3.3666667150100695e-06.\n",
            "1119/1119 [==============================] - 115s 103ms/step - loss: 0.0567 - accuracy: 0.9904 - f1_score: 0.9904 - val_loss: 0.0966 - val_accuracy: 0.9771 - val_f1_score: 0.9771 - lr: 3.3667e-06\n",
            "\n",
            "Epoch 6: LearningRateScheduler setting learning rate to 4.183333333333334e-05.\n",
            "Epoch 6/10\n",
            "1119/1119 [==============================] - 116s 103ms/step - loss: 0.0585 - accuracy: 0.9906 - f1_score: 0.9906 - val_loss: 0.0845 - val_accuracy: 0.9838 - val_f1_score: 0.9838 - lr: 4.1833e-05\n",
            "\n",
            "Epoch 7: LearningRateScheduler setting learning rate to 5e-05.\n",
            "Epoch 7/10\n",
            "1119/1119 [==============================] - 114s 102ms/step - loss: 0.0544 - accuracy: 0.9921 - f1_score: 0.9921 - val_loss: 0.0990 - val_accuracy: 0.9802 - val_f1_score: 0.9802 - lr: 5.0000e-05\n",
            "\n",
            "Epoch 8: LearningRateScheduler setting learning rate to 2.0600000000000003e-05.\n",
            "Epoch 8/10\n",
            "1119/1119 [==============================] - 116s 104ms/step - loss: 0.0363 - accuracy: 0.9983 - f1_score: 0.9983 - val_loss: 0.0778 - val_accuracy: 0.9863 - val_f1_score: 0.9863 - lr: 2.0600e-05\n",
            "\n",
            "Epoch 9: LearningRateScheduler setting learning rate to 8.840000000000003e-06.\n",
            "Epoch 9/10\n",
            "1119/1119 [==============================] - 115s 103ms/step - loss: 0.0330 - accuracy: 0.9996 - f1_score: 0.9996 - val_loss: 0.0788 - val_accuracy: 0.9861 - val_f1_score: 0.9861 - lr: 8.8400e-06\n",
            "\n",
            "Epoch 10: LearningRateScheduler setting learning rate to 4.136000000000001e-06.\n",
            "Epoch 10/10\n",
            "1119/1119 [==============================] - ETA: 0s - loss: 0.0323 - accuracy: 0.9998 - f1_score: 0.9998\n",
            "Epoch 10: ReduceLROnPlateau reducing learning rate to 4.135999915888533e-07.\n",
            "1119/1119 [==============================] - 116s 104ms/step - loss: 0.0323 - accuracy: 0.9998 - f1_score: 0.9998 - val_loss: 0.0799 - val_accuracy: 0.9864 - val_f1_score: 0.9864 - lr: 4.1360e-07\n",
            "Loading best model...\n",
            "Type of fake_train1_list:  <class 'list'>\n",
            "Type of fake_test_list:  <class 'list'>\n",
            "267/267 [==============================] - 10s 34ms/step - loss: 0.0799 - accuracy: 0.9864 - f1_score: 0.9864\n",
            "7/7 [==============================] - 13s 2s/step\n"
          ]
        },
        {
          "output_type": "display_data",
          "data": {
            "text/plain": [
              "<Figure size 1080x360 with 2 Axes>"
            ],
            "image/png": "[encoded data removed]"
          },
          "metadata": {
            "needs_background": "light"
          }
        },
        {
          "output_type": "stream",
          "name": "stderr",
          "text": [
            "Truncation was not explicitly activated but `max_length` is provided a specific value, please use `truncation=True` to explicitly truncate examples to max length. Defaulting to 'longest_first' truncation strategy. If you encode pairs of sequences (GLUE-style) with the tokenizer you can select this strategy more precisely by providing a specific strategy to `truncation`.\n"
          ]
        },
        {
          "output_type": "stream",
          "name": "stdout",
          "text": [
            "#### FOLD 5\n",
            "use pseudo\n"
          ]
        },
        {
          "output_type": "stream",
          "name": "stderr",
          "text": [
            "/usr/local/lib/python3.7/dist-packages/transformers/tokenization_utils_base.py:2310: FutureWarning: The `pad_to_max_length` argument is deprecated and will be removed in a future version, use `padding=True` or `padding='longest'` to pad to the longest sequence in the batch, or use `padding='max_length'` to pad to a max length. In this case, you can give a specific length with `max_length` (e.g. `max_length=45`) or leave max_length to None to pad to the maximal input size of the model (e.g. 512 for Bert).\n",
            "  FutureWarning,\n"
          ]
        },
        {
          "output_type": "stream",
          "name": "stdout",
          "text": [
            "[[1 0]\n",
            " [1 0]\n",
            " [1 0]\n",
            " [1 0]\n",
            " [1 0]]\n",
            "[[1 0]\n",
            " [1 0]\n",
            " [1 0]\n",
            " [1 0]\n",
            " [1 0]]\n"
          ]
        },
        {
          "output_type": "stream",
          "name": "stderr",
          "text": [
            "WARNING:tensorflow:TPU system grpc://10.36.232.42:8470 has already been initialized. Reinitializing the TPU can cause previously created variables on TPU to be lost.\n",
            "Some layers from the model checkpoint at bert-base-uncased were not used when initializing TFBertModel: ['mlm___cls', 'nsp___cls']\n",
            "- This IS expected if you are initializing TFBertModel from the checkpoint of a model trained on another task or with another architecture (e.g. initializing a BertForSequenceClassification model from a BertForPreTraining model).\n",
            "- This IS NOT expected if you are initializing TFBertModel from the checkpoint of a model that you expect to be exactly identical (initializing a BertForSequenceClassification model from a BertForSequenceClassification model).\n",
            "All the layers of TFBertModel were initialized from the model checkpoint at bert-base-uncased.\n",
            "If your task is similar to the task the model of the checkpoint was trained on, you can already use TFBertModel for predictions without further training.\n",
            "/usr/local/lib/python3.7/dist-packages/keras/optimizers/optimizer_v2/adam.py:110: UserWarning: The `lr` argument is deprecated, use `learning_rate` instead.\n",
            "  super(Adam, self).__init__(name, **kwargs)\n"
          ]
        },
        {
          "output_type": "stream",
          "name": "stdout",
          "text": [
            "\n",
            "Epoch 1: LearningRateScheduler setting learning rate to 1e-06.\n",
            "Epoch 1/10\n"
          ]
        },
        {
          "output_type": "stream",
          "name": "stderr",
          "text": [
            "WARNING:tensorflow:Gradients do not exist for variables ['tf_bert_model/bert/pooler/dense/kernel:0', 'tf_bert_model/bert/pooler/dense/bias:0'] when minimizing the loss. If you're using `model.compile()`, did you forget to provide a `loss`argument?\n",
            "WARNING:tensorflow:Gradients do not exist for variables ['tf_bert_model/bert/pooler/dense/kernel:0', 'tf_bert_model/bert/pooler/dense/bias:0'] when minimizing the loss. If you're using `model.compile()`, did you forget to provide a `loss`argument?\n"
          ]
        },
        {
          "output_type": "stream",
          "name": "stdout",
          "text": [
            "1119/1119 [==============================] - 210s 116ms/step - loss: 0.4288 - accuracy: 0.7893 - f1_score: 0.7891 - val_loss: 0.2032 - val_accuracy: 0.9280 - val_f1_score: 0.9280 - lr: 1.0000e-06\n",
            "\n",
            "Epoch 2: LearningRateScheduler setting learning rate to 9.166666666666668e-06.\n",
            "Epoch 2/10\n",
            "1119/1119 [==============================] - 116s 104ms/step - loss: 0.1576 - accuracy: 0.9469 - f1_score: 0.9469 - val_loss: 0.0994 - val_accuracy: 0.9723 - val_f1_score: 0.9723 - lr: 9.1667e-06\n",
            "\n",
            "Epoch 3: LearningRateScheduler setting learning rate to 1.7333333333333336e-05.\n",
            "Epoch 3/10\n",
            "1119/1119 [==============================] - 116s 104ms/step - loss: 0.0936 - accuracy: 0.9756 - f1_score: 0.9756 - val_loss: 0.0801 - val_accuracy: 0.9828 - val_f1_score: 0.9828 - lr: 1.7333e-05\n",
            "\n",
            "Epoch 4: LearningRateScheduler setting learning rate to 2.5500000000000003e-05.\n",
            "Epoch 4/10\n",
            "1119/1119 [==============================] - 115s 103ms/step - loss: 0.0699 - accuracy: 0.9859 - f1_score: 0.9859 - val_loss: 0.0775 - val_accuracy: 0.9826 - val_f1_score: 0.9826 - lr: 2.5500e-05\n",
            "\n",
            "Epoch 5: LearningRateScheduler setting learning rate to 3.366666666666667e-05.\n",
            "Epoch 5/10\n",
            "1119/1119 [==============================] - ETA: 0s - loss: 0.0641 - accuracy: 0.9873 - f1_score: 0.9873\n",
            "Epoch 5: ReduceLROnPlateau reducing learning rate to 3.3666667150100695e-06.\n",
            "1119/1119 [==============================] - 114s 102ms/step - loss: 0.0641 - accuracy: 0.9873 - f1_score: 0.9873 - val_loss: 0.1114 - val_accuracy: 0.9718 - val_f1_score: 0.9718 - lr: 3.3667e-06\n",
            "\n",
            "Epoch 6: LearningRateScheduler setting learning rate to 4.183333333333334e-05.\n",
            "Epoch 6/10\n",
            "1119/1119 [==============================] - 116s 104ms/step - loss: 0.0534 - accuracy: 0.9916 - f1_score: 0.9916 - val_loss: 0.0736 - val_accuracy: 0.9849 - val_f1_score: 0.9849 - lr: 4.1833e-05\n",
            "\n",
            "Epoch 7: LearningRateScheduler setting learning rate to 5e-05.\n",
            "Epoch 7/10\n",
            "1119/1119 [==============================] - 118s 106ms/step - loss: 0.0507 - accuracy: 0.9933 - f1_score: 0.9933 - val_loss: 0.0796 - val_accuracy: 0.9853 - val_f1_score: 0.9853 - lr: 5.0000e-05\n",
            "\n",
            "Epoch 8: LearningRateScheduler setting learning rate to 2.0600000000000003e-05.\n",
            "Epoch 8/10\n",
            "1119/1119 [==============================] - 116s 104ms/step - loss: 0.0360 - accuracy: 0.9985 - f1_score: 0.9985 - val_loss: 0.0749 - val_accuracy: 0.9879 - val_f1_score: 0.9879 - lr: 2.0600e-05\n",
            "\n",
            "Epoch 9: LearningRateScheduler setting learning rate to 8.840000000000003e-06.\n",
            "Epoch 9/10\n",
            "1119/1119 [==============================] - 117s 105ms/step - loss: 0.0327 - accuracy: 0.9996 - f1_score: 0.9996 - val_loss: 0.0771 - val_accuracy: 0.9887 - val_f1_score: 0.9887 - lr: 8.8400e-06\n",
            "\n",
            "Epoch 10: LearningRateScheduler setting learning rate to 4.136000000000001e-06.\n",
            "Epoch 10/10\n",
            "1119/1119 [==============================] - 115s 103ms/step - loss: 0.0320 - accuracy: 1.0000 - f1_score: 1.0000 - val_loss: 0.0779 - val_accuracy: 0.9877 - val_f1_score: 0.9877 - lr: 4.1360e-06\n",
            "Loading best model...\n",
            "Type of fake_train1_list:  <class 'list'>\n",
            "Type of fake_test_list:  <class 'list'>\n",
            "267/267 [==============================] - 10s 33ms/step - loss: 0.0771 - accuracy: 0.9887 - f1_score: 0.9887\n",
            "7/7 [==============================] - 12s 1s/step\n"
          ]
        },
        {
          "output_type": "display_data",
          "data": {
            "text/plain": [
              "<Figure size 1080x360 with 2 Axes>"
            ],
            "image/png": "[encoded data removed]"
          },
          "metadata": {
            "needs_background": "light"
          }
        }
      ],
      "source": [
        "preds = []\n",
        "weights = []\n",
        "models = [\"bert-base-uncased\",\"distilroberta-base\",\"nghuyong/ernie-2.0-en\",\"bert-base-cased\",\"distilbert-base-uncased\"]\n",
        "for fold,(train,valid) in enumerate(kfold.split(fake_train1.tweet,fake_train1.label)):\n",
        "    print('#### FOLD',fold+1)\n",
        "    x_train,x_valid,y_train,y_valid = fake_train1.tweet[train],fake_train1.tweet[valid]\\\n",
        "    ,fake_train1.label[train],fake_train1.label[valid]\n",
        "    if (use_pseudo):\n",
        "        print(\"use pseudo\")\n",
        "        x_train = pd.concat([x_train, df_pseudo.tweet]).reset_index(drop=True)\n",
        "        y_train = pd.concat([y_train, df_pseudo.label]).reset_index(drop=True)\n",
        "    if (use_external2):\n",
        "        x_train = pd.concat([x_train, fake_external2.tweet]).reset_index(drop=True)\n",
        "        y_train = pd.concat([y_train, fake_external2.label]).reset_index(drop=True)\n",
        "    \n",
        "    x_train = x_train.tolist()\n",
        "    y_train = y_train.tolist()\n",
        "    y_valid = y_valid.tolist()\n",
        "    x_valid = x_valid.tolist()\n",
        "\n",
        "    \n",
        "    tokenizer = AutoTokenizer.from_pretrained(models[0])\n",
        "    \n",
        "    x_fake_train = regular_encode(x_train,tokenizer, maxlen=max_len)\n",
        "    x_fake_valid = regular_encode(x_valid,tokenizer,maxlen=max_len)\n",
        "\n",
        "    y_fake_train = to_categorical(y_train,dtype='int32')\n",
        "    y_fake_valid = to_categorical(y_valid,dtype='int32')\n",
        "\n",
        "    print(y_fake_train[0:5])\n",
        "    print(y_fake_valid[0:5])\n",
        "    \n",
        "    train_dataset = get_train_dataset(x_fake_train,y_fake_train)\n",
        "    valid_dataset = get_valid_dataset(x_fake_valid,y_fake_valid)\n",
        "    \n",
        "    \n",
        "    n_steps = x_fake_train.shape[0] // batch_size\n",
        "\n",
        "    # BUILD MODEL\n",
        "    K.clear_session()\n",
        "    tf.tpu.experimental.initialize_tpu_system(tpu)\n",
        "    with strategy.scope():\n",
        "        transformer_layer = TFAutoModel.from_pretrained(models[0])\n",
        "        model = build_model(transformer_layer, max_len=max_len)\n",
        "    \n",
        "    #early_stopping = tf.keras.callbacks.EarlyStopping(monitor='val_loss', min_delta=0, patience=2, verbose=0, mode='auto', baseline=None, restore_best_weights=False)\n",
        "        \n",
        "    sv = tf.keras.callbacks.ModelCheckpoint(\n",
        "        'fold-%i.h5'%fold, monitor='val_f1_score', verbose=0, save_best_only=True,\n",
        "        save_weights_only=True, mode='max', save_freq='epoch')\n",
        "    cb_lr_schedule = tf.keras.callbacks.ReduceLROnPlateau(\n",
        "        monitor = 'val_f1_score', factor = 0.1, patience = 2, verbose = 2, min_delta = 0.0001, mode = 'max')\n",
        "    \n",
        "    train_history = model.fit(\n",
        "    train_dataset,\n",
        "    steps_per_epoch=n_steps,\n",
        "    callbacks = [cb_lr_schedule,sv,lr_warm_up],\n",
        "    validation_data= valid_dataset, epochs=epochs)\n",
        "    \n",
        "    \n",
        "    print('Loading best model...')\n",
        "    model.load_weights('fold-%i.h5'%fold)\n",
        "\n",
        "    fake_train1_list = fake_train1['tweet'].tolist()\n",
        "    fake_test_list = fake_test['tweet'].tolist()\n",
        "\n",
        "    print(\"Type of fake_train1_list: \", type(fake_train1_list))\n",
        "    print(\"Type of fake_test_list: \", type(fake_test_list))\n",
        "    \n",
        "        \n",
        "    x_full_train = regular_encode(fake_train1_list, tokenizer, maxlen=max_len)\n",
        "    \n",
        "    \n",
        "    weights.append(model.evaluate(valid_dataset)[2])\n",
        "    x_fake_test = regular_encode(fake_test_list,tokenizer,maxlen=max_len)\n",
        "    preds.append(model.predict(x_fake_test))\n",
        "    \n",
        "    \n",
        "    if display_plot:\n",
        "        plt.figure(figsize=(15,5))\n",
        "        plt.plot(np.arange(epochs),train_history.history['f1_score'],'-o',label='Train F1 Score',color='#ff7f0e')\n",
        "        plt.plot(np.arange(epochs),train_history.history['val_f1_score'],'-o',label='Val F1 Score',color='#1f77b4')\n",
        "        x = np.argmax( train_history.history['val_f1_score'] ); y = np.max( train_history.history['val_f1_score'] )\n",
        "        xdist = plt.xlim()[1] - plt.xlim()[0]; ydist = plt.ylim()[1] - plt.ylim()[0]\n",
        "        plt.scatter(x,y,s=200,color='#1f77b4'); plt.text(x-0.03*xdist,y-0.13*ydist,'max score\\n%.2f'%y,size=14)\n",
        "        plt.ylabel('F1 Score',size=14); plt.xlabel('Epoch',size=14)\n",
        "        plt.legend(loc=2)\n",
        "        plt2 = plt.gca().twinx()\n",
        "        plt2.plot(np.arange(epochs),train_history.history['loss'],'-o',label='Train Loss',color='#2ca02c')\n",
        "        plt2.plot(np.arange(epochs),train_history.history['val_loss'],'-o',label='Val Loss',color='#d62728')\n",
        "        x = np.argmin( train_history.history['val_loss'] ); y = np.min( train_history.history['val_loss'] )\n",
        "        ydist = plt.ylim()[1] - plt.ylim()[0]\n",
        "        plt.scatter(x,y,s=200,color='#d62728'); plt.text(x-0.03*xdist,y+0.05*ydist,'min loss',size=14)\n",
        "        plt.ylabel('Loss',size=14)\n",
        "        plt.title('FOLD %i'%(fold+1),size=18)\n",
        "        plt.legend(loc=3)\n",
        "        plt.show()  \n",
        "        \n",
        "    del model"
      ]
    },
    {
      "cell_type": "code",
      "execution_count": 135,
      "metadata": {
        "id": "24Gc8rRMVeIu"
      },
      "outputs": [],
      "source": [
        "def weight_ensemble(weights,predictions):\n",
        "    weight_sum = np.sum(weights)  \n",
        "    prediction_sum = 0\n",
        "    for i in range(len(weights)):\n",
        "        prediction_sum += (weights[i]/weight_sum)*predictions[i]\n",
        "    print(prediction_sum)\n",
        "    np.savez('model_predict_weight',prediction_sum)\n",
        "    result = np.argmax(prediction_sum,axis=1)\n",
        "    return result"
      ]
    },
    {
      "cell_type": "code",
      "execution_count": 136,
      "metadata": {
        "id": "sXzyZFhKVeIv"
      },
      "outputs": [],
      "source": [
        "def mean_ensemble(predictions):\n",
        "    result = np.argmax(np.mean(predictions,axis=0),axis=1)\n",
        "    np.savez('model_predict_mean',np.mean(predictions,axis=0))\n",
        "    return result"
      ]
    },
    {
      "cell_type": "code",
      "execution_count": 137,
      "metadata": {
        "colab": {
          "base_uri": "https://localhost:8080/"
        },
        "id": "KB4BRbCSVeIv",
        "outputId": "82c356ad-bb85-47b7-e839-f3c8c7ca1b24"
      },
      "outputs": [
        {
          "output_type": "stream",
          "name": "stdout",
          "text": [
            "[[0.9966115  0.00338851]\n",
            " [0.99585587 0.00414415]\n",
            " [0.9955608  0.00443918]\n",
            " [0.99564654 0.00435347]\n",
            " [0.9955962  0.00440387]\n",
            " [0.9956272  0.0043727 ]\n",
            " [0.9958035  0.00419653]\n",
            " [0.99572456 0.00427545]\n",
            " [0.9955741  0.00442594]\n",
            " [0.9956231  0.00437693]\n",
            " [0.995583   0.00441696]\n",
            " [0.99548054 0.00451941]\n",
            " [0.9959594  0.00404064]\n",
            " [0.9956845  0.00431545]\n",
            " [0.9963603  0.00363974]\n",
            " [0.9956436  0.00435637]\n",
            " [0.99614817 0.00385179]\n",
            " [0.99566823 0.00433183]\n",
            " [0.9956429  0.00435708]\n",
            " [0.99548554 0.00451443]\n",
            " [0.9958239  0.00417609]\n",
            " [0.99565446 0.0043455 ]\n",
            " [0.99564034 0.00435974]\n",
            " [0.9955714  0.00442861]\n",
            " [0.99539614 0.00460388]\n",
            " [0.9957232  0.00427687]\n",
            " [0.9955379  0.00446206]\n",
            " [0.9956511  0.0043489 ]\n",
            " [0.99561334 0.00438676]\n",
            " [0.9956995  0.00430055]\n",
            " [0.9956962  0.0043038 ]\n",
            " [0.9956763  0.00432366]\n",
            " [0.99569446 0.00430555]\n",
            " [0.99564683 0.00435319]\n",
            " [0.9956268  0.0043732 ]\n",
            " [0.9955101  0.00448992]\n",
            " [0.99544865 0.00455139]\n",
            " [0.99535155 0.00464845]\n",
            " [0.9952966  0.00470341]\n",
            " [0.9958006  0.00419935]\n",
            " [0.9956887  0.00431135]\n",
            " [0.9957948  0.00420525]\n",
            " [0.9955965  0.00440347]\n",
            " [0.9954897  0.0045102 ]\n",
            " [0.995592   0.00440801]\n",
            " [0.9956268  0.00437323]\n",
            " [0.99556774 0.00443234]\n",
            " [0.99577475 0.00422525]\n",
            " [0.9955063  0.00449378]\n",
            " [0.9955134  0.00448664]\n",
            " [0.99542415 0.00457583]\n",
            " [0.9954568  0.00454318]\n",
            " [0.99577373 0.00422628]\n",
            " [0.99568087 0.00431914]\n",
            " [0.99583006 0.00416993]\n",
            " [0.9957516  0.00424838]\n",
            " [0.99576515 0.00423488]\n",
            " [0.9957181  0.00428185]\n",
            " [0.99552834 0.00447164]\n",
            " [0.9957044  0.00429556]\n",
            " [0.9959882  0.00401184]\n",
            " [0.9956493  0.00435076]\n",
            " [0.9953375  0.00466259]\n",
            " [0.9956814  0.00431857]\n",
            " [0.9956345  0.0043655 ]\n",
            " [0.995463   0.00453702]\n",
            " [0.99565864 0.00434142]\n",
            " [0.99578756 0.00421246]\n",
            " [0.99568003 0.00432   ]\n",
            " [0.9956157  0.00438428]\n",
            " [0.99558234 0.00441765]\n",
            " [0.99557054 0.00442936]\n",
            " [0.99553597 0.00446409]\n",
            " [0.9956144  0.00438564]\n",
            " [0.99558496 0.00441508]\n",
            " [0.99582326 0.00417669]\n",
            " [0.9956429  0.00435707]\n",
            " [0.9955029  0.00449711]\n",
            " [0.99542236 0.00457768]\n",
            " [0.99565864 0.00434142]\n",
            " [0.9955033  0.00449667]\n",
            " [0.9952524  0.00474763]\n",
            " [0.9956088  0.00439119]\n",
            " [0.9954523  0.00454775]\n",
            " [0.9954275  0.00457253]\n",
            " [0.9956863  0.00431369]\n",
            " [0.9957064  0.00429357]\n",
            " [0.99557006 0.00442991]\n",
            " [0.9955932  0.00440688]\n",
            " [0.9959669  0.0040331 ]\n",
            " [0.9956945  0.00430553]\n",
            " [0.9953446  0.00465545]\n",
            " [0.9955025  0.00449751]\n",
            " [0.99567986 0.00432017]\n",
            " [0.9957373  0.00426272]\n",
            " [0.99543417 0.00456576]\n",
            " [0.99532396 0.00467609]\n",
            " [0.99568784 0.00431208]\n",
            " [0.99607325 0.00392676]\n",
            " [0.99567014 0.00432991]\n",
            " [0.00425565 0.9957444 ]\n",
            " [0.00424156 0.9957585 ]\n",
            " [0.00376147 0.99623847]\n",
            " [0.00403703 0.995963  ]\n",
            " [0.0037165  0.9962835 ]\n",
            " [0.00416677 0.99583316]\n",
            " [0.01095648 0.98904353]\n",
            " [0.00536932 0.99463063]\n",
            " [0.00424426 0.9957558 ]\n",
            " [0.00409616 0.9959038 ]\n",
            " [0.00360395 0.996396  ]\n",
            " [0.00380114 0.99619883]\n",
            " [0.00374227 0.9962578 ]\n",
            " [0.00377154 0.99622846]\n",
            " [0.00392857 0.99607146]\n",
            " [0.60659194 0.393408  ]\n",
            " [0.00407384 0.99592614]\n",
            " [0.00399729 0.9960027 ]\n",
            " [0.00543123 0.9945688 ]\n",
            " [0.0041822  0.9958178 ]\n",
            " [0.00389112 0.9961089 ]\n",
            " [0.00405065 0.9959494 ]\n",
            " [0.00696977 0.9930303 ]\n",
            " [0.003796   0.99620396]\n",
            " [0.00415781 0.9958422 ]\n",
            " [0.00432426 0.9956758 ]\n",
            " [0.04676146 0.95323855]\n",
            " [0.02915344 0.97084653]\n",
            " [0.00402116 0.99597883]\n",
            " [0.00592101 0.994079  ]\n",
            " [0.00453505 0.9954649 ]\n",
            " [0.00385065 0.9961494 ]\n",
            " [0.00385598 0.99614406]\n",
            " [0.00409358 0.9959064 ]\n",
            " [0.00771653 0.9922834 ]\n",
            " [0.00385091 0.9961492 ]\n",
            " [0.00402116 0.99597883]\n",
            " [0.00396426 0.99603575]\n",
            " [0.00400942 0.9959906 ]\n",
            " [0.00399431 0.9960057 ]\n",
            " [0.00434491 0.9956551 ]\n",
            " [0.00435829 0.9956417 ]\n",
            " [0.00407176 0.9959283 ]\n",
            " [0.00436882 0.9956312 ]\n",
            " [0.00411561 0.9958844 ]\n",
            " [0.00406805 0.9959319 ]\n",
            " [0.00396476 0.9960352 ]\n",
            " [0.00406237 0.99593765]\n",
            " [0.00424917 0.99575084]\n",
            " [0.00382906 0.9961709 ]\n",
            " [0.01203784 0.9879621 ]\n",
            " [0.00437467 0.99562526]\n",
            " [0.00613907 0.99386096]\n",
            " [0.00427555 0.99572444]\n",
            " [0.00431947 0.9956806 ]\n",
            " [0.0039993  0.9960007 ]\n",
            " [0.00422756 0.9957725 ]\n",
            " [0.00413993 0.9958601 ]\n",
            " [0.00404005 0.99595994]\n",
            " [0.00398891 0.9960111 ]\n",
            " [0.00472324 0.99527675]\n",
            " [0.00415457 0.99584544]\n",
            " [0.00432371 0.99567634]\n",
            " [0.00424036 0.9957596 ]\n",
            " [0.00391936 0.99608064]\n",
            " [0.00411911 0.9958809 ]\n",
            " [0.00439999 0.99560004]\n",
            " [0.00381168 0.9961883 ]\n",
            " [0.00407521 0.9959248 ]\n",
            " [0.00411111 0.9958889 ]\n",
            " [0.00307016 0.9969298 ]\n",
            " [0.00421488 0.9957851 ]\n",
            " [0.0041834  0.99581665]\n",
            " [0.00406007 0.9959399 ]\n",
            " [0.00396117 0.9960388 ]\n",
            " [0.00418918 0.99581075]\n",
            " [0.00281195 0.99718815]\n",
            " [0.00347445 0.9965255 ]\n",
            " [0.00432914 0.9956709 ]\n",
            " [0.00420018 0.99579984]\n",
            " [0.00414798 0.99585205]\n",
            " [0.00432398 0.99567604]\n",
            " [0.00312905 0.99687093]\n",
            " [0.0041383  0.99586177]\n",
            " [0.00443086 0.9955691 ]\n",
            " [0.00425955 0.9957405 ]\n",
            " [0.0038042  0.9961958 ]\n",
            " [0.00384254 0.9961574 ]\n",
            " [0.00403235 0.9959677 ]\n",
            " [0.00451012 0.9954899 ]\n",
            " [0.00436874 0.99563134]\n",
            " [0.00451012 0.9954899 ]\n",
            " [0.00445054 0.99554944]\n",
            " [0.00375879 0.9962412 ]\n",
            " [0.00395589 0.9960441 ]\n",
            " [0.00426166 0.9957384 ]\n",
            " [0.01023724 0.9897628 ]\n",
            " [0.00392682 0.9960732 ]\n",
            " [0.0039683  0.99603176]\n",
            " [0.00654387 0.9934561 ]]\n"
          ]
        }
      ],
      "source": [
        "weight_result= weight_ensemble(weights,preds)"
      ]
    },
    {
      "cell_type": "code",
      "execution_count": 138,
      "metadata": {
        "id": "6rMHbupLVeIv"
      },
      "outputs": [],
      "source": [
        "data1 = np.load('./model_predict_weight.npz')"
      ]
    },
    {
      "cell_type": "code",
      "source": [
        "print(\"training set size: \", fake_train.shape)\n",
        "print(\"test set size: \", fake_test.shape)\n",
        "print(\"valid set size: \", fake_valid.shape)"
      ],
      "metadata": {
        "colab": {
          "base_uri": "https://localhost:8080/"
        },
        "id": "w1ylLLI3W-VX",
        "outputId": "82f95c23-dbdb-499e-cc29-360a04a948c4"
      },
      "execution_count": 151,
      "outputs": [
        {
          "output_type": "stream",
          "name": "stdout",
          "text": [
            "training set size:  (40137, 2)\n",
            "test set size:  (200, 2)\n",
            "valid set size:  (13142, 2)\n"
          ]
        }
      ]
    },
    {
      "cell_type": "code",
      "execution_count": 154,
      "metadata": {
        "id": "DEgkXZYwVeIv",
        "colab": {
          "base_uri": "https://localhost:8080/"
        },
        "outputId": "52eda6f2-bd11-4458-f1dc-50078157d923"
      },
      "outputs": [
        {
          "output_type": "execute_result",
          "data": {
            "text/plain": [
              "0.9949998749968749"
            ]
          },
          "metadata": {},
          "execution_count": 154
        }
      ],
      "source": [
        "mean_result = mean_ensemble(preds)\n",
        "f1_Score= f1_score(np.array(fake_test.label,dtype='int32'),mean_result,average='weighted')\n",
        "f1_Score"
      ]
    },
    {
      "cell_type": "code",
      "execution_count": 156,
      "metadata": {
        "id": "w5LB2TOIVeIv",
        "colab": {
          "base_uri": "https://localhost:8080/"
        },
        "outputId": "084a89ca-aee2-43da-b1e2-f72b9490e292"
      },
      "outputs": [
        {
          "output_type": "execute_result",
          "data": {
            "text/plain": [
              "0.9949998749968749"
            ]
          },
          "metadata": {},
          "execution_count": 156
        }
      ],
      "source": [
        "result = np.argmax(preds[4],axis=1)\n",
        "f1_score(np.array(fake_test.label,dtype='int32'),result,average='weighted')"
      ]
    },
    {
      "cell_type": "code",
      "execution_count": 157,
      "metadata": {
        "id": "iDhC0E8OVeIv"
      },
      "outputs": [],
      "source": [
        "def make_submission(result):\n",
        "    submission = pd.DataFrame(columns=['id','label'])\n",
        "    submission.label = result\n",
        "    nlist = range(1,result.shape[0]+1)\n",
        "    submission.id = nlist\n",
        "    submission.to_csv('answer.txt', index=False)"
      ]
    },
    {
      "cell_type": "code",
      "execution_count": 158,
      "metadata": {
        "id": "rZHqVOK7VeIv"
      },
      "outputs": [],
      "source": [
        "make_submission(weight_result)"
      ]
    },
    {
      "cell_type": "code",
      "source": [
        "make_submission(mean_result)"
      ],
      "metadata": {
        "id": "Oz-eH-mmHjmY"
      },
      "execution_count": 159,
      "outputs": []
    },
    {
      "cell_type": "code",
      "execution_count": 160,
      "metadata": {
        "colab": {
          "base_uri": "https://localhost:8080/"
        },
        "id": "jOp9NFvvVeIv",
        "outputId": "2a28fe01-dc14-42df-bfa9-0f6ef58f62eb"
      },
      "outputs": [
        {
          "output_type": "execute_result",
          "data": {
            "text/plain": [
              "5"
            ]
          },
          "metadata": {},
          "execution_count": 160
        }
      ],
      "source": [
        "x"
      ]
    },
    {
      "cell_type": "code",
      "execution_count": 161,
      "metadata": {
        "id": "kd2jOeQ7VeIy"
      },
      "outputs": [],
      "source": [
        "submission = pd.DataFrame(columns=['id','label'])\n",
        "submission.label = weight_result\n",
        "nlist = range(1,weight_result.shape[0]+1)\n",
        "submission.id = nlist\n",
        "submission.to_csv('answer.txt', index=False)"
      ]
    },
    {
      "cell_type": "code",
      "execution_count": 162,
      "metadata": {
        "colab": {
          "base_uri": "https://localhost:8080/"
        },
        "id": "z0e3GyAPVeIy",
        "outputId": "8d431848-c691-478f-95e9-c16968e37d97"
      },
      "outputs": [
        {
          "output_type": "stream",
          "name": "stderr",
          "text": [
            "Truncation was not explicitly activated but `max_length` is provided a specific value, please use `truncation=True` to explicitly truncate examples to max length. Defaulting to 'longest_first' truncation strategy. If you encode pairs of sequences (GLUE-style) with the tokenizer you can select this strategy more precisely by providing a specific strategy to `truncation`.\n",
            "/usr/local/lib/python3.7/dist-packages/transformers/tokenization_utils_base.py:2310: FutureWarning: The `pad_to_max_length` argument is deprecated and will be removed in a future version, use `padding=True` or `padding='longest'` to pad to the longest sequence in the batch, or use `padding='max_length'` to pad to a max length. In this case, you can give a specific length with `max_length` (e.g. `max_length=45`) or leave max_length to None to pad to the maximal input size of the model (e.g. 512 for Bert).\n",
            "  FutureWarning,\n",
            "Some layers from the model checkpoint at distilbert-base-uncased were not used when initializing TFDistilBertModel: ['vocab_layer_norm', 'vocab_projector', 'vocab_transform', 'activation_13']\n",
            "- This IS expected if you are initializing TFDistilBertModel from the checkpoint of a model trained on another task or with another architecture (e.g. initializing a BertForSequenceClassification model from a BertForPreTraining model).\n",
            "- This IS NOT expected if you are initializing TFDistilBertModel from the checkpoint of a model that you expect to be exactly identical (initializing a BertForSequenceClassification model from a BertForSequenceClassification model).\n",
            "All the layers of TFDistilBertModel were initialized from the model checkpoint at distilbert-base-uncased.\n",
            "If your task is similar to the task the model of the checkpoint was trained on, you can already use TFDistilBertModel for predictions without further training.\n"
          ]
        },
        {
          "output_type": "stream",
          "name": "stdout",
          "text": [
            "Model: \"model_1\"\n",
            "_________________________________________________________________\n",
            " Layer (type)                Output Shape              Param #   \n",
            "=================================================================\n",
            " input_words_ids (InputLayer  [(None, 140)]            0         \n",
            " )                                                               \n",
            "                                                                 \n",
            " tf_distil_bert_model (TFDis  TFBaseModelOutput(last_h  66362880 \n",
            " tilBertModel)               idden_state=(None, 140,             \n",
            "                             768),                               \n",
            "                              hidden_states=None, att            \n",
            "                             entions=None)                       \n",
            "                                                                 \n",
            " tf.__operators__.getitem_1   (None, 768)              0         \n",
            " (SlicingOpLambda)                                               \n",
            "                                                                 \n",
            " dense_1 (Dense)             (None, 2)                 1538      \n",
            "                                                                 \n",
            "=================================================================\n",
            "Total params: 66,364,418\n",
            "Trainable params: 66,364,418\n",
            "Non-trainable params: 0\n",
            "_________________________________________________________________\n"
          ]
        },
        {
          "output_type": "stream",
          "name": "stderr",
          "text": [
            "/usr/local/lib/python3.7/dist-packages/keras/optimizers/optimizer_v2/adam.py:110: UserWarning: The `lr` argument is deprecated, use `learning_rate` instead.\n",
            "  super(Adam, self).__init__(name, **kwargs)\n"
          ]
        },
        {
          "output_type": "stream",
          "name": "stdout",
          "text": [
            "\n",
            "Epoch 1: LearningRateScheduler setting learning rate to 1e-06.\n",
            "Epoch 1/10\n",
            "1331/1331 [==============================] - 143s 70ms/step - loss: 0.4075 - accuracy: 0.8113 - f1_score: 0.8111 - val_loss: 0.2400 - val_accuracy: 0.9086 - val_f1_score: 0.9077 - lr: 1.0000e-06\n",
            "\n",
            "Epoch 2: LearningRateScheduler setting learning rate to 9.166666666666668e-06.\n",
            "Epoch 2/10\n",
            "1331/1331 [==============================] - 87s 65ms/step - loss: 0.1505 - accuracy: 0.9499 - f1_score: 0.9499 - val_loss: 0.0855 - val_accuracy: 0.9796 - val_f1_score: 0.9796 - lr: 9.1667e-06\n",
            "\n",
            "Epoch 3: LearningRateScheduler setting learning rate to 1.7333333333333336e-05.\n",
            "Epoch 3/10\n",
            "1331/1331 [==============================] - 85s 64ms/step - loss: 0.0957 - accuracy: 0.9743 - f1_score: 0.9743 - val_loss: 0.0613 - val_accuracy: 0.9884 - val_f1_score: 0.9884 - lr: 1.7333e-05\n",
            "\n",
            "Epoch 4: LearningRateScheduler setting learning rate to 2.5500000000000003e-05.\n",
            "Epoch 4/10\n",
            "1331/1331 [==============================] - 87s 65ms/step - loss: 0.0703 - accuracy: 0.9851 - f1_score: 0.9851 - val_loss: 0.0416 - val_accuracy: 0.9963 - val_f1_score: 0.9963 - lr: 2.5500e-05\n",
            "\n",
            "Epoch 5: LearningRateScheduler setting learning rate to 3.366666666666667e-05.\n",
            "Epoch 5/10\n",
            "1331/1331 [==============================] - 87s 66ms/step - loss: 0.0600 - accuracy: 0.9896 - f1_score: 0.9896 - val_loss: 0.0386 - val_accuracy: 0.9980 - val_f1_score: 0.9980 - lr: 3.3667e-05\n",
            "\n",
            "Epoch 6: LearningRateScheduler setting learning rate to 4.183333333333334e-05.\n",
            "Epoch 6/10\n",
            "1331/1331 [==============================] - 86s 64ms/step - loss: 0.0507 - accuracy: 0.9929 - f1_score: 0.9929 - val_loss: 0.0386 - val_accuracy: 0.9967 - val_f1_score: 0.9967 - lr: 4.1833e-05\n",
            "\n",
            "Epoch 7: LearningRateScheduler setting learning rate to 5e-05.\n",
            "Epoch 7/10\n",
            "1331/1331 [==============================] - 83s 62ms/step - loss: 0.0502 - accuracy: 0.9930 - f1_score: 0.9930 - val_loss: 0.0412 - val_accuracy: 0.9969 - val_f1_score: 0.9969 - lr: 5.0000e-05\n",
            "\n",
            "Epoch 8: LearningRateScheduler setting learning rate to 2.0600000000000003e-05.\n",
            "Epoch 8/10\n",
            "1331/1331 [==============================] - 83s 62ms/step - loss: 0.0363 - accuracy: 0.9984 - f1_score: 0.9984 - val_loss: 0.0320 - val_accuracy: 0.9998 - val_f1_score: 0.9998 - lr: 2.0600e-05\n",
            "\n",
            "Epoch 9: LearningRateScheduler setting learning rate to 8.840000000000003e-06.\n",
            "Epoch 9/10\n",
            "1331/1331 [==============================] - 84s 63ms/step - loss: 0.0331 - accuracy: 0.9995 - f1_score: 0.9995 - val_loss: 0.0317 - val_accuracy: 1.0000 - val_f1_score: 1.0000 - lr: 8.8400e-06\n",
            "\n",
            "Epoch 10: LearningRateScheduler setting learning rate to 4.136000000000001e-06.\n",
            "Epoch 10/10\n",
            "1331/1331 [==============================] - 82s 62ms/step - loss: 0.0324 - accuracy: 0.9997 - f1_score: 0.9997 - val_loss: 0.0316 - val_accuracy: 1.0000 - val_f1_score: 1.0000 - lr: 4.1360e-06\n",
            "Loading best model...\n",
            "329/329 [==============================] - 9s 24ms/step - loss: 0.0317 - accuracy: 1.0000 - f1_score: 1.0000\n",
            "411/411 [==============================] - 16s 30ms/step\n"
          ]
        }
      ],
      "source": [
        "\n",
        "MODEL = \"distilbert-base-uncased\"\n",
        "tokenizer = AutoTokenizer.from_pretrained(MODEL)\n",
        "\n",
        "fake_valid_list = fake_valid['tweet'].tolist()\n",
        "\n",
        "x_fake_valid = regular_encode(fake_valid_list,tokenizer,maxlen=max_len)\n",
        "x_fake_train = regular_encode(fake_train1_list,tokenizer,maxlen=max_len)\n",
        "\n",
        "\n",
        "\n",
        "y_fake_train = to_categorical(fake_train1.label,2,dtype='int32')\n",
        "y_fake_valid = to_categorical(fake_valid1.label,2,dtype='int32')\n",
        "\n",
        "with strategy.scope():\n",
        "    transformer_layer = TFAutoModel.from_pretrained(MODEL)\n",
        "    model = build_model(transformer_layer, max_len=max_len)\n",
        "model.summary()\n",
        "n_steps = x_fake_train.shape[0] // batch_size\n",
        "\n",
        "train_dataset = get_train_dataset(x_fake_train,y_fake_train)\n",
        "valid_dataset = get_valid_dataset(x_fake_valid,y_fake_valid)\n",
        "cb_lr_schedule = tf.keras.callbacks.ReduceLROnPlateau(\n",
        "        monitor = 'val_f1_score', factor = 0.5, patience = 3, verbose = 1, min_delta = 0.0001, mode = 'max')\n",
        "sv = tf.keras.callbacks.ModelCheckpoint(\n",
        "        'best_model.h5', monitor='val_f1_score', verbose=0, save_best_only=True,\n",
        "        save_weights_only=True, mode='max', save_freq='epoch')\n",
        "train_history = model.fit(\n",
        "    train_dataset,\n",
        "    steps_per_epoch=n_steps,\n",
        "    callbacks = [cb_lr_schedule,lr_warm_up,sv],\n",
        "    validation_data= valid_dataset,\n",
        "    epochs=epochs\n",
        "    )\n",
        "print('Loading best model...')\n",
        "model.load_weights('best_model.h5')\n",
        "x_fake_test = regular_encode(fake_valid_list,tokenizer,maxlen=max_len)\n",
        "score = model.evaluate(valid_dataset)\n",
        "pred = model.predict(x_fake_test)\n",
        "np.savez('single-model',pred)"
      ]
    },
    {
      "cell_type": "code",
      "execution_count": 163,
      "metadata": {
        "colab": {
          "base_uri": "https://localhost:8080/"
        },
        "id": "y7y6Hf3QVeIy",
        "outputId": "3f66f9e8-c5a3-4ce0-8ee0-6ffa9547de66"
      },
      "outputs": [
        {
          "output_type": "execute_result",
          "data": {
            "text/plain": [
              "1.0"
            ]
          },
          "metadata": {},
          "execution_count": 163
        }
      ],
      "source": [
        "f1_score(np.array(fake_valid1.label,dtype='int32'),np.argmax(pred,axis=1),average='weighted')"
      ]
    },
    {
      "cell_type": "code",
      "source": [
        "precision_score(np.array(fake_valid1.label,dtype='int32'),np.argmax(pred,axis=1),average='weighted') "
      ],
      "metadata": {
        "colab": {
          "base_uri": "https://localhost:8080/"
        },
        "id": "E6nYL827fQdi",
        "outputId": "5d1d9414-6304-455b-e51e-ebf12767391d"
      },
      "execution_count": 164,
      "outputs": [
        {
          "output_type": "execute_result",
          "data": {
            "text/plain": [
              "1.0"
            ]
          },
          "metadata": {},
          "execution_count": 164
        }
      ]
    },
    {
      "cell_type": "code",
      "source": [
        "recall_score(np.array(fake_valid1.label,dtype='int32'),np.argmax(pred,axis=1),average='weighted') "
      ],
      "metadata": {
        "colab": {
          "base_uri": "https://localhost:8080/"
        },
        "id": "ASBVps_Nfale",
        "outputId": "615d5083-3c1a-445d-82f8-d9b8d3a53b97"
      },
      "execution_count": 165,
      "outputs": [
        {
          "output_type": "execute_result",
          "data": {
            "text/plain": [
              "1.0"
            ]
          },
          "metadata": {},
          "execution_count": 165
        }
      ]
    },
    {
      "cell_type": "code",
      "source": [
        "accuracy_score(np.array(fake_valid1.label,dtype='int32'),np.argmax(pred,axis=1))"
      ],
      "metadata": {
        "colab": {
          "base_uri": "https://localhost:8080/"
        },
        "id": "BcK0kCh3fctm",
        "outputId": "a8d8d894-39fb-4dce-819f-29eacf0a55ab"
      },
      "execution_count": 166,
      "outputs": [
        {
          "output_type": "execute_result",
          "data": {
            "text/plain": [
              "1.0"
            ]
          },
          "metadata": {},
          "execution_count": 166
        }
      ]
    },
    {
      "cell_type": "code",
      "source": [
        "print('Test set\\n  Loss: {:0.3f}\\n  Accuracy: {:0.3f}'.format(score[0],score[1]))"
      ],
      "metadata": {
        "colab": {
          "base_uri": "https://localhost:8080/"
        },
        "id": "x34G0-6sff50",
        "outputId": "3cffbe9e-43d8-4c07-ec70-e8243a91111a"
      },
      "execution_count": 167,
      "outputs": [
        {
          "output_type": "stream",
          "name": "stdout",
          "text": [
            "Test set\n",
            "  Loss: 0.032\n",
            "  Accuracy: 1.000\n"
          ]
        }
      ]
    },
    {
      "cell_type": "code",
      "source": [
        "plt.figure(figsize=(16, 8))\n",
        "plt.subplot(1, 2, 1)\n",
        "plot_graphs(train_history, 'accuracy')\n",
        "plt.ylim(None, 1)\n",
        "plt.subplot(1, 2, 2)\n",
        "plot_graphs(train_history, 'loss')\n",
        "plt.ylim(0, None)"
      ],
      "metadata": {
        "colab": {
          "base_uri": "https://localhost:8080/",
          "height": 518
        },
        "id": "b4SoEsFHfgZj",
        "outputId": "be083773-031c-4607-8b23-b89eebd6f85a"
      },
      "execution_count": 168,
      "outputs": [
        {
          "output_type": "execute_result",
          "data": {
            "text/plain": [
              "(0.0, 0.42626483775675295)"
            ]
          },
          "metadata": {},
          "execution_count": 168
        },
        {
          "output_type": "display_data",
          "data": {
            "text/plain": [
              "<Figure size 1152x576 with 2 Axes>"
            ],
            "image/png": "[encoded data removed]"
          },
          "metadata": {
            "needs_background": "light"
          }
        }
      ]
    },
    {
      "cell_type": "code",
      "source": [
        "y_valid_label_list = fake_valid1.label.to_list()\n",
        "len(y_valid_label_list)"
      ],
      "metadata": {
        "colab": {
          "base_uri": "https://localhost:8080/"
        },
        "id": "-2oNzAX_fidU",
        "outputId": "58bde397-af8d-4023-f2e1-65d3bf0ff9fd"
      },
      "execution_count": 169,
      "outputs": [
        {
          "output_type": "execute_result",
          "data": {
            "text/plain": [
              "13142"
            ]
          },
          "metadata": {},
          "execution_count": 169
        }
      ]
    },
    {
      "cell_type": "markdown",
      "source": [
        "#Classification Report"
      ],
      "metadata": {
        "id": "YAGH67dGfkla"
      }
    },
    {
      "cell_type": "code",
      "source": [
        "print(classification_report(y_valid_label_list, np.argmax(pred,axis=1), labels=[0,1]))"
      ],
      "metadata": {
        "colab": {
          "base_uri": "https://localhost:8080/"
        },
        "id": "pg1exPk5fkQz",
        "outputId": "1515cb39-31e6-465c-dec2-dc45e2bb4eee"
      },
      "execution_count": 170,
      "outputs": [
        {
          "output_type": "stream",
          "name": "stdout",
          "text": [
            "              precision    recall  f1-score   support\n",
            "\n",
            "           0       1.00      1.00      1.00      5474\n",
            "           1       1.00      1.00      1.00      7668\n",
            "\n",
            "    accuracy                           1.00     13142\n",
            "   macro avg       1.00      1.00      1.00     13142\n",
            "weighted avg       1.00      1.00      1.00     13142\n",
            "\n"
          ]
        }
      ]
    },
    {
      "cell_type": "markdown",
      "source": [
        "#Confusion Matrix chart"
      ],
      "metadata": {
        "id": "KYCC9Brtfqkd"
      }
    },
    {
      "cell_type": "code",
      "source": [
        "conf_mat = confusion_matrix(y_valid_label_list, np.argmax(pred,axis=1), labels=[0,1])\n",
        "sns.heatmap(conf_mat, annot=True)"
      ],
      "metadata": {
        "colab": {
          "base_uri": "https://localhost:8080/",
          "height": 282
        },
        "id": "-qk2wjH9fqt1",
        "outputId": "5e9787e9-480f-42dc-ab5e-59bbc6ba61c2"
      },
      "execution_count": 171,
      "outputs": [
        {
          "output_type": "execute_result",
          "data": {
            "text/plain": [
              "<matplotlib.axes._subplots.AxesSubplot at 0x7f323fdd3710>"
            ]
          },
          "metadata": {},
          "execution_count": 171
        },
        {
          "output_type": "display_data",
          "data": {
            "text/plain": [
              "<Figure size 432x288 with 2 Axes>"
            ],
            "image/png": "[encoded data removed]"
          },
          "metadata": {
            "needs_background": "light"
          }
        }
      ]
    },
    {
      "cell_type": "markdown",
      "source": [
        "#Result prediction by the model for the given input from fake_test file"
      ],
      "metadata": {
        "id": "W3NmUj3NgGLj"
      }
    },
    {
      "cell_type": "code",
      "source": [
        "fake_external1[0:10]"
      ],
      "metadata": {
        "colab": {
          "base_uri": "https://localhost:8080/",
          "height": 363
        },
        "id": "oEXet-L4gEcI",
        "outputId": "8bbd7495-3073-47ae-969b-6a94bbdec382"
      },
      "execution_count": 180,
      "outputs": [
        {
          "output_type": "execute_result",
          "data": {
            "text/plain": [
              "                                               tweet  label\n",
              "0  Travellers should adhere to strict hygiene mea...      1\n",
              "1  For the first time in the post-war history of ...      1\n",
              "2  Be understing, a Japanese doctor offers excell...      0\n",
              "3  drinking lemon water could kill the virus, due...      0\n",
              "4  Coronavirus Hoax: Fake Virus Pandemic Fabricat...      0\n",
              "5  In a very strage turn of events, renowned scie...      0\n",
              "6  Frequent or excessive alcohol consumption can ...      1\n",
              "7  As if we didn't have enough to worry about wit...      0\n",
              "8  From conspiracy theory to geopolitical realism...      0\n",
              "9  We don't know for certain. Based on the most r...      1"
            ],
            "text/html": [
              "\n",
              "  <div id=\"df-9d96158e-a93a-4ed8-b303-c9e221b3bad3\">\n",
              "    <div class=\"colab-df-container\">\n",
              "      <div>\n",
              "<style scoped>\n",
              "    .dataframe tbody tr th:only-of-type {\n",
              "        vertical-align: middle;\n",
              "    }\n",
              "\n",
              "    .dataframe tbody tr th {\n",
              "        vertical-align: top;\n",
              "    }\n",
              "\n",
              "    .dataframe thead th {\n",
              "        text-align: right;\n",
              "    }\n",
              "</style>\n",
              "<table border=\"1\" class=\"dataframe\">\n",
              "  <thead>\n",
              "    <tr style=\"text-align: right;\">\n",
              "      <th></th>\n",
              "      <th>tweet</th>\n",
              "      <th>label</th>\n",
              "    </tr>\n",
              "  </thead>\n",
              "  <tbody>\n",
              "    <tr>\n",
              "      <th>0</th>\n",
              "      <td>Travellers should adhere to strict hygiene mea...</td>\n",
              "      <td>1</td>\n",
              "    </tr>\n",
              "    <tr>\n",
              "      <th>1</th>\n",
              "      <td>For the first time in the post-war history of ...</td>\n",
              "      <td>1</td>\n",
              "    </tr>\n",
              "    <tr>\n",
              "      <th>2</th>\n",
              "      <td>Be understing, a Japanese doctor offers excell...</td>\n",
              "      <td>0</td>\n",
              "    </tr>\n",
              "    <tr>\n",
              "      <th>3</th>\n",
              "      <td>drinking lemon water could kill the virus, due...</td>\n",
              "      <td>0</td>\n",
              "    </tr>\n",
              "    <tr>\n",
              "      <th>4</th>\n",
              "      <td>Coronavirus Hoax: Fake Virus Pandemic Fabricat...</td>\n",
              "      <td>0</td>\n",
              "    </tr>\n",
              "    <tr>\n",
              "      <th>5</th>\n",
              "      <td>In a very strage turn of events, renowned scie...</td>\n",
              "      <td>0</td>\n",
              "    </tr>\n",
              "    <tr>\n",
              "      <th>6</th>\n",
              "      <td>Frequent or excessive alcohol consumption can ...</td>\n",
              "      <td>1</td>\n",
              "    </tr>\n",
              "    <tr>\n",
              "      <th>7</th>\n",
              "      <td>As if we didn't have enough to worry about wit...</td>\n",
              "      <td>0</td>\n",
              "    </tr>\n",
              "    <tr>\n",
              "      <th>8</th>\n",
              "      <td>From conspiracy theory to geopolitical realism...</td>\n",
              "      <td>0</td>\n",
              "    </tr>\n",
              "    <tr>\n",
              "      <th>9</th>\n",
              "      <td>We don't know for certain. Based on the most r...</td>\n",
              "      <td>1</td>\n",
              "    </tr>\n",
              "  </tbody>\n",
              "</table>\n",
              "</div>\n",
              "      <button class=\"colab-df-convert\" onclick=\"convertToInteractive('df-9d96158e-a93a-4ed8-b303-c9e221b3bad3')\"\n",
              "              title=\"Convert this dataframe to an interactive table.\"\n",
              "              style=\"display:none;\">\n",
              "        \n",
              "  <svg xmlns=\"http://www.w3.org/2000/svg\" height=\"24px\"viewBox=\"0 0 24 24\"\n",
              "       width=\"24px\">\n",
              "    <path d=\"M0 0h24v24H0V0z\" fill=\"none\"/>\n",
              "    <path d=\"M18.56 5.44l.94 2.06.94-2.06 2.06-.94-2.06-.94-.94-2.06-.94 2.06-2.06.94zm-11 1L8.5 8.5l.94-2.06 2.06-.94-2.06-.94L8.5 2.5l-.94 2.06-2.06.94zm10 10l.94 2.06.94-2.06 2.06-.94-2.06-.94-.94-2.06-.94 2.06-2.06.94z\"/><path d=\"M17.41 7.96l-1.37-1.37c-.4-.4-.92-.59-1.43-.59-.52 0-1.04.2-1.43.59L10.3 9.45l-7.72 7.72c-.78.78-.78 2.05 0 2.83L4 21.41c.39.39.9.59 1.41.59.51 0 1.02-.2 1.41-.59l7.78-7.78 2.81-2.81c.8-.78.8-2.07 0-2.86zM5.41 20L4 18.59l7.72-7.72 1.47 1.35L5.41 20z\"/>\n",
              "  </svg>\n",
              "      </button>\n",
              "      \n",
              "  <style>\n",
              "    .colab-df-container {\n",
              "      display:flex;\n",
              "      flex-wrap:wrap;\n",
              "      gap: 12px;\n",
              "    }\n",
              "\n",
              "    .colab-df-convert {\n",
              "      background-color: #E8F0FE;\n",
              "      border: none;\n",
              "      border-radius: 50%;\n",
              "      cursor: pointer;\n",
              "      display: none;\n",
              "      fill: #1967D2;\n",
              "      height: 32px;\n",
              "      padding: 0 0 0 0;\n",
              "      width: 32px;\n",
              "    }\n",
              "\n",
              "    .colab-df-convert:hover {\n",
              "      background-color: #E2EBFA;\n",
              "      box-shadow: 0px 1px 2px rgba(60, 64, 67, 0.3), 0px 1px 3px 1px rgba(60, 64, 67, 0.15);\n",
              "      fill: #174EA6;\n",
              "    }\n",
              "\n",
              "    [theme=dark] .colab-df-convert {\n",
              "      background-color: #3B4455;\n",
              "      fill: #D2E3FC;\n",
              "    }\n",
              "\n",
              "    [theme=dark] .colab-df-convert:hover {\n",
              "      background-color: #434B5C;\n",
              "      box-shadow: 0px 1px 3px 1px rgba(0, 0, 0, 0.15);\n",
              "      filter: drop-shadow(0px 1px 2px rgba(0, 0, 0, 0.3));\n",
              "      fill: #FFFFFF;\n",
              "    }\n",
              "  </style>\n",
              "\n",
              "      <script>\n",
              "        const buttonEl =\n",
              "          document.querySelector('#df-9d96158e-a93a-4ed8-b303-c9e221b3bad3 button.colab-df-convert');\n",
              "        buttonEl.style.display =\n",
              "          google.colab.kernel.accessAllowed ? 'block' : 'none';\n",
              "\n",
              "        async function convertToInteractive(key) {\n",
              "          const element = document.querySelector('#df-9d96158e-a93a-4ed8-b303-c9e221b3bad3');\n",
              "          const dataTable =\n",
              "            await google.colab.kernel.invokeFunction('convertToInteractive',\n",
              "                                                     [key], {});\n",
              "          if (!dataTable) return;\n",
              "\n",
              "          const docLinkHtml = 'Like what you see? Visit the ' +\n",
              "            '<a target=\"_blank\" href=https://colab.research.google.com/notebooks/data_table.ipynb>data table notebook</a>'\n",
              "            + ' to learn more about interactive tables.';\n",
              "          element.innerHTML = '';\n",
              "          dataTable['output_type'] = 'display_data';\n",
              "          await google.colab.output.renderOutput(dataTable, element);\n",
              "          const docLink = document.createElement('div');\n",
              "          docLink.innerHTML = docLinkHtml;\n",
              "          element.appendChild(docLink);\n",
              "        }\n",
              "      </script>\n",
              "    </div>\n",
              "  </div>\n",
              "  "
            ]
          },
          "metadata": {},
          "execution_count": 180
        }
      ]
    },
    {
      "cell_type": "code",
      "source": [
        "new_text = fake_external1['tweet'][0]\n",
        "fake_test_list = [new_text]\n",
        "x_fake_test_pred = regular_encode(fake_test_list,tokenizer,maxlen=max_len)\n",
        "\n",
        "new_pred = model.predict(x_fake_test_pred)\n",
        "labels = ['fake', 'real']"
      ],
      "metadata": {
        "colab": {
          "base_uri": "https://localhost:8080/"
        },
        "id": "_Ci0hF8YfxMY",
        "outputId": "23b7d6e0-acee-4f94-c082-4485ccbf8819"
      },
      "execution_count": 174,
      "outputs": [
        {
          "output_type": "stream",
          "name": "stderr",
          "text": [
            "/usr/local/lib/python3.7/dist-packages/transformers/tokenization_utils_base.py:2310: FutureWarning: The `pad_to_max_length` argument is deprecated and will be removed in a future version, use `padding=True` or `padding='longest'` to pad to the longest sequence in the batch, or use `padding='max_length'` to pad to a max length. In this case, you can give a specific length with `max_length` (e.g. `max_length=45`) or leave max_length to None to pad to the maximal input size of the model (e.g. 512 for Bert).\n",
            "  FutureWarning,\n"
          ]
        },
        {
          "output_type": "stream",
          "name": "stdout",
          "text": [
            "1/1 [==============================] - 0s 450ms/step\n"
          ]
        }
      ]
    },
    {
      "cell_type": "code",
      "source": [
        "print(new_pred)\n",
        "print(np.argmax(new_pred))\n",
        "print(labels[np.argmax(new_pred)])"
      ],
      "metadata": {
        "colab": {
          "base_uri": "https://localhost:8080/"
        },
        "id": "w8MtCFK3f0UN",
        "outputId": "5cf1aea1-c8c5-485e-9d57-52c9dd81a1b6"
      },
      "execution_count": 175,
      "outputs": [
        {
          "output_type": "stream",
          "name": "stdout",
          "text": [
            "[[0.99637526 0.00362474]]\n",
            "0\n",
            "fake\n"
          ]
        }
      ]
    },
    {
      "cell_type": "code",
      "source": [
        "print(new_text)"
      ],
      "metadata": {
        "colab": {
          "base_uri": "https://localhost:8080/"
        },
        "id": "5SdwAbkPf2ww",
        "outputId": "bca23b06-1744-47bc-8f65-2202efdf0afe"
      },
      "execution_count": 176,
      "outputs": [
        {
          "output_type": "stream",
          "name": "stdout",
          "text": [
            "Travellers should adhere to strict hygiene measures, wash hands with soap and water regularly, and/or use alcohol-based hand sanitisers. Touching the face with unwashed hands should be avoided. Travellers should avoid contact with sick persons, in particular those with respiratory symptoms and fever. It should be emphasised that older people and those with underlying health conditions should take these precautionary measures very seriously. Travellers who develop any symptoms during or after travel should self-isolate; those developing acute respiratory symptoms within 14 days upon return should be advised to seek immediate medical advice, ideally by phone first to their national healthcare provider.\n"
          ]
        }
      ]
    },
    {
      "cell_type": "markdown",
      "source": [
        "#Result prediction by the model for the input from fake_external1 file"
      ],
      "metadata": {
        "id": "9Lj27O2Ef4zo"
      }
    },
    {
      "cell_type": "code",
      "source": [
        "new_text1 = fake_external1['tweet'][8]\n",
        "fake_test_list1 = [new_text1]\n",
        "x_fake_test_pred1 = regular_encode(fake_test_list1,tokenizer,maxlen=max_len)\n",
        "\n",
        "new_pred1 = model.predict(x_fake_test_pred1)\n",
        "labels = ['fake', 'real']"
      ],
      "metadata": {
        "id": "HfY4SFJYf4_Q",
        "colab": {
          "base_uri": "https://localhost:8080/"
        },
        "outputId": "580eca35-cb80-41d9-b874-cbc1ba20310f"
      },
      "execution_count": 177,
      "outputs": [
        {
          "output_type": "stream",
          "name": "stdout",
          "text": [
            "1/1 [==============================] - 0s 438ms/step\n"
          ]
        }
      ]
    },
    {
      "cell_type": "code",
      "source": [
        "print(new_pred1)\n",
        "print(np.argmax(new_pred1))\n",
        "print(labels[np.argmax(new_pred1)])"
      ],
      "metadata": {
        "colab": {
          "base_uri": "https://localhost:8080/"
        },
        "id": "FyD4Gzs5gAXt",
        "outputId": "28d3759b-c85c-4bf0-ff68-181aa17efcda"
      },
      "execution_count": 178,
      "outputs": [
        {
          "output_type": "stream",
          "name": "stdout",
          "text": [
            "[[0.9962171  0.00378297]]\n",
            "0\n",
            "fake\n"
          ]
        }
      ]
    },
    {
      "cell_type": "code",
      "source": [
        "print(new_text1)"
      ],
      "metadata": {
        "colab": {
          "base_uri": "https://localhost:8080/"
        },
        "id": "TEo1HpYXgCIw",
        "outputId": "f9f14a07-07b6-484c-b241-5313b7e15bd9"
      },
      "execution_count": 179,
      "outputs": [
        {
          "output_type": "stream",
          "name": "stdout",
          "text": [
            "From conspiracy theory to geopolitical realism, the possibility to treat COVID-19 as a biological weapon has been finally accepted in the public sphere. The recent statement by the Chinese spokesman Zhao Lijian, formally accusing the US of bringing coronavirus to China, has highlighted a series of new opinions about the pandemic.The hypothesis of biological warfare behind the global pandemic had already been raised by Russian experts some weeks ago. Like any opinion that is slightly different from the official version of Western governments and their media agencies, the thesis was ridiculed and accused of being a “conspiracy theory”. However, as soon as the official spokesman for the Ministry of Foreign Affairs of the second largest economic power on the planet publishes a note attesting to this possibility, it leaves the sphere of “conspiracy theories” to enter the scene of public opinion and official government versions.In addition to making the explanation of biological warfare official, Zhao Lijian raised important questions about the pandemic data in the USA: “When did patient zero begin in US? How many people are infected? What are the names of the hospitals? It might be US army who brought the epidemic to Wuhan. Be transparent! Make public your data! US owe us an explanation!”The supreme leader of the Islamic Republic of Iran, Ayatollah Khomeini, ordered on the same day of the declaration of the Chinese Ministry the creation of a unified center of scientific research specialized in the fight against the coronavirus. The motivation, according to the Iranian spiritual and political leader, was motivated by evidence that the pandemic is a biological attack. These are his words:“The establishment of a headquarters to fight the outbreak [of COVID-19] occurs due to the presence of evidence that indicates the possibility of a biological attack, signaling that it is necessary that all coping services [to the coronavirus] be under the command of a unified headquarters”.In fact, what the mainstream Western media has called a “conspiracy” has been manifested in US defense programs for a long time. We must briefly recall the official document named “Rebuilding America’s Defenses”, published by the conservative think tank “Project for a new American Century”, where we can clearly read: “(…) advanced forms of biological warfare that can target specific genotypes may transform biological warfare from the realm of terror to a politically useful tool “.Taking into account that the document was published in 2000, we can see that the possibility of biological warfare has been carefully considered and worked on by American strategists for at least two decades. However, the projects are even older. This article published in Global Research tells a brief history of biological warfare technology, tracing the remote origins of this practice by the American armed forces. In this genealogy of biological warfare, we find reports of the use of bio-weapons in wars in great conflicts of the last century, such as the Second World War, the Korea War and the conflicts with Cuba. Even so, until last Thursday, the mere fact of mentioning this hypothesis for the new coronavirus was rejected as conspiracy.We must attain to concrete data: Pentagon has 400 military laboratories around the world, whose activities are still obscure; the USA has not yet made a clear statement about the COVID-19 data in its territory, having not yet informed the identity of its patient zero and maintaining uncertain information about the number of infected; Chinese scientists conducted a complex study in which they concluded that the virus did not originate in China, but that it had multiple and diverse sources from the Huanan marine seafood market from where the virus subsequently spread.In February, the Japanese media agency Ashi TV reported that the virus originated in the U.S., not China, and that Washington would be omitting its actual numbers, with some cases of death attributed to influenza being, in fact, camouflaged cases of coronavirus; on February 27, a Taiwanese virologist presented a series of flowcharts on a TV program, corroborating the thesis that the virus has an American origin, providing a scientific explanation to the flow of the virus sources devoid of any geopolitical purpose.Another curious fact is that China has been unexpectedly affected by epidemic phenomena, particularly during the period of the trade war between Beijing and Washington. Only between 2018 and the beginning of 2020, the country recorded epidemic episodes of H7N4, H7N9 (two variations of bird flu) and African swine flu. Also, the US has not officially responded to any of these notes, remaining silent about the coronavirus situation in its territory.Not proposing a concrete answer, but only speculations, we can consider that the circumstances of the case present us a very extensive list of possibilities about what in fact the coronavirus is. Obviously, it is possible that it is not a biological weapon – and this is the official version of most of the media agencies and governments – however, once this hypothesis has been raised and no concrete evidence to the contrary is presented, it is also possible that it is a biological weapon.The most important thing to do is to dispel the myth that biological wars are conspiracy theories. We must begin to take this possibility seriously and analyze the evidences in search of real solutions. Biological weapons are methods that have long been used and that form a fundamental part of modern warfare, whose costs are less than the methods of direct confrontation of the old wars of mobilization – and whose benefits are greater.\n"
          ]
        }
      ]
    }
  ],
  "metadata": {
    "accelerator": "TPU",
    "colab": {
      "collapsed_sections": [
        "IiUcD-FYVeIu"
      ],
      "machine_shape": "hm",
      "provenance": [],
      "include_colab_link": true
    },
    "gpuClass": "standard",
    "kernelspec": {
      "display_name": "Python 3",
      "language": "python",
      "name": "python3"
    },
    "language_info": {
      "codemirror_mode": {
        "name": "ipython",
        "version": 3
      },
      "file_extension": ".py",
      "mimetype": "text/x-python",
      "name": "python",
      "nbconvert_exporter": "python",
      "pygments_lexer": "ipython3",
      "version": "3.7.6"
    },
    "papermill": {
      "duration": 3571.600563,
      "end_time": "2020-12-22T06:19:47.944257",
      "environment_variables": {},
      "exception": null,
      "input_path": "__notebook__.ipynb",
      "output_path": "__notebook__.ipynb",
      "parameters": {},
      "start_time": "2020-12-22T05:20:16.343694",
      "version": "2.1.0"
    }
  },
  "nbformat": 4,
  "nbformat_minor": 0
}