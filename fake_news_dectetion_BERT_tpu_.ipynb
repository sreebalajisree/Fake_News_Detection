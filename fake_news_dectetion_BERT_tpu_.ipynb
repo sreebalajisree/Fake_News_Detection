{
  "cells": [
    {
      "cell_type": "markdown",
      "metadata": {
        "colab_type": "text",
        "id": "view-in-github"
      },
      "source": [
        "<a href=\"https://colab.research.google.com/github/sreebalajisree/Fake_News_Detection/blob/main/fake_news_dectetion_BERT_tpu_.ipynb\" target=\"_parent\"><img src=\"https://colab.research.google.com/assets/colab-badge.svg\" alt=\"Open In Colab\"/></a>"
      ]
    },
    {
      "cell_type": "markdown",
      "metadata": {
        "id": "m9I5Gjr1VeIi"
      },
      "source": [
        "## About this notebook\n"
      ]
    },
    {
      "cell_type": "markdown",
      "metadata": {
        "id": "nJg0-4fFVeIl"
      },
      "source": [
        "Other things to try:\n",
        "\n",
        "Five-fold cross-mean fusion base 0.97709\n",
        "\n",
        "Single Fold base 0.974\n",
        "\n",
        "Five-fold cross-validation, weight fusion 0.9789\n",
        "\n",
        "In-domain data further pre-training\n",
        "\n",
        "1. Fine-tune warm_up 0.9794\n",
        "\n",
        "2. dropout 0.9706\n",
        "\n",
        "3. Utilize pseudo-tags\n",
        "\n",
        "4. Label smoothing 0.9790\n",
        "\n",
        "5: Add Indian language data\n",
        "\n",
        "6: Five-fold cross-validation, average fusion 0.9814\n",
        "\n",
        "7: Five-fold cross-validation, weight fusion 0.9789\n",
        "\n",
        "8: single fold, average fusion\n",
        "\n",
        "9: single fold, weight fusion, 10: length 130 0.978, 192 0.976\n",
        "\n"
      ]
    },
    {
      "cell_type": "code",
      "execution_count": 1,
      "metadata": {
        "colab": {
          "base_uri": "https://localhost:8080/"
        },
        "id": "DuA5HibmVw1s",
        "outputId": "e50d3c08-5a11-4a5e-e1d6-1f1824ea47e5"
      },
      "outputs": [
        {
          "name": "stdout",
          "output_type": "stream",
          "text": [
            "Looking in indexes: https://pypi.org/simple, https://us-python.pkg.dev/colab-wheels/public/simple/\n",
            "Collecting tensorflow-addons\n",
            "  Downloading tensorflow_addons-0.18.0-cp37-cp37m-manylinux_2_17_x86_64.manylinux2014_x86_64.whl (1.1 MB)\n",
            "\u001b[K     |████████████████████████████████| 1.1 MB 4.9 MB/s \n",
            "\u001b[?25hRequirement already satisfied: typeguard>=2.7 in /usr/local/lib/python3.7/dist-packages (from tensorflow-addons) (2.7.1)\n",
            "Requirement already satisfied: packaging in /usr/local/lib/python3.7/dist-packages (from tensorflow-addons) (21.3)\n",
            "Requirement already satisfied: pyparsing!=3.0.5,>=2.0.2 in /usr/local/lib/python3.7/dist-packages (from packaging->tensorflow-addons) (3.0.9)\n",
            "Installing collected packages: tensorflow-addons\n",
            "Successfully installed tensorflow-addons-0.18.0\n"
          ]
        }
      ],
      "source": [
        "!pip install tensorflow-addons"
      ]
    },
    {
      "cell_type": "code",
      "execution_count": 2,
      "metadata": {
        "colab": {
          "base_uri": "https://localhost:8080/"
        },
        "id": "_S_780H0WGDc",
        "outputId": "1aa511e2-dcc9-400b-d152-96ba12af2dbb"
      },
      "outputs": [
        {
          "name": "stdout",
          "output_type": "stream",
          "text": [
            "Looking in indexes: https://pypi.org/simple, https://us-python.pkg.dev/colab-wheels/public/simple/\n",
            "Collecting transformers\n",
            "  Downloading transformers-4.22.2-py3-none-any.whl (4.9 MB)\n",
            "\u001b[K     |████████████████████████████████| 4.9 MB 5.0 MB/s \n",
            "\u001b[?25hCollecting huggingface-hub<1.0,>=0.9.0\n",
            "  Downloading huggingface_hub-0.10.0-py3-none-any.whl (163 kB)\n",
            "\u001b[K     |████████████████████████████████| 163 kB 62.4 MB/s \n",
            "\u001b[?25hCollecting tokenizers!=0.11.3,<0.13,>=0.11.1\n",
            "  Downloading tokenizers-0.12.1-cp37-cp37m-manylinux_2_12_x86_64.manylinux2010_x86_64.whl (6.6 MB)\n",
            "\u001b[K     |████████████████████████████████| 6.6 MB 53.3 MB/s \n",
            "\u001b[?25hRequirement already satisfied: tqdm>=4.27 in /usr/local/lib/python3.7/dist-packages (from transformers) (4.64.1)\n",
            "Requirement already satisfied: importlib-metadata in /usr/local/lib/python3.7/dist-packages (from transformers) (4.12.0)\n",
            "Requirement already satisfied: numpy>=1.17 in /usr/local/lib/python3.7/dist-packages (from transformers) (1.21.6)\n",
            "Requirement already satisfied: regex!=2019.12.17 in /usr/local/lib/python3.7/dist-packages (from transformers) (2022.6.2)\n",
            "Requirement already satisfied: pyyaml>=5.1 in /usr/local/lib/python3.7/dist-packages (from transformers) (6.0)\n",
            "Requirement already satisfied: requests in /usr/local/lib/python3.7/dist-packages (from transformers) (2.23.0)\n",
            "Requirement already satisfied: filelock in /usr/local/lib/python3.7/dist-packages (from transformers) (3.8.0)\n",
            "Requirement already satisfied: packaging>=20.0 in /usr/local/lib/python3.7/dist-packages (from transformers) (21.3)\n",
            "Requirement already satisfied: typing-extensions>=3.7.4.3 in /usr/local/lib/python3.7/dist-packages (from huggingface-hub<1.0,>=0.9.0->transformers) (4.1.1)\n",
            "Requirement already satisfied: pyparsing!=3.0.5,>=2.0.2 in /usr/local/lib/python3.7/dist-packages (from packaging>=20.0->transformers) (3.0.9)\n",
            "Requirement already satisfied: zipp>=0.5 in /usr/local/lib/python3.7/dist-packages (from importlib-metadata->transformers) (3.8.1)\n",
            "Requirement already satisfied: idna<3,>=2.5 in /usr/local/lib/python3.7/dist-packages (from requests->transformers) (2.10)\n",
            "Requirement already satisfied: urllib3!=1.25.0,!=1.25.1,<1.26,>=1.21.1 in /usr/local/lib/python3.7/dist-packages (from requests->transformers) (1.24.3)\n",
            "Requirement already satisfied: chardet<4,>=3.0.2 in /usr/local/lib/python3.7/dist-packages (from requests->transformers) (3.0.4)\n",
            "Requirement already satisfied: certifi>=2017.4.17 in /usr/local/lib/python3.7/dist-packages (from requests->transformers) (2022.6.15)\n",
            "Installing collected packages: tokenizers, huggingface-hub, transformers\n",
            "Successfully installed huggingface-hub-0.10.0 tokenizers-0.12.1 transformers-4.22.2\n"
          ]
        }
      ],
      "source": [
        "!pip install transformers"
      ]
    },
    {
      "cell_type": "code",
      "execution_count": 3,
      "metadata": {
        "id": "bhie32NuVeIm"
      },
      "outputs": [],
      "source": [
        "#Python libraries\n",
        "import os\n",
        "import copy\n",
        "import random\n",
        "from string import digits, punctuation\n",
        "import re\n",
        "\n",
        "#Basic EDA libraries\n",
        "import numpy as np\n",
        "import pandas as pd\n",
        "import matplotlib.pyplot as plt\n",
        "from imblearn.under_sampling import RandomUnderSampler\n",
        "import seaborn as sns\n",
        "\n",
        "#SK-learn libraries\n",
        "from sklearn.model_selection import KFold, train_test_split\n",
        "from sklearn.metrics import f1_score,confusion_matrix,precision_score,recall_score, accuracy_score, classification_report\n",
        "\n",
        "#Tensorflow libraries\n",
        "import tensorflow as tf\n",
        "import tensorflow_addons as tfa\n",
        "from tensorflow_addons.optimizers import AdamW\n",
        "from tensorflow.keras.layers import Dense, Input,Dropout\n",
        "from tensorflow.keras.utils import to_categorical\n",
        "from tensorflow.keras.optimizers import Adam\n",
        "import tensorflow.keras.backend as K\n",
        "from tensorflow.keras.models import Model\n",
        "from tensorflow.keras.callbacks import ModelCheckpoint\n",
        "from gc import callbacks\n",
        "\n",
        "#Transformer libraries\n",
        "import transformers\n",
        "from transformers import AutoModel\n",
        "from transformers import BertTokenizer,BertModel,BertConfig,BertForPreTraining\n",
        "from transformers import TFAutoModel, AutoTokenizer\n",
        "from gc import callbacks\n",
        "\n",
        "#Other NLP libraries\n",
        "from tqdm.notebook import tqdm\n",
        "from tokenizers import Tokenizer, models, pre_tokenizers, decoders, processors\n",
        "from gensim.models.word2vec import Word2VecKeyedVectors\n",
        "\n",
        "AUTO = tf.data.experimental.AUTOTUNE"
      ]
    },
    {
      "cell_type": "code",
      "execution_count": 4,
      "metadata": {
        "colab": {
          "base_uri": "https://localhost:8080/",
          "height": 35
        },
        "id": "L7UvbfyYVeIo",
        "outputId": "7fade056-58a2-4ac3-a66a-a6633a5caa47"
      },
      "outputs": [
        {
          "data": {
            "application/vnd.google.colaboratory.intrinsic+json": {
              "type": "string"
            },
            "text/plain": [
              "'4.22.2'"
            ]
          },
          "execution_count": 4,
          "metadata": {},
          "output_type": "execute_result"
        }
      ],
      "source": [
        "transformers.__version__"
      ]
    },
    {
      "cell_type": "code",
      "execution_count": 5,
      "metadata": {
        "id": "Cr3w3OiQtyWz"
      },
      "outputs": [],
      "source": [
        "fake_train = pd.read_excel(\"/content/sample_data/data/Constraint_English_Train.xlsx\")\n",
        "fake_valid = pd.read_excel(\"/content/sample_data/data/Constraint_English_Val.xlsx\")\n",
        "fake_test = pd.read_excel(\"/content/sample_data/data/Constraint_English_Test_without_labels.xlsx\")\n",
        "fake_external1 = pd.read_excel(\"/content/sample_data/data/external_1.xlsx\")\n",
        "fake_external2 = pd.read_excel(\"/content/sample_data/data/external_2.xlsx\")\n",
        "df_pseudo = pd.read_csv(\"/content/sample_data/data/pseudo_submission.csv\")"
      ]
    },
    {
      "cell_type": "code",
      "execution_count": 6,
      "metadata": {
        "colab": {
          "base_uri": "https://localhost:8080/",
          "height": 206
        },
        "id": "pB1BBOJ6uQBz",
        "outputId": "d1a6af56-acac-478c-dc15-eb764b5cde8b"
      },
      "outputs": [
        {
          "data": {
            "text/html": [
              "\n",
              "  <div id=\"df-04220ccd-20e8-443f-92b9-3be8a5ac5e5f\">\n",
              "    <div class=\"colab-df-container\">\n",
              "      <div>\n",
              "<style scoped>\n",
              "    .dataframe tbody tr th:only-of-type {\n",
              "        vertical-align: middle;\n",
              "    }\n",
              "\n",
              "    .dataframe tbody tr th {\n",
              "        vertical-align: top;\n",
              "    }\n",
              "\n",
              "    .dataframe thead th {\n",
              "        text-align: right;\n",
              "    }\n",
              "</style>\n",
              "<table border=\"1\" class=\"dataframe\">\n",
              "  <thead>\n",
              "    <tr style=\"text-align: right;\">\n",
              "      <th></th>\n",
              "      <th>id</th>\n",
              "      <th>tweet</th>\n",
              "      <th>label</th>\n",
              "    </tr>\n",
              "  </thead>\n",
              "  <tbody>\n",
              "    <tr>\n",
              "      <th>0</th>\n",
              "      <td>1.0</td>\n",
              "      <td>The CDC currently reports 99031 deaths. In gen...</td>\n",
              "      <td>real</td>\n",
              "    </tr>\n",
              "    <tr>\n",
              "      <th>1</th>\n",
              "      <td>2.0</td>\n",
              "      <td>States reported 1121 deaths a small rise from ...</td>\n",
              "      <td>real</td>\n",
              "    </tr>\n",
              "    <tr>\n",
              "      <th>2</th>\n",
              "      <td>3.0</td>\n",
              "      <td>Politically Correct Woman (Almost) Uses Pandem...</td>\n",
              "      <td>fake</td>\n",
              "    </tr>\n",
              "    <tr>\n",
              "      <th>3</th>\n",
              "      <td>4.0</td>\n",
              "      <td>#IndiaFightsCorona: We have 1524 #COVID testin...</td>\n",
              "      <td>real</td>\n",
              "    </tr>\n",
              "    <tr>\n",
              "      <th>4</th>\n",
              "      <td>5.0</td>\n",
              "      <td>Populous states can generate large case counts...</td>\n",
              "      <td>real</td>\n",
              "    </tr>\n",
              "  </tbody>\n",
              "</table>\n",
              "</div>\n",
              "      <button class=\"colab-df-convert\" onclick=\"convertToInteractive('df-04220ccd-20e8-443f-92b9-3be8a5ac5e5f')\"\n",
              "              title=\"Convert this dataframe to an interactive table.\"\n",
              "              style=\"display:none;\">\n",
              "        \n",
              "  <svg xmlns=\"http://www.w3.org/2000/svg\" height=\"24px\"viewBox=\"0 0 24 24\"\n",
              "       width=\"24px\">\n",
              "    <path d=\"M0 0h24v24H0V0z\" fill=\"none\"/>\n",
              "    <path d=\"M18.56 5.44l.94 2.06.94-2.06 2.06-.94-2.06-.94-.94-2.06-.94 2.06-2.06.94zm-11 1L8.5 8.5l.94-2.06 2.06-.94-2.06-.94L8.5 2.5l-.94 2.06-2.06.94zm10 10l.94 2.06.94-2.06 2.06-.94-2.06-.94-.94-2.06-.94 2.06-2.06.94z\"/><path d=\"M17.41 7.96l-1.37-1.37c-.4-.4-.92-.59-1.43-.59-.52 0-1.04.2-1.43.59L10.3 9.45l-7.72 7.72c-.78.78-.78 2.05 0 2.83L4 21.41c.39.39.9.59 1.41.59.51 0 1.02-.2 1.41-.59l7.78-7.78 2.81-2.81c.8-.78.8-2.07 0-2.86zM5.41 20L4 18.59l7.72-7.72 1.47 1.35L5.41 20z\"/>\n",
              "  </svg>\n",
              "      </button>\n",
              "      \n",
              "  <style>\n",
              "    .colab-df-container {\n",
              "      display:flex;\n",
              "      flex-wrap:wrap;\n",
              "      gap: 12px;\n",
              "    }\n",
              "\n",
              "    .colab-df-convert {\n",
              "      background-color: #E8F0FE;\n",
              "      border: none;\n",
              "      border-radius: 50%;\n",
              "      cursor: pointer;\n",
              "      display: none;\n",
              "      fill: #1967D2;\n",
              "      height: 32px;\n",
              "      padding: 0 0 0 0;\n",
              "      width: 32px;\n",
              "    }\n",
              "\n",
              "    .colab-df-convert:hover {\n",
              "      background-color: #E2EBFA;\n",
              "      box-shadow: 0px 1px 2px rgba(60, 64, 67, 0.3), 0px 1px 3px 1px rgba(60, 64, 67, 0.15);\n",
              "      fill: #174EA6;\n",
              "    }\n",
              "\n",
              "    [theme=dark] .colab-df-convert {\n",
              "      background-color: #3B4455;\n",
              "      fill: #D2E3FC;\n",
              "    }\n",
              "\n",
              "    [theme=dark] .colab-df-convert:hover {\n",
              "      background-color: #434B5C;\n",
              "      box-shadow: 0px 1px 3px 1px rgba(0, 0, 0, 0.15);\n",
              "      filter: drop-shadow(0px 1px 2px rgba(0, 0, 0, 0.3));\n",
              "      fill: #FFFFFF;\n",
              "    }\n",
              "  </style>\n",
              "\n",
              "      <script>\n",
              "        const buttonEl =\n",
              "          document.querySelector('#df-04220ccd-20e8-443f-92b9-3be8a5ac5e5f button.colab-df-convert');\n",
              "        buttonEl.style.display =\n",
              "          google.colab.kernel.accessAllowed ? 'block' : 'none';\n",
              "\n",
              "        async function convertToInteractive(key) {\n",
              "          const element = document.querySelector('#df-04220ccd-20e8-443f-92b9-3be8a5ac5e5f');\n",
              "          const dataTable =\n",
              "            await google.colab.kernel.invokeFunction('convertToInteractive',\n",
              "                                                     [key], {});\n",
              "          if (!dataTable) return;\n",
              "\n",
              "          const docLinkHtml = 'Like what you see? Visit the ' +\n",
              "            '<a target=\"_blank\" href=https://colab.research.google.com/notebooks/data_table.ipynb>data table notebook</a>'\n",
              "            + ' to learn more about interactive tables.';\n",
              "          element.innerHTML = '';\n",
              "          dataTable['output_type'] = 'display_data';\n",
              "          await google.colab.output.renderOutput(dataTable, element);\n",
              "          const docLink = document.createElement('div');\n",
              "          docLink.innerHTML = docLinkHtml;\n",
              "          element.appendChild(docLink);\n",
              "        }\n",
              "      </script>\n",
              "    </div>\n",
              "  </div>\n",
              "  "
            ],
            "text/plain": [
              "    id                                              tweet label\n",
              "0  1.0  The CDC currently reports 99031 deaths. In gen...  real\n",
              "1  2.0  States reported 1121 deaths a small rise from ...  real\n",
              "2  3.0  Politically Correct Woman (Almost) Uses Pandem...  fake\n",
              "3  4.0  #IndiaFightsCorona: We have 1524 #COVID testin...  real\n",
              "4  5.0  Populous states can generate large case counts...  real"
            ]
          },
          "execution_count": 6,
          "metadata": {},
          "output_type": "execute_result"
        }
      ],
      "source": [
        "fake_train.head()"
      ]
    },
    {
      "cell_type": "code",
      "execution_count": 7,
      "metadata": {
        "colab": {
          "base_uri": "https://localhost:8080/",
          "height": 206
        },
        "id": "E95JbgdBuQob",
        "outputId": "fd50a699-990f-4821-ead1-e5b5d99547a8"
      },
      "outputs": [
        {
          "data": {
            "text/html": [
              "\n",
              "  <div id=\"df-7b4e1b8c-191f-41ce-a477-6149993aaac0\">\n",
              "    <div class=\"colab-df-container\">\n",
              "      <div>\n",
              "<style scoped>\n",
              "    .dataframe tbody tr th:only-of-type {\n",
              "        vertical-align: middle;\n",
              "    }\n",
              "\n",
              "    .dataframe tbody tr th {\n",
              "        vertical-align: top;\n",
              "    }\n",
              "\n",
              "    .dataframe thead th {\n",
              "        text-align: right;\n",
              "    }\n",
              "</style>\n",
              "<table border=\"1\" class=\"dataframe\">\n",
              "  <thead>\n",
              "    <tr style=\"text-align: right;\">\n",
              "      <th></th>\n",
              "      <th>id</th>\n",
              "      <th>tweet</th>\n",
              "      <th>label</th>\n",
              "    </tr>\n",
              "  </thead>\n",
              "  <tbody>\n",
              "    <tr>\n",
              "      <th>0</th>\n",
              "      <td>1.0</td>\n",
              "      <td>Chinese converting to Islam after realising th...</td>\n",
              "      <td>fake</td>\n",
              "    </tr>\n",
              "    <tr>\n",
              "      <th>1</th>\n",
              "      <td>2.0</td>\n",
              "      <td>11 out of 13 people (from the Diamond Princess...</td>\n",
              "      <td>fake</td>\n",
              "    </tr>\n",
              "    <tr>\n",
              "      <th>2</th>\n",
              "      <td>3.0</td>\n",
              "      <td>COVID-19 Is Caused By A Bacterium, Not Virus A...</td>\n",
              "      <td>fake</td>\n",
              "    </tr>\n",
              "    <tr>\n",
              "      <th>3</th>\n",
              "      <td>4.0</td>\n",
              "      <td>Mike Pence in RNC speech praises Donald Trump’...</td>\n",
              "      <td>fake</td>\n",
              "    </tr>\n",
              "    <tr>\n",
              "      <th>4</th>\n",
              "      <td>5.0</td>\n",
              "      <td>6/10 Sky's @EdConwaySky explains the latest #C...</td>\n",
              "      <td>real</td>\n",
              "    </tr>\n",
              "  </tbody>\n",
              "</table>\n",
              "</div>\n",
              "      <button class=\"colab-df-convert\" onclick=\"convertToInteractive('df-7b4e1b8c-191f-41ce-a477-6149993aaac0')\"\n",
              "              title=\"Convert this dataframe to an interactive table.\"\n",
              "              style=\"display:none;\">\n",
              "        \n",
              "  <svg xmlns=\"http://www.w3.org/2000/svg\" height=\"24px\"viewBox=\"0 0 24 24\"\n",
              "       width=\"24px\">\n",
              "    <path d=\"M0 0h24v24H0V0z\" fill=\"none\"/>\n",
              "    <path d=\"M18.56 5.44l.94 2.06.94-2.06 2.06-.94-2.06-.94-.94-2.06-.94 2.06-2.06.94zm-11 1L8.5 8.5l.94-2.06 2.06-.94-2.06-.94L8.5 2.5l-.94 2.06-2.06.94zm10 10l.94 2.06.94-2.06 2.06-.94-2.06-.94-.94-2.06-.94 2.06-2.06.94z\"/><path d=\"M17.41 7.96l-1.37-1.37c-.4-.4-.92-.59-1.43-.59-.52 0-1.04.2-1.43.59L10.3 9.45l-7.72 7.72c-.78.78-.78 2.05 0 2.83L4 21.41c.39.39.9.59 1.41.59.51 0 1.02-.2 1.41-.59l7.78-7.78 2.81-2.81c.8-.78.8-2.07 0-2.86zM5.41 20L4 18.59l7.72-7.72 1.47 1.35L5.41 20z\"/>\n",
              "  </svg>\n",
              "      </button>\n",
              "      \n",
              "  <style>\n",
              "    .colab-df-container {\n",
              "      display:flex;\n",
              "      flex-wrap:wrap;\n",
              "      gap: 12px;\n",
              "    }\n",
              "\n",
              "    .colab-df-convert {\n",
              "      background-color: #E8F0FE;\n",
              "      border: none;\n",
              "      border-radius: 50%;\n",
              "      cursor: pointer;\n",
              "      display: none;\n",
              "      fill: #1967D2;\n",
              "      height: 32px;\n",
              "      padding: 0 0 0 0;\n",
              "      width: 32px;\n",
              "    }\n",
              "\n",
              "    .colab-df-convert:hover {\n",
              "      background-color: #E2EBFA;\n",
              "      box-shadow: 0px 1px 2px rgba(60, 64, 67, 0.3), 0px 1px 3px 1px rgba(60, 64, 67, 0.15);\n",
              "      fill: #174EA6;\n",
              "    }\n",
              "\n",
              "    [theme=dark] .colab-df-convert {\n",
              "      background-color: #3B4455;\n",
              "      fill: #D2E3FC;\n",
              "    }\n",
              "\n",
              "    [theme=dark] .colab-df-convert:hover {\n",
              "      background-color: #434B5C;\n",
              "      box-shadow: 0px 1px 3px 1px rgba(0, 0, 0, 0.15);\n",
              "      filter: drop-shadow(0px 1px 2px rgba(0, 0, 0, 0.3));\n",
              "      fill: #FFFFFF;\n",
              "    }\n",
              "  </style>\n",
              "\n",
              "      <script>\n",
              "        const buttonEl =\n",
              "          document.querySelector('#df-7b4e1b8c-191f-41ce-a477-6149993aaac0 button.colab-df-convert');\n",
              "        buttonEl.style.display =\n",
              "          google.colab.kernel.accessAllowed ? 'block' : 'none';\n",
              "\n",
              "        async function convertToInteractive(key) {\n",
              "          const element = document.querySelector('#df-7b4e1b8c-191f-41ce-a477-6149993aaac0');\n",
              "          const dataTable =\n",
              "            await google.colab.kernel.invokeFunction('convertToInteractive',\n",
              "                                                     [key], {});\n",
              "          if (!dataTable) return;\n",
              "\n",
              "          const docLinkHtml = 'Like what you see? Visit the ' +\n",
              "            '<a target=\"_blank\" href=https://colab.research.google.com/notebooks/data_table.ipynb>data table notebook</a>'\n",
              "            + ' to learn more about interactive tables.';\n",
              "          element.innerHTML = '';\n",
              "          dataTable['output_type'] = 'display_data';\n",
              "          await google.colab.output.renderOutput(dataTable, element);\n",
              "          const docLink = document.createElement('div');\n",
              "          docLink.innerHTML = docLinkHtml;\n",
              "          element.appendChild(docLink);\n",
              "        }\n",
              "      </script>\n",
              "    </div>\n",
              "  </div>\n",
              "  "
            ],
            "text/plain": [
              "    id                                              tweet label\n",
              "0  1.0  Chinese converting to Islam after realising th...  fake\n",
              "1  2.0  11 out of 13 people (from the Diamond Princess...  fake\n",
              "2  3.0  COVID-19 Is Caused By A Bacterium, Not Virus A...  fake\n",
              "3  4.0  Mike Pence in RNC speech praises Donald Trump’...  fake\n",
              "4  5.0  6/10 Sky's @EdConwaySky explains the latest #C...  real"
            ]
          },
          "execution_count": 7,
          "metadata": {},
          "output_type": "execute_result"
        }
      ],
      "source": [
        "fake_valid.head()"
      ]
    },
    {
      "cell_type": "code",
      "execution_count": 8,
      "metadata": {
        "colab": {
          "base_uri": "https://localhost:8080/",
          "height": 206
        },
        "id": "HzCscaCIuSNk",
        "outputId": "91c695fc-0b38-4ba4-e524-7c1189338e2b"
      },
      "outputs": [
        {
          "data": {
            "text/html": [
              "\n",
              "  <div id=\"df-734473a5-e3c8-48be-8253-9398401d06fc\">\n",
              "    <div class=\"colab-df-container\">\n",
              "      <div>\n",
              "<style scoped>\n",
              "    .dataframe tbody tr th:only-of-type {\n",
              "        vertical-align: middle;\n",
              "    }\n",
              "\n",
              "    .dataframe tbody tr th {\n",
              "        vertical-align: top;\n",
              "    }\n",
              "\n",
              "    .dataframe thead th {\n",
              "        text-align: right;\n",
              "    }\n",
              "</style>\n",
              "<table border=\"1\" class=\"dataframe\">\n",
              "  <thead>\n",
              "    <tr style=\"text-align: right;\">\n",
              "      <th></th>\n",
              "      <th>id</th>\n",
              "      <th>tweet</th>\n",
              "    </tr>\n",
              "  </thead>\n",
              "  <tbody>\n",
              "    <tr>\n",
              "      <th>0</th>\n",
              "      <td>1.0</td>\n",
              "      <td>Our daily update is published. States reported...</td>\n",
              "    </tr>\n",
              "    <tr>\n",
              "      <th>1</th>\n",
              "      <td>2.0</td>\n",
              "      <td>Alfalfa is the only cure for COVID-19.</td>\n",
              "    </tr>\n",
              "    <tr>\n",
              "      <th>2</th>\n",
              "      <td>3.0</td>\n",
              "      <td>President Trump Asked What He Would Do If He W...</td>\n",
              "    </tr>\n",
              "    <tr>\n",
              "      <th>3</th>\n",
              "      <td>4.0</td>\n",
              "      <td>States reported 630 deaths. We are still seein...</td>\n",
              "    </tr>\n",
              "    <tr>\n",
              "      <th>4</th>\n",
              "      <td>5.0</td>\n",
              "      <td>This is the sixth time a global health emergen...</td>\n",
              "    </tr>\n",
              "  </tbody>\n",
              "</table>\n",
              "</div>\n",
              "      <button class=\"colab-df-convert\" onclick=\"convertToInteractive('df-734473a5-e3c8-48be-8253-9398401d06fc')\"\n",
              "              title=\"Convert this dataframe to an interactive table.\"\n",
              "              style=\"display:none;\">\n",
              "        \n",
              "  <svg xmlns=\"http://www.w3.org/2000/svg\" height=\"24px\"viewBox=\"0 0 24 24\"\n",
              "       width=\"24px\">\n",
              "    <path d=\"M0 0h24v24H0V0z\" fill=\"none\"/>\n",
              "    <path d=\"M18.56 5.44l.94 2.06.94-2.06 2.06-.94-2.06-.94-.94-2.06-.94 2.06-2.06.94zm-11 1L8.5 8.5l.94-2.06 2.06-.94-2.06-.94L8.5 2.5l-.94 2.06-2.06.94zm10 10l.94 2.06.94-2.06 2.06-.94-2.06-.94-.94-2.06-.94 2.06-2.06.94z\"/><path d=\"M17.41 7.96l-1.37-1.37c-.4-.4-.92-.59-1.43-.59-.52 0-1.04.2-1.43.59L10.3 9.45l-7.72 7.72c-.78.78-.78 2.05 0 2.83L4 21.41c.39.39.9.59 1.41.59.51 0 1.02-.2 1.41-.59l7.78-7.78 2.81-2.81c.8-.78.8-2.07 0-2.86zM5.41 20L4 18.59l7.72-7.72 1.47 1.35L5.41 20z\"/>\n",
              "  </svg>\n",
              "      </button>\n",
              "      \n",
              "  <style>\n",
              "    .colab-df-container {\n",
              "      display:flex;\n",
              "      flex-wrap:wrap;\n",
              "      gap: 12px;\n",
              "    }\n",
              "\n",
              "    .colab-df-convert {\n",
              "      background-color: #E8F0FE;\n",
              "      border: none;\n",
              "      border-radius: 50%;\n",
              "      cursor: pointer;\n",
              "      display: none;\n",
              "      fill: #1967D2;\n",
              "      height: 32px;\n",
              "      padding: 0 0 0 0;\n",
              "      width: 32px;\n",
              "    }\n",
              "\n",
              "    .colab-df-convert:hover {\n",
              "      background-color: #E2EBFA;\n",
              "      box-shadow: 0px 1px 2px rgba(60, 64, 67, 0.3), 0px 1px 3px 1px rgba(60, 64, 67, 0.15);\n",
              "      fill: #174EA6;\n",
              "    }\n",
              "\n",
              "    [theme=dark] .colab-df-convert {\n",
              "      background-color: #3B4455;\n",
              "      fill: #D2E3FC;\n",
              "    }\n",
              "\n",
              "    [theme=dark] .colab-df-convert:hover {\n",
              "      background-color: #434B5C;\n",
              "      box-shadow: 0px 1px 3px 1px rgba(0, 0, 0, 0.15);\n",
              "      filter: drop-shadow(0px 1px 2px rgba(0, 0, 0, 0.3));\n",
              "      fill: #FFFFFF;\n",
              "    }\n",
              "  </style>\n",
              "\n",
              "      <script>\n",
              "        const buttonEl =\n",
              "          document.querySelector('#df-734473a5-e3c8-48be-8253-9398401d06fc button.colab-df-convert');\n",
              "        buttonEl.style.display =\n",
              "          google.colab.kernel.accessAllowed ? 'block' : 'none';\n",
              "\n",
              "        async function convertToInteractive(key) {\n",
              "          const element = document.querySelector('#df-734473a5-e3c8-48be-8253-9398401d06fc');\n",
              "          const dataTable =\n",
              "            await google.colab.kernel.invokeFunction('convertToInteractive',\n",
              "                                                     [key], {});\n",
              "          if (!dataTable) return;\n",
              "\n",
              "          const docLinkHtml = 'Like what you see? Visit the ' +\n",
              "            '<a target=\"_blank\" href=https://colab.research.google.com/notebooks/data_table.ipynb>data table notebook</a>'\n",
              "            + ' to learn more about interactive tables.';\n",
              "          element.innerHTML = '';\n",
              "          dataTable['output_type'] = 'display_data';\n",
              "          await google.colab.output.renderOutput(dataTable, element);\n",
              "          const docLink = document.createElement('div');\n",
              "          docLink.innerHTML = docLinkHtml;\n",
              "          element.appendChild(docLink);\n",
              "        }\n",
              "      </script>\n",
              "    </div>\n",
              "  </div>\n",
              "  "
            ],
            "text/plain": [
              "    id                                              tweet\n",
              "0  1.0  Our daily update is published. States reported...\n",
              "1  2.0             Alfalfa is the only cure for COVID-19.\n",
              "2  3.0  President Trump Asked What He Would Do If He W...\n",
              "3  4.0  States reported 630 deaths. We are still seein...\n",
              "4  5.0  This is the sixth time a global health emergen..."
            ]
          },
          "execution_count": 8,
          "metadata": {},
          "output_type": "execute_result"
        }
      ],
      "source": [
        "fake_test.head()"
      ]
    },
    {
      "cell_type": "code",
      "execution_count": 9,
      "metadata": {
        "colab": {
          "base_uri": "https://localhost:8080/",
          "height": 206
        },
        "id": "DKQkClIMuTvL",
        "outputId": "5b25cabd-df63-4b87-bace-e9ef3ec87165"
      },
      "outputs": [
        {
          "data": {
            "text/html": [
              "\n",
              "  <div id=\"df-6502a579-f8ef-4bd6-94af-479d378bfec0\">\n",
              "    <div class=\"colab-df-container\">\n",
              "      <div>\n",
              "<style scoped>\n",
              "    .dataframe tbody tr th:only-of-type {\n",
              "        vertical-align: middle;\n",
              "    }\n",
              "\n",
              "    .dataframe tbody tr th {\n",
              "        vertical-align: top;\n",
              "    }\n",
              "\n",
              "    .dataframe thead th {\n",
              "        text-align: right;\n",
              "    }\n",
              "</style>\n",
              "<table border=\"1\" class=\"dataframe\">\n",
              "  <thead>\n",
              "    <tr style=\"text-align: right;\">\n",
              "      <th></th>\n",
              "      <th>tweet</th>\n",
              "      <th>label</th>\n",
              "    </tr>\n",
              "  </thead>\n",
              "  <tbody>\n",
              "    <tr>\n",
              "      <th>0</th>\n",
              "      <td>Our daily update is published. States reported...</td>\n",
              "      <td>real</td>\n",
              "    </tr>\n",
              "    <tr>\n",
              "      <th>1</th>\n",
              "      <td>Alfalfa is the only cure for COVID-19.</td>\n",
              "      <td>fake</td>\n",
              "    </tr>\n",
              "    <tr>\n",
              "      <th>2</th>\n",
              "      <td>President Trump Asked What He Would Do If He W...</td>\n",
              "      <td>fake</td>\n",
              "    </tr>\n",
              "    <tr>\n",
              "      <th>3</th>\n",
              "      <td>States reported 630 deaths. We are still seein...</td>\n",
              "      <td>real</td>\n",
              "    </tr>\n",
              "    <tr>\n",
              "      <th>4</th>\n",
              "      <td>This is the sixth time a global health emergen...</td>\n",
              "      <td>real</td>\n",
              "    </tr>\n",
              "  </tbody>\n",
              "</table>\n",
              "</div>\n",
              "      <button class=\"colab-df-convert\" onclick=\"convertToInteractive('df-6502a579-f8ef-4bd6-94af-479d378bfec0')\"\n",
              "              title=\"Convert this dataframe to an interactive table.\"\n",
              "              style=\"display:none;\">\n",
              "        \n",
              "  <svg xmlns=\"http://www.w3.org/2000/svg\" height=\"24px\"viewBox=\"0 0 24 24\"\n",
              "       width=\"24px\">\n",
              "    <path d=\"M0 0h24v24H0V0z\" fill=\"none\"/>\n",
              "    <path d=\"M18.56 5.44l.94 2.06.94-2.06 2.06-.94-2.06-.94-.94-2.06-.94 2.06-2.06.94zm-11 1L8.5 8.5l.94-2.06 2.06-.94-2.06-.94L8.5 2.5l-.94 2.06-2.06.94zm10 10l.94 2.06.94-2.06 2.06-.94-2.06-.94-.94-2.06-.94 2.06-2.06.94z\"/><path d=\"M17.41 7.96l-1.37-1.37c-.4-.4-.92-.59-1.43-.59-.52 0-1.04.2-1.43.59L10.3 9.45l-7.72 7.72c-.78.78-.78 2.05 0 2.83L4 21.41c.39.39.9.59 1.41.59.51 0 1.02-.2 1.41-.59l7.78-7.78 2.81-2.81c.8-.78.8-2.07 0-2.86zM5.41 20L4 18.59l7.72-7.72 1.47 1.35L5.41 20z\"/>\n",
              "  </svg>\n",
              "      </button>\n",
              "      \n",
              "  <style>\n",
              "    .colab-df-container {\n",
              "      display:flex;\n",
              "      flex-wrap:wrap;\n",
              "      gap: 12px;\n",
              "    }\n",
              "\n",
              "    .colab-df-convert {\n",
              "      background-color: #E8F0FE;\n",
              "      border: none;\n",
              "      border-radius: 50%;\n",
              "      cursor: pointer;\n",
              "      display: none;\n",
              "      fill: #1967D2;\n",
              "      height: 32px;\n",
              "      padding: 0 0 0 0;\n",
              "      width: 32px;\n",
              "    }\n",
              "\n",
              "    .colab-df-convert:hover {\n",
              "      background-color: #E2EBFA;\n",
              "      box-shadow: 0px 1px 2px rgba(60, 64, 67, 0.3), 0px 1px 3px 1px rgba(60, 64, 67, 0.15);\n",
              "      fill: #174EA6;\n",
              "    }\n",
              "\n",
              "    [theme=dark] .colab-df-convert {\n",
              "      background-color: #3B4455;\n",
              "      fill: #D2E3FC;\n",
              "    }\n",
              "\n",
              "    [theme=dark] .colab-df-convert:hover {\n",
              "      background-color: #434B5C;\n",
              "      box-shadow: 0px 1px 3px 1px rgba(0, 0, 0, 0.15);\n",
              "      filter: drop-shadow(0px 1px 2px rgba(0, 0, 0, 0.3));\n",
              "      fill: #FFFFFF;\n",
              "    }\n",
              "  </style>\n",
              "\n",
              "      <script>\n",
              "        const buttonEl =\n",
              "          document.querySelector('#df-6502a579-f8ef-4bd6-94af-479d378bfec0 button.colab-df-convert');\n",
              "        buttonEl.style.display =\n",
              "          google.colab.kernel.accessAllowed ? 'block' : 'none';\n",
              "\n",
              "        async function convertToInteractive(key) {\n",
              "          const element = document.querySelector('#df-6502a579-f8ef-4bd6-94af-479d378bfec0');\n",
              "          const dataTable =\n",
              "            await google.colab.kernel.invokeFunction('convertToInteractive',\n",
              "                                                     [key], {});\n",
              "          if (!dataTable) return;\n",
              "\n",
              "          const docLinkHtml = 'Like what you see? Visit the ' +\n",
              "            '<a target=\"_blank\" href=https://colab.research.google.com/notebooks/data_table.ipynb>data table notebook</a>'\n",
              "            + ' to learn more about interactive tables.';\n",
              "          element.innerHTML = '';\n",
              "          dataTable['output_type'] = 'display_data';\n",
              "          await google.colab.output.renderOutput(dataTable, element);\n",
              "          const docLink = document.createElement('div');\n",
              "          docLink.innerHTML = docLinkHtml;\n",
              "          element.appendChild(docLink);\n",
              "        }\n",
              "      </script>\n",
              "    </div>\n",
              "  </div>\n",
              "  "
            ],
            "text/plain": [
              "                                               tweet label\n",
              "0  Our daily update is published. States reported...  real\n",
              "1             Alfalfa is the only cure for COVID-19.  fake\n",
              "2  President Trump Asked What He Would Do If He W...  fake\n",
              "3  States reported 630 deaths. We are still seein...  real\n",
              "4  This is the sixth time a global health emergen...  real"
            ]
          },
          "execution_count": 9,
          "metadata": {},
          "output_type": "execute_result"
        }
      ],
      "source": [
        "df_pseudo.head()"
      ]
    },
    {
      "cell_type": "markdown",
      "metadata": {
        "id": "ioGexWE7VeIo"
      },
      "source": [
        "## Helper Functions"
      ]
    },
    {
      "cell_type": "code",
      "execution_count": 10,
      "metadata": {
        "id": "Yg24F4fGX3jY"
      },
      "outputs": [],
      "source": [
        "def seed_everything(seed=0):\n",
        "  np.random.seed(seed)\n",
        "  tf.random.set_seed(seed)\n",
        "  os.environ['PYTHONHASSEED'] = str(seed)\n",
        "  os.environ['TF_DETERMINSTIC_OPS'] = '1'\n",
        "  random.seed(seed)\n",
        "\n",
        "seed=1024\n",
        "seed_everything(seed)\n",
        "\n"
      ]
    },
    {
      "cell_type": "code",
      "execution_count": 11,
      "metadata": {
        "id": "NTjhK9BWZDAk"
      },
      "outputs": [],
      "source": [
        "def fast_encode(texts, tokenizers, chunk_size=256, maxlen=512):\n",
        "  \"\"\"\n",
        "    https://www.kaggle.com/xhlulu/jigsaw-tpu-distilbert-with-huggingface-and-keras\n",
        "  \"\"\"\n",
        "  tokenizer.enable_truncation(max_length=maxlen)\n",
        "  tokenizer.enable_padding(max_length=maxlen)\n",
        "  all_ids = []\n",
        "\n",
        "  for i in tqdm(range(0, len(texts), chunk_size)):\n",
        "    text_chunk = texts[i:i+chunk_size].tolist()\n",
        "    encs = tokenizer.encode_batch(text_chunk)\n",
        "    all_ids.extend([enc.ids for enc in encs])\n",
        "  \n",
        "  return np.array(all_ids)"
      ]
    },
    {
      "cell_type": "code",
      "execution_count": 12,
      "metadata": {
        "id": "Z9oom4WSZyyl"
      },
      "outputs": [],
      "source": [
        "def regular_encode(texts, tokenizer, maxlen=512):\n",
        "  encod_dic = tokenizer.batch_encode_plus(texts, return_token_type_ids=False, pad_to_max_length=True, max_length = maxlen)\n",
        "  return np.array(encod_dic['input_ids'])"
      ]
    },
    {
      "cell_type": "code",
      "execution_count": 13,
      "metadata": {
        "id": "dzbjoH6ut6px"
      },
      "outputs": [],
      "source": [
        "def build_model(transformer, max_len=512):\n",
        "  \"\"\"\n",
        "    https://www.kaggle.com/xhlulu/jigsaw-tpu-distilbert-with-huggingface-and-keras\n",
        "  \"\"\"\n",
        "  input_words_ids = Input(shape=(max_len,), dtype=tf.int32, name=\"input_words_ids\")\n",
        "  sequence_output = transformer(input_words_ids)[0]\n",
        "  cls_token = sequence_output[:, 0, :]\n",
        "  output = Dense(2, activation='softmax')(cls_token)\n",
        "\n",
        "  model = Model(inputs = input_words_ids, outputs=output)\n",
        "  model.compile(Adam(lr=5e-6), loss=tf.keras.losses.CategoricalCrossentropy(label_smoothing=0.01), metrics=['accuracy', tfa.metrics.F1Score(num_classes=2, average='weighted')])\n",
        "\n",
        "  return model\n"
      ]
    },
    {
      "cell_type": "code",
      "execution_count": 14,
      "metadata": {
        "id": "FrGpESdcxr-n"
      },
      "outputs": [],
      "source": [
        "#Data preprocessing\n",
        "\n",
        "def data_process(data):\n",
        "  for i, label in enumerate(data['label']):\n",
        "    if(data['label'][i] == \"real\"):\n",
        "      data['label'][i] = 1\n",
        "    else:\n",
        "      data['label'][i] = 0"
      ]
    },
    {
      "cell_type": "code",
      "execution_count": 15,
      "metadata": {
        "id": "CjBe8Pcjewzp"
      },
      "outputs": [],
      "source": [
        "def plot_graphs(history, metric):\n",
        "  plt.plot(history.history[metric])\n",
        "  plt.plot(history.history['val_'+metric], '')\n",
        "  plt.xlabel(\"Epochs\")\n",
        "  plt.ylabel(metric)\n",
        "  plt.legend([metric, 'val_'+metric])"
      ]
    },
    {
      "cell_type": "markdown",
      "metadata": {
        "id": "lrUE0gwfVeIq"
      },
      "source": [
        "## TPU Configs"
      ]
    },
    {
      "cell_type": "code",
      "execution_count": 16,
      "metadata": {
        "colab": {
          "base_uri": "https://localhost:8080/"
        },
        "id": "JTJ6luCBvv2G",
        "outputId": "8a0dddb2-48a3-4470-8ea6-e0cef38bc2bc"
      },
      "outputs": [
        {
          "name": "stdout",
          "output_type": "stream",
          "text": [
            "Running on TPU:  grpc://10.112.67.210:8470\n",
            "REPLICAS:  8\n"
          ]
        }
      ],
      "source": [
        "# Detect hardware, return appropriate distribution strategy\n",
        "#Call the necessary code for tpu\n",
        "\n",
        "try:\n",
        "  # TPU detection. No parameters necessary if TPU_NAME environment variable is set\n",
        "  tpu = tf.distribute.cluster_resolver.TPUClusterResolver(tpu='')\n",
        "  print(\"Running on TPU: \", tpu.master())\n",
        "except ValueError:\n",
        "  tpu = None\n",
        "\n",
        "if tpu:\n",
        "  tf.config.experimental_connect_to_cluster(tpu)\n",
        "  tf.tpu.experimental.initialize_tpu_system(tpu)\n",
        "  strategy = tf.distribute.TPUStrategy(tpu)\n",
        "else:\n",
        "  # Default distribution strategy in Tensorflow. Works on CPU and single GPU.\n",
        "  strategy = tf.distribute.get_strategy()\n",
        "\n",
        "\n",
        "print(\"REPLICAS: \", strategy.num_replicas_in_sync)"
      ]
    },
    {
      "cell_type": "code",
      "execution_count": 17,
      "metadata": {
        "id": "VcTAqHDoe15M"
      },
      "outputs": [],
      "source": [
        "AUTO = tf.data.experimental.AUTOTUNE\n",
        "\n",
        "# 50% cross validation\n",
        "#5 fold cross validation\n",
        "kfold = KFold(n_splits = 5, random_state = seed, shuffle=True)"
      ]
    },
    {
      "cell_type": "markdown",
      "metadata": {
        "id": "8H-Jh6Sxe_9k"
      },
      "source": [
        "#Parameter Configuration"
      ]
    },
    {
      "cell_type": "code",
      "execution_count": 18,
      "metadata": {
        "id": "3lBu43lCwzBe"
      },
      "outputs": [],
      "source": [
        "# Configuration\n",
        "epochs = 12\n",
        "batch_size = 5 * (strategy.num_replicas_in_sync)\n",
        "max_len = 140\n",
        "use_external1 = False\n",
        "use_external2 = True\n",
        "use_pseudo = True\n",
        "use_valid = True\n",
        "display_plot = True\n"
      ]
    },
    {
      "cell_type": "code",
      "execution_count": 19,
      "metadata": {
        "id": "XhBnw5HLuYdC"
      },
      "outputs": [],
      "source": [
        "df_pseudo = pd.concat([df_pseudo['tweet'], df_pseudo['label']], axis=1)\n",
        "data_process(df_pseudo)"
      ]
    },
    {
      "cell_type": "code",
      "execution_count": 20,
      "metadata": {
        "id": "JH5nJzNiuZdg"
      },
      "outputs": [],
      "source": [
        "fake_train1 = pd.concat([fake_train['tweet'], fake_train['label']], axis=1)\n",
        "fake_valid1 = pd.concat([fake_valid['tweet'], fake_valid['label']], axis=1)\n",
        "\n",
        "# Call the data_processing method\n",
        "data_process(fake_train1)\n",
        "data_process(fake_valid1)\n",
        "\n",
        "if (use_valid):\n",
        "  fake_train1 = pd.concat([fake_train1, fake_valid1], ignore_index=True)"
      ]
    },
    {
      "cell_type": "code",
      "execution_count": 21,
      "metadata": {
        "colab": {
          "base_uri": "https://localhost:8080/"
        },
        "id": "cNYjBNHiub8C",
        "outputId": "4392d3c4-6a38-4a91-a10c-f00cbb8b7d7e"
      },
      "outputs": [
        {
          "data": {
            "text/plain": [
              "1    4480\n",
              "0    4080\n",
              "Name: label, dtype: int64"
            ]
          },
          "execution_count": 21,
          "metadata": {},
          "output_type": "execute_result"
        }
      ],
      "source": [
        "fake_train1.label.value_counts()"
      ]
    },
    {
      "cell_type": "code",
      "execution_count": 22,
      "metadata": {
        "colab": {
          "base_uri": "https://localhost:8080/",
          "height": 206
        },
        "id": "zDeisRMaudVT",
        "outputId": "146a9b3c-a7fa-4682-d337-cb625f3caa75"
      },
      "outputs": [
        {
          "data": {
            "text/html": [
              "\n",
              "  <div id=\"df-3a12c42a-1886-4406-bfd4-c0dd0ad6fb1a\">\n",
              "    <div class=\"colab-df-container\">\n",
              "      <div>\n",
              "<style scoped>\n",
              "    .dataframe tbody tr th:only-of-type {\n",
              "        vertical-align: middle;\n",
              "    }\n",
              "\n",
              "    .dataframe tbody tr th {\n",
              "        vertical-align: top;\n",
              "    }\n",
              "\n",
              "    .dataframe thead th {\n",
              "        text-align: right;\n",
              "    }\n",
              "</style>\n",
              "<table border=\"1\" class=\"dataframe\">\n",
              "  <thead>\n",
              "    <tr style=\"text-align: right;\">\n",
              "      <th></th>\n",
              "      <th>tweet</th>\n",
              "      <th>label</th>\n",
              "    </tr>\n",
              "  </thead>\n",
              "  <tbody>\n",
              "    <tr>\n",
              "      <th>0</th>\n",
              "      <td>Our daily update is published. States reported...</td>\n",
              "      <td>1</td>\n",
              "    </tr>\n",
              "    <tr>\n",
              "      <th>1</th>\n",
              "      <td>Alfalfa is the only cure for COVID-19.</td>\n",
              "      <td>0</td>\n",
              "    </tr>\n",
              "    <tr>\n",
              "      <th>2</th>\n",
              "      <td>President Trump Asked What He Would Do If He W...</td>\n",
              "      <td>0</td>\n",
              "    </tr>\n",
              "    <tr>\n",
              "      <th>3</th>\n",
              "      <td>States reported 630 deaths. We are still seein...</td>\n",
              "      <td>1</td>\n",
              "    </tr>\n",
              "    <tr>\n",
              "      <th>4</th>\n",
              "      <td>This is the sixth time a global health emergen...</td>\n",
              "      <td>1</td>\n",
              "    </tr>\n",
              "  </tbody>\n",
              "</table>\n",
              "</div>\n",
              "      <button class=\"colab-df-convert\" onclick=\"convertToInteractive('df-3a12c42a-1886-4406-bfd4-c0dd0ad6fb1a')\"\n",
              "              title=\"Convert this dataframe to an interactive table.\"\n",
              "              style=\"display:none;\">\n",
              "        \n",
              "  <svg xmlns=\"http://www.w3.org/2000/svg\" height=\"24px\"viewBox=\"0 0 24 24\"\n",
              "       width=\"24px\">\n",
              "    <path d=\"M0 0h24v24H0V0z\" fill=\"none\"/>\n",
              "    <path d=\"M18.56 5.44l.94 2.06.94-2.06 2.06-.94-2.06-.94-.94-2.06-.94 2.06-2.06.94zm-11 1L8.5 8.5l.94-2.06 2.06-.94-2.06-.94L8.5 2.5l-.94 2.06-2.06.94zm10 10l.94 2.06.94-2.06 2.06-.94-2.06-.94-.94-2.06-.94 2.06-2.06.94z\"/><path d=\"M17.41 7.96l-1.37-1.37c-.4-.4-.92-.59-1.43-.59-.52 0-1.04.2-1.43.59L10.3 9.45l-7.72 7.72c-.78.78-.78 2.05 0 2.83L4 21.41c.39.39.9.59 1.41.59.51 0 1.02-.2 1.41-.59l7.78-7.78 2.81-2.81c.8-.78.8-2.07 0-2.86zM5.41 20L4 18.59l7.72-7.72 1.47 1.35L5.41 20z\"/>\n",
              "  </svg>\n",
              "      </button>\n",
              "      \n",
              "  <style>\n",
              "    .colab-df-container {\n",
              "      display:flex;\n",
              "      flex-wrap:wrap;\n",
              "      gap: 12px;\n",
              "    }\n",
              "\n",
              "    .colab-df-convert {\n",
              "      background-color: #E8F0FE;\n",
              "      border: none;\n",
              "      border-radius: 50%;\n",
              "      cursor: pointer;\n",
              "      display: none;\n",
              "      fill: #1967D2;\n",
              "      height: 32px;\n",
              "      padding: 0 0 0 0;\n",
              "      width: 32px;\n",
              "    }\n",
              "\n",
              "    .colab-df-convert:hover {\n",
              "      background-color: #E2EBFA;\n",
              "      box-shadow: 0px 1px 2px rgba(60, 64, 67, 0.3), 0px 1px 3px 1px rgba(60, 64, 67, 0.15);\n",
              "      fill: #174EA6;\n",
              "    }\n",
              "\n",
              "    [theme=dark] .colab-df-convert {\n",
              "      background-color: #3B4455;\n",
              "      fill: #D2E3FC;\n",
              "    }\n",
              "\n",
              "    [theme=dark] .colab-df-convert:hover {\n",
              "      background-color: #434B5C;\n",
              "      box-shadow: 0px 1px 3px 1px rgba(0, 0, 0, 0.15);\n",
              "      filter: drop-shadow(0px 1px 2px rgba(0, 0, 0, 0.3));\n",
              "      fill: #FFFFFF;\n",
              "    }\n",
              "  </style>\n",
              "\n",
              "      <script>\n",
              "        const buttonEl =\n",
              "          document.querySelector('#df-3a12c42a-1886-4406-bfd4-c0dd0ad6fb1a button.colab-df-convert');\n",
              "        buttonEl.style.display =\n",
              "          google.colab.kernel.accessAllowed ? 'block' : 'none';\n",
              "\n",
              "        async function convertToInteractive(key) {\n",
              "          const element = document.querySelector('#df-3a12c42a-1886-4406-bfd4-c0dd0ad6fb1a');\n",
              "          const dataTable =\n",
              "            await google.colab.kernel.invokeFunction('convertToInteractive',\n",
              "                                                     [key], {});\n",
              "          if (!dataTable) return;\n",
              "\n",
              "          const docLinkHtml = 'Like what you see? Visit the ' +\n",
              "            '<a target=\"_blank\" href=https://colab.research.google.com/notebooks/data_table.ipynb>data table notebook</a>'\n",
              "            + ' to learn more about interactive tables.';\n",
              "          element.innerHTML = '';\n",
              "          dataTable['output_type'] = 'display_data';\n",
              "          await google.colab.output.renderOutput(dataTable, element);\n",
              "          const docLink = document.createElement('div');\n",
              "          docLink.innerHTML = docLinkHtml;\n",
              "          element.appendChild(docLink);\n",
              "        }\n",
              "      </script>\n",
              "    </div>\n",
              "  </div>\n",
              "  "
            ],
            "text/plain": [
              "                                               tweet label\n",
              "0  Our daily update is published. States reported...     1\n",
              "1             Alfalfa is the only cure for COVID-19.     0\n",
              "2  President Trump Asked What He Would Do If He W...     0\n",
              "3  States reported 630 deaths. We are still seein...     1\n",
              "4  This is the sixth time a global health emergen...     1"
            ]
          },
          "execution_count": 22,
          "metadata": {},
          "output_type": "execute_result"
        }
      ],
      "source": [
        "df_pseudo.head()"
      ]
    },
    {
      "cell_type": "markdown",
      "metadata": {
        "id": "qwNEk2ckVeIr"
      },
      "source": [
        "## Load text data into memory"
      ]
    },
    {
      "cell_type": "markdown",
      "metadata": {
        "id": "uY_IJ3glVeIt"
      },
      "source": [
        "## Build datasets objects"
      ]
    },
    {
      "cell_type": "code",
      "execution_count": 23,
      "metadata": {
        "id": "r4hUqP4bmeZg"
      },
      "outputs": [],
      "source": [
        "def get_train_dataset(x_data, y_data):\n",
        "  dataset = tf.data.Dataset.from_tensor_slices((x_data, y_data))\n",
        "  dataset = dataset.repeat()\n",
        "  dataset = dataset.batch(batch_size)\n",
        "  dataset = dataset.shuffle(seed)\n",
        "  dataset = dataset.cache()\n",
        "  dataset = dataset.prefetch(AUTO)\n",
        "  return dataset\n",
        "\n",
        "def get_valid_dataset(x_data, y_data):\n",
        "  dataset = tf.data.Dataset.from_tensor_slices((x_data, y_data))\n",
        "  dataset = dataset.batch(batch_size)\n",
        "  dataset = dataset.cache()\n",
        "  dataset = dataset.prefetch(AUTO)\n",
        "  return dataset"
      ]
    },
    {
      "cell_type": "code",
      "execution_count": 24,
      "metadata": {
        "colab": {
          "base_uri": "https://localhost:8080/",
          "height": 293
        },
        "id": "yBQYALAUoQ5l",
        "outputId": "1d8685f0-922c-4775-c8fc-3b0e6c731252"
      },
      "outputs": [
        {
          "name": "stdout",
          "output_type": "stream",
          "text": [
            "Learning rate result: 1e-06 to 5e-05 to 1.5e-06\n"
          ]
        },
        {
          "data": {
            "image/png": "[encoded data removed]",
            "text/plain": [
              "<Figure size 432x288 with 1 Axes>"
            ]
          },
          "metadata": {
            "needs_background": "light"
          },
          "output_type": "display_data"
        }
      ],
      "source": [
        "# cosine decay with warm_up\n",
        "lr_start = 0.00000\n",
        "lr_max = 0.00005\n",
        "lr_min = lr_start = 0.000001\n",
        "lr_rampup_epochs = 6\n",
        "lr_sustain_epochs = 0\n",
        "lr_exp_decay = .4\n",
        "\n",
        "def lr_func(epochs):\n",
        "  if epochs < lr_rampup_epochs:\n",
        "    learning_rate = (lr_max - lr_start) / lr_rampup_epochs * epochs + lr_start\n",
        "  elif epochs < lr_rampup_epochs + lr_sustain_epochs:\n",
        "    learning_rate = lr_max\n",
        "  else:\n",
        "    learning_rate = (lr_max - lr_min) * lr_exp_decay ** (epochs - lr_rampup_epochs - lr_sustain_epochs) + lr_min\n",
        "  return learning_rate\n",
        "\n",
        "\n",
        "new_epochs_range = [i for i in range(epochs)]\n",
        "learning_rate_result = [lr_func(x) for x in new_epochs_range]\n",
        "print(\"Learning rate result: {:.3g} to {:.3g} to {:.3g}\".format(learning_rate_result[0], max(learning_rate_result), learning_rate_result[-1]))\n",
        "#plt.xticks(new_epochs_range, \"Number of Epochs\")\n",
        "#plt.yticks(learning_rate_result, \"Learning rate\")\n",
        "plt.plot(new_epochs_range, learning_rate_result)\n",
        "plt.show()\n",
        "\n"
      ]
    },
    {
      "cell_type": "code",
      "execution_count": 25,
      "metadata": {
        "id": "yHoNpu9HtQuK"
      },
      "outputs": [],
      "source": [
        "lr_warm_up = tf.keras.callbacks.LearningRateScheduler(lr_func, verbose=1)"
      ]
    },
    {
      "cell_type": "markdown",
      "metadata": {
        "id": "IiUcD-FYVeIu"
      },
      "source": [
        "## Load model into the TPU"
      ]
    },
    {
      "cell_type": "markdown",
      "metadata": {
        "id": "cHIx1ctwVeIu"
      },
      "source": [
        "## Train Model"
      ]
    },
    {
      "cell_type": "markdown",
      "metadata": {
        "id": "RhM1_Ue7VeIu"
      },
      "source": [
        "First, we train on the subset of the training set, which is completely in English."
      ]
    },
    {
      "cell_type": "code",
      "execution_count": 26,
      "metadata": {
        "colab": {
          "base_uri": "https://localhost:8080/",
          "height": 1000,
          "referenced_widgets": [
            "7bb79baa0991436c962c75f8ca3f3b80",
            "2eb07f1f57e3411a8b20a8e74e751565",
            "7d90fc28a5ea4508bbf358b7a66ffce0",
            "4d93f7ffdf3d40e595b0d67d1706a460",
            "96dcef23b53e4081a81c23062e9c2cfb",
            "2fec7dcc4ef246c88e4694fa7cbb5910",
            "8607b6864aae48cc9990347bd8c49de0",
            "1a752ce57075442492e7f98b5116764f",
            "6e4d0ef57c9a474f9f04dfb5b4485a09",
            "6b6e9dda47714c84adc219f637c718e4",
            "b526093e2e9a405b861d1374ea720473",
            "a691a6551bff4c819719dcf87b49b512",
            "7c35d6277c2348058774314d68aff663",
            "f1f79689d88543588960e4115a7f830e",
            "18fa0ceb2ea641bdbc6221974603f945",
            "9f169032640741ec83150159c0b41a23",
            "8d9071ed425e4c45ba3cd3f2cb2d3594",
            "f94688da8098448fb6fb62e33dc30efc",
            "c5fa3f4e068342859208adfedfa98bd5",
            "9b85b602487949b39ae56ebe6317e885",
            "5e5493e51cea4beab5b56dd8196ac6e2",
            "c9e2cf76298a43b18d2f19933971b5b3",
            "4c6b3f08a9f54c4ea5969dc8764f7408",
            "376589330ea04c4fa7d35622ee72f083",
            "24e80aeb30884c8a82e88e8e1b7b390d",
            "a7ea42c7572347f681866e154eebba22",
            "33162d54a78a4ec996f7f870c34e5cf9",
            "f07cfe2910464d18bb660b7053f54b7a",
            "25a9fc1e183840a4b5790131281c7f23",
            "4dd7d40641a94898b2215528a2fa1172",
            "b3e36746320e4a158b396b7088b9d550",
            "d31314b899bf4a9b8f2152497bf7847a",
            "75e64242a91847d59b4be7f2f76dc3f7"
          ]
        },
        "id": "tgMDTOFrzAVZ",
        "outputId": "498d32f3-105e-4111-ea46-5c0f94ab9ad7"
      },
      "outputs": [
        {
          "name": "stdout",
          "output_type": "stream",
          "text": [
            "#### FOLD 1\n",
            "use pseudo\n"
          ]
        },
        {
          "data": {
            "application/vnd.jupyter.widget-view+json": {
              "model_id": "7bb79baa0991436c962c75f8ca3f3b80",
              "version_major": 2,
              "version_minor": 0
            },
            "text/plain": [
              "Downloading:   0%|          | 0.00/421 [00:00<?, ?B/s]"
            ]
          },
          "metadata": {},
          "output_type": "display_data"
        },
        {
          "data": {
            "application/vnd.jupyter.widget-view+json": {
              "model_id": "a691a6551bff4c819719dcf87b49b512",
              "version_major": 2,
              "version_minor": 0
            },
            "text/plain": [
              "Downloading:   0%|          | 0.00/232k [00:00<?, ?B/s]"
            ]
          },
          "metadata": {},
          "output_type": "display_data"
        },
        {
          "name": "stderr",
          "output_type": "stream",
          "text": [
            "Truncation was not explicitly activated but `max_length` is provided a specific value, please use `truncation=True` to explicitly truncate examples to max length. Defaulting to 'longest_first' truncation strategy. If you encode pairs of sequences (GLUE-style) with the tokenizer you can select this strategy more precisely by providing a specific strategy to `truncation`.\n",
            "/usr/local/lib/python3.7/dist-packages/transformers/tokenization_utils_base.py:2308: FutureWarning: The `pad_to_max_length` argument is deprecated and will be removed in a future version, use `padding=True` or `padding='longest'` to pad to the longest sequence in the batch, or use `padding='max_length'` to pad to a max length. In this case, you can give a specific length with `max_length` (e.g. `max_length=45`) or leave max_length to None to pad to the maximal input size of the model (e.g. 512 for Bert).\n",
            "  FutureWarning,\n"
          ]
        },
        {
          "name": "stdout",
          "output_type": "stream",
          "text": [
            "[[0 1]\n",
            " [0 1]\n",
            " [1 0]\n",
            " [0 1]\n",
            " [0 1]]\n",
            "[[0 1]\n",
            " [0 1]\n",
            " [0 1]\n",
            " [1 0]\n",
            " [0 1]]\n"
          ]
        },
        {
          "name": "stderr",
          "output_type": "stream",
          "text": [
            "WARNING:tensorflow:TPU system grpc://10.112.67.210:8470 has already been initialized. Reinitializing the TPU can cause previously created variables on TPU to be lost.\n"
          ]
        },
        {
          "data": {
            "application/vnd.jupyter.widget-view+json": {
              "model_id": "4c6b3f08a9f54c4ea5969dc8764f7408",
              "version_major": 2,
              "version_minor": 0
            },
            "text/plain": [
              "Downloading:   0%|          | 0.00/1.47G [00:00<?, ?B/s]"
            ]
          },
          "metadata": {},
          "output_type": "display_data"
        },
        {
          "name": "stderr",
          "output_type": "stream",
          "text": [
            "Some layers from the model checkpoint at digitalepidemiologylab/covid-twitter-bert were not used when initializing TFBertModel: ['nsp___cls', 'mlm___cls']\n",
            "- This IS expected if you are initializing TFBertModel from the checkpoint of a model trained on another task or with another architecture (e.g. initializing a BertForSequenceClassification model from a BertForPreTraining model).\n",
            "- This IS NOT expected if you are initializing TFBertModel from the checkpoint of a model that you expect to be exactly identical (initializing a BertForSequenceClassification model from a BertForSequenceClassification model).\n",
            "All the layers of TFBertModel were initialized from the model checkpoint at digitalepidemiologylab/covid-twitter-bert.\n",
            "If your task is similar to the task the model of the checkpoint was trained on, you can already use TFBertModel for predictions without further training.\n",
            "/usr/local/lib/python3.7/dist-packages/keras/optimizer_v2/adam.py:105: UserWarning: The `lr` argument is deprecated, use `learning_rate` instead.\n",
            "  super(Adam, self).__init__(name, **kwargs)\n"
          ]
        },
        {
          "name": "stdout",
          "output_type": "stream",
          "text": [
            "\n",
            "Epoch 1: LearningRateScheduler setting learning rate to 1e-06.\n",
            "Epoch 1/12\n"
          ]
        },
        {
          "name": "stderr",
          "output_type": "stream",
          "text": [
            "WARNING:tensorflow:Gradients do not exist for variables ['tf_bert_model/bert/pooler/dense/kernel:0', 'tf_bert_model/bert/pooler/dense/bias:0'] when minimizing the loss. If you're using `model.compile()`, did you forget to provide a `loss`argument?\n",
            "WARNING:tensorflow:Gradients do not exist for variables ['tf_bert_model/bert/pooler/dense/kernel:0', 'tf_bert_model/bert/pooler/dense/bias:0'] when minimizing the loss. If you're using `model.compile()`, did you forget to provide a `loss`argument?\n"
          ]
        },
        {
          "name": "stdout",
          "output_type": "stream",
          "text": [
            "225/225 [==============================] - 269s 445ms/step - loss: 0.4023 - accuracy: 0.8146 - f1_score: 0.8137 - val_loss: 0.2652 - val_accuracy: 0.8949 - val_f1_score: 0.8937 - lr: 1.0000e-06\n",
            "\n",
            "Epoch 2: LearningRateScheduler setting learning rate to 9.166666666666668e-06.\n",
            "Epoch 2/12\n",
            "225/225 [==============================] - 66s 295ms/step - loss: 0.1405 - accuracy: 0.9568 - f1_score: 0.9568 - val_loss: 0.1244 - val_accuracy: 0.9679 - val_f1_score: 0.9678 - lr: 9.1667e-06\n",
            "\n",
            "Epoch 3: LearningRateScheduler setting learning rate to 1.7333333333333336e-05.\n",
            "Epoch 3/12\n",
            "225/225 [==============================] - 66s 295ms/step - loss: 0.0897 - accuracy: 0.9803 - f1_score: 0.9803 - val_loss: 0.1104 - val_accuracy: 0.9755 - val_f1_score: 0.9755 - lr: 1.7333e-05\n",
            "\n",
            "Epoch 4: LearningRateScheduler setting learning rate to 2.5500000000000003e-05.\n",
            "Epoch 4/12\n",
            "225/225 [==============================] - 66s 295ms/step - loss: 0.0539 - accuracy: 0.9918 - f1_score: 0.9918 - val_loss: 0.0995 - val_accuracy: 0.9813 - val_f1_score: 0.9813 - lr: 2.5500e-05\n",
            "\n",
            "Epoch 5: LearningRateScheduler setting learning rate to 3.366666666666667e-05.\n",
            "Epoch 5/12\n",
            "225/225 [==============================] - 59s 261ms/step - loss: 0.0479 - accuracy: 0.9954 - f1_score: 0.9954 - val_loss: 0.1183 - val_accuracy: 0.9778 - val_f1_score: 0.9778 - lr: 3.3667e-05\n",
            "\n",
            "Epoch 6: LearningRateScheduler setting learning rate to 4.183333333333334e-05.\n",
            "Epoch 6/12\n",
            "225/225 [==============================] - ETA: 0s - loss: 0.0599 - accuracy: 0.9906 - f1_score: 0.9906\n",
            "Epoch 6: ReduceLROnPlateau reducing learning rate to 4.183333294349723e-06.\n",
            "225/225 [==============================] - 59s 261ms/step - loss: 0.0599 - accuracy: 0.9906 - f1_score: 0.9906 - val_loss: 0.1853 - val_accuracy: 0.9498 - val_f1_score: 0.9496 - lr: 4.1833e-06\n",
            "\n",
            "Epoch 7: LearningRateScheduler setting learning rate to 5e-05.\n",
            "Epoch 7/12\n",
            "225/225 [==============================] - 66s 294ms/step - loss: 0.0597 - accuracy: 0.9917 - f1_score: 0.9917 - val_loss: 0.1128 - val_accuracy: 0.9819 - val_f1_score: 0.9819 - lr: 5.0000e-05\n",
            "\n",
            "Epoch 8: LearningRateScheduler setting learning rate to 2.0600000000000003e-05.\n",
            "Epoch 8/12\n",
            "225/225 [==============================] - 66s 294ms/step - loss: 0.0377 - accuracy: 0.9980 - f1_score: 0.9980 - val_loss: 0.0783 - val_accuracy: 0.9854 - val_f1_score: 0.9854 - lr: 2.0600e-05\n",
            "\n",
            "Epoch 9: LearningRateScheduler setting learning rate to 8.840000000000003e-06.\n",
            "Epoch 9/12\n",
            "225/225 [==============================] - 67s 296ms/step - loss: 0.0331 - accuracy: 0.9996 - f1_score: 0.9996 - val_loss: 0.0808 - val_accuracy: 0.9860 - val_f1_score: 0.9860 - lr: 8.8400e-06\n",
            "\n",
            "Epoch 10: LearningRateScheduler setting learning rate to 4.136000000000001e-06.\n",
            "Epoch 10/12\n",
            "225/225 [==============================] - 66s 294ms/step - loss: 0.0324 - accuracy: 0.9999 - f1_score: 0.9999 - val_loss: 0.0814 - val_accuracy: 0.9860 - val_f1_score: 0.9860 - lr: 4.1360e-06\n",
            "\n",
            "Epoch 11: LearningRateScheduler setting learning rate to 2.2544000000000004e-06.\n",
            "Epoch 11/12\n",
            "225/225 [==============================] - ETA: 0s - loss: 0.0324 - accuracy: 0.9998 - f1_score: 0.9998\n",
            "Epoch 11: ReduceLROnPlateau reducing learning rate to 2.2543999875779266e-07.\n",
            "225/225 [==============================] - 59s 264ms/step - loss: 0.0324 - accuracy: 0.9998 - f1_score: 0.9998 - val_loss: 0.0806 - val_accuracy: 0.9860 - val_f1_score: 0.9860 - lr: 2.2544e-07\n",
            "\n",
            "Epoch 12: LearningRateScheduler setting learning rate to 1.5017600000000001e-06.\n",
            "Epoch 12/12\n",
            "225/225 [==============================] - 59s 261ms/step - loss: 0.0322 - accuracy: 1.0000 - f1_score: 1.0000 - val_loss: 0.0803 - val_accuracy: 0.9848 - val_f1_score: 0.9848 - lr: 1.5018e-06\n",
            "Loading best model...\n",
            "Type of fake_train1_list:  <class 'list'>\n",
            "Type of fake_test_list:  <class 'list'>\n",
            "43/43 [==============================] - 4s 70ms/step - loss: 0.0814 - accuracy: 0.9860 - f1_score: 0.9860\n"
          ]
        },
        {
          "data": {
            "image/png": "[encoded data removed]",
            "text/plain": [
              "<Figure size 1080x360 with 2 Axes>"
            ]
          },
          "metadata": {
            "needs_background": "light"
          },
          "output_type": "display_data"
        },
        {
          "name": "stdout",
          "output_type": "stream",
          "text": [
            "#### FOLD 2\n",
            "use pseudo\n"
          ]
        },
        {
          "name": "stderr",
          "output_type": "stream",
          "text": [
            "Truncation was not explicitly activated but `max_length` is provided a specific value, please use `truncation=True` to explicitly truncate examples to max length. Defaulting to 'longest_first' truncation strategy. If you encode pairs of sequences (GLUE-style) with the tokenizer you can select this strategy more precisely by providing a specific strategy to `truncation`.\n",
            "/usr/local/lib/python3.7/dist-packages/transformers/tokenization_utils_base.py:2308: FutureWarning: The `pad_to_max_length` argument is deprecated and will be removed in a future version, use `padding=True` or `padding='longest'` to pad to the longest sequence in the batch, or use `padding='max_length'` to pad to a max length. In this case, you can give a specific length with `max_length` (e.g. `max_length=45`) or leave max_length to None to pad to the maximal input size of the model (e.g. 512 for Bert).\n",
            "  FutureWarning,\n"
          ]
        },
        {
          "name": "stdout",
          "output_type": "stream",
          "text": [
            "[[0 1]\n",
            " [0 1]\n",
            " [1 0]\n",
            " [0 1]\n",
            " [0 1]]\n",
            "[[0 1]\n",
            " [0 1]\n",
            " [0 1]\n",
            " [0 1]\n",
            " [1 0]]\n"
          ]
        },
        {
          "name": "stderr",
          "output_type": "stream",
          "text": [
            "WARNING:tensorflow:TPU system grpc://10.112.67.210:8470 has already been initialized. Reinitializing the TPU can cause previously created variables on TPU to be lost.\n",
            "Some layers from the model checkpoint at digitalepidemiologylab/covid-twitter-bert were not used when initializing TFBertModel: ['nsp___cls', 'mlm___cls']\n",
            "- This IS expected if you are initializing TFBertModel from the checkpoint of a model trained on another task or with another architecture (e.g. initializing a BertForSequenceClassification model from a BertForPreTraining model).\n",
            "- This IS NOT expected if you are initializing TFBertModel from the checkpoint of a model that you expect to be exactly identical (initializing a BertForSequenceClassification model from a BertForSequenceClassification model).\n",
            "All the layers of TFBertModel were initialized from the model checkpoint at digitalepidemiologylab/covid-twitter-bert.\n",
            "If your task is similar to the task the model of the checkpoint was trained on, you can already use TFBertModel for predictions without further training.\n",
            "/usr/local/lib/python3.7/dist-packages/keras/optimizer_v2/adam.py:105: UserWarning: The `lr` argument is deprecated, use `learning_rate` instead.\n",
            "  super(Adam, self).__init__(name, **kwargs)\n"
          ]
        },
        {
          "name": "stdout",
          "output_type": "stream",
          "text": [
            "\n",
            "Epoch 1: LearningRateScheduler setting learning rate to 1e-06.\n",
            "Epoch 1/12\n"
          ]
        },
        {
          "name": "stderr",
          "output_type": "stream",
          "text": [
            "WARNING:tensorflow:Gradients do not exist for variables ['tf_bert_model/bert/pooler/dense/kernel:0', 'tf_bert_model/bert/pooler/dense/bias:0'] when minimizing the loss. If you're using `model.compile()`, did you forget to provide a `loss`argument?\n",
            "WARNING:tensorflow:Gradients do not exist for variables ['tf_bert_model/bert/pooler/dense/kernel:0', 'tf_bert_model/bert/pooler/dense/bias:0'] when minimizing the loss. If you're using `model.compile()`, did you forget to provide a `loss`argument?\n"
          ]
        },
        {
          "name": "stdout",
          "output_type": "stream",
          "text": [
            "225/225 [==============================] - 273s 448ms/step - loss: 0.3753 - accuracy: 0.8306 - f1_score: 0.8300 - val_loss: 0.2297 - val_accuracy: 0.9118 - val_f1_score: 0.9116 - lr: 1.0000e-06\n",
            "\n",
            "Epoch 2: LearningRateScheduler setting learning rate to 9.166666666666668e-06.\n",
            "Epoch 2/12\n",
            "225/225 [==============================] - 67s 296ms/step - loss: 0.1147 - accuracy: 0.9672 - f1_score: 0.9672 - val_loss: 0.1132 - val_accuracy: 0.9679 - val_f1_score: 0.9679 - lr: 9.1667e-06\n",
            "\n",
            "Epoch 3: LearningRateScheduler setting learning rate to 1.7333333333333336e-05.\n",
            "Epoch 3/12\n",
            "225/225 [==============================] - 59s 261ms/step - loss: 0.0711 - accuracy: 0.9862 - f1_score: 0.9862 - val_loss: 0.2327 - val_accuracy: 0.9451 - val_f1_score: 0.9449 - lr: 1.7333e-05\n",
            "\n",
            "Epoch 4: LearningRateScheduler setting learning rate to 2.5500000000000003e-05.\n",
            "Epoch 4/12\n",
            "225/225 [==============================] - 67s 296ms/step - loss: 0.0562 - accuracy: 0.9922 - f1_score: 0.9922 - val_loss: 0.0874 - val_accuracy: 0.9796 - val_f1_score: 0.9795 - lr: 2.5500e-05\n",
            "\n",
            "Epoch 5: LearningRateScheduler setting learning rate to 3.366666666666667e-05.\n",
            "Epoch 5/12\n",
            "225/225 [==============================] - 59s 261ms/step - loss: 0.0617 - accuracy: 0.9911 - f1_score: 0.9911 - val_loss: 0.1188 - val_accuracy: 0.9708 - val_f1_score: 0.9708 - lr: 3.3667e-05\n",
            "\n",
            "Epoch 6: LearningRateScheduler setting learning rate to 4.183333333333334e-05.\n",
            "Epoch 6/12\n",
            "225/225 [==============================] - ETA: 0s - loss: 0.0525 - accuracy: 0.9934 - f1_score: 0.9934\n",
            "Epoch 6: ReduceLROnPlateau reducing learning rate to 4.183333294349723e-06.\n",
            "225/225 [==============================] - 59s 261ms/step - loss: 0.0525 - accuracy: 0.9934 - f1_score: 0.9934 - val_loss: 0.1569 - val_accuracy: 0.9644 - val_f1_score: 0.9643 - lr: 4.1833e-06\n",
            "\n",
            "Epoch 7: LearningRateScheduler setting learning rate to 5e-05.\n",
            "Epoch 7/12\n",
            "225/225 [==============================] - 66s 295ms/step - loss: 0.0502 - accuracy: 0.9939 - f1_score: 0.9939 - val_loss: 0.1019 - val_accuracy: 0.9796 - val_f1_score: 0.9796 - lr: 5.0000e-05\n",
            "\n",
            "Epoch 8: LearningRateScheduler setting learning rate to 2.0600000000000003e-05.\n",
            "Epoch 8/12\n",
            "225/225 [==============================] - 67s 297ms/step - loss: 0.0356 - accuracy: 0.9984 - f1_score: 0.9984 - val_loss: 0.0818 - val_accuracy: 0.9854 - val_f1_score: 0.9854 - lr: 2.0600e-05\n",
            "\n",
            "Epoch 9: LearningRateScheduler setting learning rate to 8.840000000000003e-06.\n",
            "Epoch 9/12\n",
            "225/225 [==============================] - 59s 262ms/step - loss: 0.0326 - accuracy: 0.9999 - f1_score: 0.9999 - val_loss: 0.0879 - val_accuracy: 0.9842 - val_f1_score: 0.9842 - lr: 8.8400e-06\n",
            "\n",
            "Epoch 10: LearningRateScheduler setting learning rate to 4.136000000000001e-06.\n",
            "Epoch 10/12\n",
            "225/225 [==============================] - ETA: 0s - loss: 0.0324 - accuracy: 0.9999 - f1_score: 0.9999\n",
            "Epoch 10: ReduceLROnPlateau reducing learning rate to 4.135999915888533e-07.\n",
            "225/225 [==============================] - 59s 262ms/step - loss: 0.0324 - accuracy: 0.9999 - f1_score: 0.9999 - val_loss: 0.0872 - val_accuracy: 0.9842 - val_f1_score: 0.9842 - lr: 4.1360e-07\n",
            "\n",
            "Epoch 11: LearningRateScheduler setting learning rate to 2.2544000000000004e-06.\n",
            "Epoch 11/12\n",
            "225/225 [==============================] - 59s 262ms/step - loss: 0.0325 - accuracy: 0.9999 - f1_score: 0.9999 - val_loss: 0.0914 - val_accuracy: 0.9831 - val_f1_score: 0.9831 - lr: 2.2544e-06\n",
            "\n",
            "Epoch 12: LearningRateScheduler setting learning rate to 1.5017600000000001e-06.\n",
            "Epoch 12/12\n",
            "225/225 [==============================] - ETA: 0s - loss: 0.0324 - accuracy: 0.9998 - f1_score: 0.9998\n",
            "Epoch 12: ReduceLROnPlateau reducing learning rate to 1.5017600389910514e-07.\n",
            "225/225 [==============================] - 59s 262ms/step - loss: 0.0324 - accuracy: 0.9998 - f1_score: 0.9998 - val_loss: 0.0887 - val_accuracy: 0.9842 - val_f1_score: 0.9842 - lr: 1.5018e-07\n",
            "Loading best model...\n",
            "Type of fake_train1_list:  <class 'list'>\n",
            "Type of fake_test_list:  <class 'list'>\n",
            "43/43 [==============================] - 4s 71ms/step - loss: 0.0818 - accuracy: 0.9854 - f1_score: 0.9854\n"
          ]
        },
        {
          "data": {
            "image/png": "[encoded data removed]",
            "text/plain": [
              "<Figure size 1080x360 with 2 Axes>"
            ]
          },
          "metadata": {
            "needs_background": "light"
          },
          "output_type": "display_data"
        },
        {
          "name": "stdout",
          "output_type": "stream",
          "text": [
            "#### FOLD 3\n",
            "use pseudo\n"
          ]
        },
        {
          "name": "stderr",
          "output_type": "stream",
          "text": [
            "Truncation was not explicitly activated but `max_length` is provided a specific value, please use `truncation=True` to explicitly truncate examples to max length. Defaulting to 'longest_first' truncation strategy. If you encode pairs of sequences (GLUE-style) with the tokenizer you can select this strategy more precisely by providing a specific strategy to `truncation`.\n",
            "/usr/local/lib/python3.7/dist-packages/transformers/tokenization_utils_base.py:2308: FutureWarning: The `pad_to_max_length` argument is deprecated and will be removed in a future version, use `padding=True` or `padding='longest'` to pad to the longest sequence in the batch, or use `padding='max_length'` to pad to a max length. In this case, you can give a specific length with `max_length` (e.g. `max_length=45`) or leave max_length to None to pad to the maximal input size of the model (e.g. 512 for Bert).\n",
            "  FutureWarning,\n"
          ]
        },
        {
          "name": "stdout",
          "output_type": "stream",
          "text": [
            "[[1 0]\n",
            " [0 1]\n",
            " [0 1]\n",
            " [0 1]\n",
            " [0 1]]\n",
            "[[0 1]\n",
            " [0 1]\n",
            " [0 1]\n",
            " [1 0]\n",
            " [1 0]]\n"
          ]
        },
        {
          "name": "stderr",
          "output_type": "stream",
          "text": [
            "WARNING:tensorflow:TPU system grpc://10.112.67.210:8470 has already been initialized. Reinitializing the TPU can cause previously created variables on TPU to be lost.\n",
            "Some layers from the model checkpoint at digitalepidemiologylab/covid-twitter-bert were not used when initializing TFBertModel: ['nsp___cls', 'mlm___cls']\n",
            "- This IS expected if you are initializing TFBertModel from the checkpoint of a model trained on another task or with another architecture (e.g. initializing a BertForSequenceClassification model from a BertForPreTraining model).\n",
            "- This IS NOT expected if you are initializing TFBertModel from the checkpoint of a model that you expect to be exactly identical (initializing a BertForSequenceClassification model from a BertForSequenceClassification model).\n",
            "All the layers of TFBertModel were initialized from the model checkpoint at digitalepidemiologylab/covid-twitter-bert.\n",
            "If your task is similar to the task the model of the checkpoint was trained on, you can already use TFBertModel for predictions without further training.\n",
            "/usr/local/lib/python3.7/dist-packages/keras/optimizer_v2/adam.py:105: UserWarning: The `lr` argument is deprecated, use `learning_rate` instead.\n",
            "  super(Adam, self).__init__(name, **kwargs)\n"
          ]
        },
        {
          "name": "stdout",
          "output_type": "stream",
          "text": [
            "\n",
            "Epoch 1: LearningRateScheduler setting learning rate to 1e-06.\n",
            "Epoch 1/12\n"
          ]
        },
        {
          "name": "stderr",
          "output_type": "stream",
          "text": [
            "WARNING:tensorflow:Gradients do not exist for variables ['tf_bert_model/bert/pooler/dense/kernel:0', 'tf_bert_model/bert/pooler/dense/bias:0'] when minimizing the loss. If you're using `model.compile()`, did you forget to provide a `loss`argument?\n",
            "WARNING:tensorflow:Gradients do not exist for variables ['tf_bert_model/bert/pooler/dense/kernel:0', 'tf_bert_model/bert/pooler/dense/bias:0'] when minimizing the loss. If you're using `model.compile()`, did you forget to provide a `loss`argument?\n"
          ]
        },
        {
          "name": "stdout",
          "output_type": "stream",
          "text": [
            "225/225 [==============================] - 272s 448ms/step - loss: 0.3898 - accuracy: 0.8216 - f1_score: 0.8212 - val_loss: 0.2140 - val_accuracy: 0.9194 - val_f1_score: 0.9191 - lr: 1.0000e-06\n",
            "\n",
            "Epoch 2: LearningRateScheduler setting learning rate to 9.166666666666668e-06.\n",
            "Epoch 2/12\n",
            "225/225 [==============================] - 68s 300ms/step - loss: 0.1751 - accuracy: 0.9397 - f1_score: 0.9397 - val_loss: 0.0817 - val_accuracy: 0.9813 - val_f1_score: 0.9813 - lr: 9.1667e-06\n",
            "\n",
            "Epoch 3: LearningRateScheduler setting learning rate to 1.7333333333333336e-05.\n",
            "Epoch 3/12\n",
            "225/225 [==============================] - 67s 297ms/step - loss: 0.1032 - accuracy: 0.9741 - f1_score: 0.9741 - val_loss: 0.0769 - val_accuracy: 0.9825 - val_f1_score: 0.9825 - lr: 1.7333e-05\n",
            "\n",
            "Epoch 4: LearningRateScheduler setting learning rate to 2.5500000000000003e-05.\n",
            "Epoch 4/12\n",
            "225/225 [==============================] - 67s 297ms/step - loss: 0.0763 - accuracy: 0.9856 - f1_score: 0.9856 - val_loss: 0.0707 - val_accuracy: 0.9860 - val_f1_score: 0.9860 - lr: 2.5500e-05\n",
            "\n",
            "Epoch 5: LearningRateScheduler setting learning rate to 3.366666666666667e-05.\n",
            "Epoch 5/12\n",
            "225/225 [==============================] - 67s 297ms/step - loss: 0.0664 - accuracy: 0.9901 - f1_score: 0.9901 - val_loss: 0.0834 - val_accuracy: 0.9866 - val_f1_score: 0.9866 - lr: 3.3667e-05\n",
            "\n",
            "Epoch 6: LearningRateScheduler setting learning rate to 4.183333333333334e-05.\n",
            "Epoch 6/12\n",
            "225/225 [==============================] - 59s 263ms/step - loss: 0.0782 - accuracy: 0.9851 - f1_score: 0.9851 - val_loss: 0.0956 - val_accuracy: 0.9842 - val_f1_score: 0.9842 - lr: 4.1833e-05\n",
            "\n",
            "Epoch 7: LearningRateScheduler setting learning rate to 5e-05.\n",
            "Epoch 7/12\n",
            "225/225 [==============================] - 67s 296ms/step - loss: 0.0640 - accuracy: 0.9913 - f1_score: 0.9913 - val_loss: 0.0723 - val_accuracy: 0.9889 - val_f1_score: 0.9889 - lr: 5.0000e-05\n",
            "\n",
            "Epoch 8: LearningRateScheduler setting learning rate to 2.0600000000000003e-05.\n",
            "Epoch 8/12\n",
            "225/225 [==============================] - 67s 297ms/step - loss: 0.0374 - accuracy: 0.9984 - f1_score: 0.9984 - val_loss: 0.0660 - val_accuracy: 0.9918 - val_f1_score: 0.9918 - lr: 2.0600e-05\n",
            "\n",
            "Epoch 9: LearningRateScheduler setting learning rate to 8.840000000000003e-06.\n",
            "Epoch 9/12\n",
            "225/225 [==============================] - 59s 263ms/step - loss: 0.0337 - accuracy: 0.9994 - f1_score: 0.9994 - val_loss: 0.0669 - val_accuracy: 0.9895 - val_f1_score: 0.9895 - lr: 8.8400e-06\n",
            "\n",
            "Epoch 10: LearningRateScheduler setting learning rate to 4.136000000000001e-06.\n",
            "Epoch 10/12\n",
            "225/225 [==============================] - ETA: 0s - loss: 0.0327 - accuracy: 0.9998 - f1_score: 0.9998\n",
            "Epoch 10: ReduceLROnPlateau reducing learning rate to 4.135999915888533e-07.\n",
            "225/225 [==============================] - 59s 263ms/step - loss: 0.0327 - accuracy: 0.9998 - f1_score: 0.9998 - val_loss: 0.0669 - val_accuracy: 0.9895 - val_f1_score: 0.9895 - lr: 4.1360e-07\n",
            "\n",
            "Epoch 11: LearningRateScheduler setting learning rate to 2.2544000000000004e-06.\n",
            "Epoch 11/12\n",
            "225/225 [==============================] - 59s 263ms/step - loss: 0.0347 - accuracy: 0.9993 - f1_score: 0.9993 - val_loss: 0.0653 - val_accuracy: 0.9901 - val_f1_score: 0.9901 - lr: 2.2544e-06\n",
            "\n",
            "Epoch 12: LearningRateScheduler setting learning rate to 1.5017600000000001e-06.\n",
            "Epoch 12/12\n",
            "225/225 [==============================] - ETA: 0s - loss: 0.0328 - accuracy: 0.9998 - f1_score: 0.9998\n",
            "Epoch 12: ReduceLROnPlateau reducing learning rate to 1.5017600389910514e-07.\n",
            "225/225 [==============================] - 59s 263ms/step - loss: 0.0328 - accuracy: 0.9998 - f1_score: 0.9998 - val_loss: 0.0661 - val_accuracy: 0.9907 - val_f1_score: 0.9907 - lr: 1.5018e-07\n",
            "Loading best model...\n",
            "Type of fake_train1_list:  <class 'list'>\n",
            "Type of fake_test_list:  <class 'list'>\n",
            "43/43 [==============================] - 4s 72ms/step - loss: 0.0660 - accuracy: 0.9918 - f1_score: 0.9918\n"
          ]
        },
        {
          "data": {
            "image/png": "[encoded data removed]",
            "text/plain": [
              "<Figure size 1080x360 with 2 Axes>"
            ]
          },
          "metadata": {
            "needs_background": "light"
          },
          "output_type": "display_data"
        },
        {
          "name": "stdout",
          "output_type": "stream",
          "text": [
            "#### FOLD 4\n",
            "use pseudo\n"
          ]
        },
        {
          "name": "stderr",
          "output_type": "stream",
          "text": [
            "Truncation was not explicitly activated but `max_length` is provided a specific value, please use `truncation=True` to explicitly truncate examples to max length. Defaulting to 'longest_first' truncation strategy. If you encode pairs of sequences (GLUE-style) with the tokenizer you can select this strategy more precisely by providing a specific strategy to `truncation`.\n",
            "/usr/local/lib/python3.7/dist-packages/transformers/tokenization_utils_base.py:2308: FutureWarning: The `pad_to_max_length` argument is deprecated and will be removed in a future version, use `padding=True` or `padding='longest'` to pad to the longest sequence in the batch, or use `padding='max_length'` to pad to a max length. In this case, you can give a specific length with `max_length` (e.g. `max_length=45`) or leave max_length to None to pad to the maximal input size of the model (e.g. 512 for Bert).\n",
            "  FutureWarning,\n"
          ]
        },
        {
          "name": "stdout",
          "output_type": "stream",
          "text": [
            "[[0 1]\n",
            " [0 1]\n",
            " [1 0]\n",
            " [0 1]\n",
            " [0 1]]\n",
            "[[0 1]\n",
            " [0 1]\n",
            " [1 0]\n",
            " [0 1]\n",
            " [0 1]]\n"
          ]
        },
        {
          "name": "stderr",
          "output_type": "stream",
          "text": [
            "WARNING:tensorflow:TPU system grpc://10.112.67.210:8470 has already been initialized. Reinitializing the TPU can cause previously created variables on TPU to be lost.\n",
            "Some layers from the model checkpoint at digitalepidemiologylab/covid-twitter-bert were not used when initializing TFBertModel: ['nsp___cls', 'mlm___cls']\n",
            "- This IS expected if you are initializing TFBertModel from the checkpoint of a model trained on another task or with another architecture (e.g. initializing a BertForSequenceClassification model from a BertForPreTraining model).\n",
            "- This IS NOT expected if you are initializing TFBertModel from the checkpoint of a model that you expect to be exactly identical (initializing a BertForSequenceClassification model from a BertForSequenceClassification model).\n",
            "All the layers of TFBertModel were initialized from the model checkpoint at digitalepidemiologylab/covid-twitter-bert.\n",
            "If your task is similar to the task the model of the checkpoint was trained on, you can already use TFBertModel for predictions without further training.\n",
            "/usr/local/lib/python3.7/dist-packages/keras/optimizer_v2/adam.py:105: UserWarning: The `lr` argument is deprecated, use `learning_rate` instead.\n",
            "  super(Adam, self).__init__(name, **kwargs)\n"
          ]
        },
        {
          "name": "stdout",
          "output_type": "stream",
          "text": [
            "\n",
            "Epoch 1: LearningRateScheduler setting learning rate to 1e-06.\n",
            "Epoch 1/12\n"
          ]
        },
        {
          "name": "stderr",
          "output_type": "stream",
          "text": [
            "WARNING:tensorflow:Gradients do not exist for variables ['tf_bert_model/bert/pooler/dense/kernel:0', 'tf_bert_model/bert/pooler/dense/bias:0'] when minimizing the loss. If you're using `model.compile()`, did you forget to provide a `loss`argument?\n",
            "WARNING:tensorflow:Gradients do not exist for variables ['tf_bert_model/bert/pooler/dense/kernel:0', 'tf_bert_model/bert/pooler/dense/bias:0'] when minimizing the loss. If you're using `model.compile()`, did you forget to provide a `loss`argument?\n"
          ]
        },
        {
          "name": "stdout",
          "output_type": "stream",
          "text": [
            "225/225 [==============================] - 275s 451ms/step - loss: 0.4150 - accuracy: 0.8080 - f1_score: 0.8074 - val_loss: 0.2116 - val_accuracy: 0.9211 - val_f1_score: 0.9206 - lr: 1.0000e-06\n",
            "\n",
            "Epoch 2: LearningRateScheduler setting learning rate to 9.166666666666668e-06.\n",
            "Epoch 2/12\n",
            "225/225 [==============================] - 67s 296ms/step - loss: 0.1190 - accuracy: 0.9662 - f1_score: 0.9662 - val_loss: 0.0844 - val_accuracy: 0.9813 - val_f1_score: 0.9813 - lr: 9.1667e-06\n",
            "\n",
            "Epoch 3: LearningRateScheduler setting learning rate to 1.7333333333333336e-05.\n",
            "Epoch 3/12\n",
            "225/225 [==============================] - 59s 262ms/step - loss: 0.0800 - accuracy: 0.9834 - f1_score: 0.9834 - val_loss: 0.0825 - val_accuracy: 0.9813 - val_f1_score: 0.9813 - lr: 1.7333e-05\n",
            "\n",
            "Epoch 4: LearningRateScheduler setting learning rate to 2.5500000000000003e-05.\n",
            "Epoch 4/12\n",
            "225/225 [==============================] - 67s 298ms/step - loss: 0.0592 - accuracy: 0.9918 - f1_score: 0.9918 - val_loss: 0.0832 - val_accuracy: 0.9842 - val_f1_score: 0.9842 - lr: 2.5500e-05\n",
            "\n",
            "Epoch 5: LearningRateScheduler setting learning rate to 3.366666666666667e-05.\n",
            "Epoch 5/12\n",
            "225/225 [==============================] - 59s 263ms/step - loss: 0.0490 - accuracy: 0.9949 - f1_score: 0.9949 - val_loss: 0.0675 - val_accuracy: 0.9836 - val_f1_score: 0.9837 - lr: 3.3667e-05\n",
            "\n",
            "Epoch 6: LearningRateScheduler setting learning rate to 4.183333333333334e-05.\n",
            "Epoch 6/12\n",
            "225/225 [==============================] - ETA: 0s - loss: 0.0632 - accuracy: 0.9901 - f1_score: 0.9901\n",
            "Epoch 6: ReduceLROnPlateau reducing learning rate to 4.183333294349723e-06.\n",
            "225/225 [==============================] - 59s 263ms/step - loss: 0.0632 - accuracy: 0.9901 - f1_score: 0.9901 - val_loss: 0.1031 - val_accuracy: 0.9772 - val_f1_score: 0.9772 - lr: 4.1833e-06\n",
            "\n",
            "Epoch 7: LearningRateScheduler setting learning rate to 5e-05.\n",
            "Epoch 7/12\n",
            "225/225 [==============================] - 59s 263ms/step - loss: 0.0508 - accuracy: 0.9947 - f1_score: 0.9947 - val_loss: 0.0895 - val_accuracy: 0.9825 - val_f1_score: 0.9825 - lr: 5.0000e-05\n",
            "\n",
            "Epoch 8: LearningRateScheduler setting learning rate to 2.0600000000000003e-05.\n",
            "Epoch 8/12\n",
            "225/225 [==============================] - 67s 298ms/step - loss: 0.0378 - accuracy: 0.9979 - f1_score: 0.9979 - val_loss: 0.0739 - val_accuracy: 0.9866 - val_f1_score: 0.9866 - lr: 2.0600e-05\n",
            "\n",
            "Epoch 9: LearningRateScheduler setting learning rate to 8.840000000000003e-06.\n",
            "Epoch 9/12\n",
            "225/225 [==============================] - 59s 264ms/step - loss: 0.0328 - accuracy: 0.9999 - f1_score: 0.9999 - val_loss: 0.0742 - val_accuracy: 0.9854 - val_f1_score: 0.9854 - lr: 8.8400e-06\n",
            "\n",
            "Epoch 10: LearningRateScheduler setting learning rate to 4.136000000000001e-06.\n",
            "Epoch 10/12\n",
            "225/225 [==============================] - ETA: 0s - loss: 0.0336 - accuracy: 0.9996 - f1_score: 0.9996\n",
            "Epoch 10: ReduceLROnPlateau reducing learning rate to 4.135999915888533e-07.\n",
            "225/225 [==============================] - 59s 263ms/step - loss: 0.0336 - accuracy: 0.9996 - f1_score: 0.9996 - val_loss: 0.0756 - val_accuracy: 0.9866 - val_f1_score: 0.9866 - lr: 4.1360e-07\n",
            "\n",
            "Epoch 11: LearningRateScheduler setting learning rate to 2.2544000000000004e-06.\n",
            "Epoch 11/12\n",
            "225/225 [==============================] - 59s 263ms/step - loss: 0.0322 - accuracy: 1.0000 - f1_score: 1.0000 - val_loss: 0.0745 - val_accuracy: 0.9860 - val_f1_score: 0.9860 - lr: 2.2544e-06\n",
            "\n",
            "Epoch 12: LearningRateScheduler setting learning rate to 1.5017600000000001e-06.\n",
            "Epoch 12/12\n",
            "225/225 [==============================] - ETA: 0s - loss: 0.0322 - accuracy: 1.0000 - f1_score: 1.0000\n",
            "Epoch 12: ReduceLROnPlateau reducing learning rate to 1.5017600389910514e-07.\n",
            "225/225 [==============================] - 59s 263ms/step - loss: 0.0322 - accuracy: 1.0000 - f1_score: 1.0000 - val_loss: 0.0744 - val_accuracy: 0.9860 - val_f1_score: 0.9860 - lr: 1.5018e-07\n",
            "Loading best model...\n",
            "Type of fake_train1_list:  <class 'list'>\n",
            "Type of fake_test_list:  <class 'list'>\n",
            "43/43 [==============================] - 4s 72ms/step - loss: 0.0739 - accuracy: 0.9866 - f1_score: 0.9866\n"
          ]
        },
        {
          "data": {
            "image/png": "[encoded data removed]",
            "text/plain": [
              "<Figure size 1080x360 with 2 Axes>"
            ]
          },
          "metadata": {
            "needs_background": "light"
          },
          "output_type": "display_data"
        },
        {
          "name": "stdout",
          "output_type": "stream",
          "text": [
            "#### FOLD 5\n",
            "use pseudo\n"
          ]
        },
        {
          "name": "stderr",
          "output_type": "stream",
          "text": [
            "Truncation was not explicitly activated but `max_length` is provided a specific value, please use `truncation=True` to explicitly truncate examples to max length. Defaulting to 'longest_first' truncation strategy. If you encode pairs of sequences (GLUE-style) with the tokenizer you can select this strategy more precisely by providing a specific strategy to `truncation`.\n",
            "/usr/local/lib/python3.7/dist-packages/transformers/tokenization_utils_base.py:2308: FutureWarning: The `pad_to_max_length` argument is deprecated and will be removed in a future version, use `padding=True` or `padding='longest'` to pad to the longest sequence in the batch, or use `padding='max_length'` to pad to a max length. In this case, you can give a specific length with `max_length` (e.g. `max_length=45`) or leave max_length to None to pad to the maximal input size of the model (e.g. 512 for Bert).\n",
            "  FutureWarning,\n"
          ]
        },
        {
          "name": "stdout",
          "output_type": "stream",
          "text": [
            "[[0 1]\n",
            " [0 1]\n",
            " [0 1]\n",
            " [0 1]\n",
            " [0 1]]\n",
            "[[1 0]\n",
            " [1 0]\n",
            " [1 0]\n",
            " [1 0]\n",
            " [0 1]]\n"
          ]
        },
        {
          "name": "stderr",
          "output_type": "stream",
          "text": [
            "WARNING:tensorflow:TPU system grpc://10.112.67.210:8470 has already been initialized. Reinitializing the TPU can cause previously created variables on TPU to be lost.\n",
            "Some layers from the model checkpoint at digitalepidemiologylab/covid-twitter-bert were not used when initializing TFBertModel: ['nsp___cls', 'mlm___cls']\n",
            "- This IS expected if you are initializing TFBertModel from the checkpoint of a model trained on another task or with another architecture (e.g. initializing a BertForSequenceClassification model from a BertForPreTraining model).\n",
            "- This IS NOT expected if you are initializing TFBertModel from the checkpoint of a model that you expect to be exactly identical (initializing a BertForSequenceClassification model from a BertForSequenceClassification model).\n",
            "All the layers of TFBertModel were initialized from the model checkpoint at digitalepidemiologylab/covid-twitter-bert.\n",
            "If your task is similar to the task the model of the checkpoint was trained on, you can already use TFBertModel for predictions without further training.\n",
            "/usr/local/lib/python3.7/dist-packages/keras/optimizer_v2/adam.py:105: UserWarning: The `lr` argument is deprecated, use `learning_rate` instead.\n",
            "  super(Adam, self).__init__(name, **kwargs)\n"
          ]
        },
        {
          "name": "stdout",
          "output_type": "stream",
          "text": [
            "\n",
            "Epoch 1: LearningRateScheduler setting learning rate to 1e-06.\n",
            "Epoch 1/12\n"
          ]
        },
        {
          "name": "stderr",
          "output_type": "stream",
          "text": [
            "WARNING:tensorflow:Gradients do not exist for variables ['tf_bert_model/bert/pooler/dense/kernel:0', 'tf_bert_model/bert/pooler/dense/bias:0'] when minimizing the loss. If you're using `model.compile()`, did you forget to provide a `loss`argument?\n",
            "WARNING:tensorflow:Gradients do not exist for variables ['tf_bert_model/bert/pooler/dense/kernel:0', 'tf_bert_model/bert/pooler/dense/bias:0'] when minimizing the loss. If you're using `model.compile()`, did you forget to provide a `loss`argument?\n"
          ]
        },
        {
          "name": "stdout",
          "output_type": "stream",
          "text": [
            "225/225 [==============================] - 276s 450ms/step - loss: 0.4703 - accuracy: 0.7787 - f1_score: 0.7777 - val_loss: 0.3633 - val_accuracy: 0.8236 - val_f1_score: 0.8174 - lr: 1.0000e-06\n",
            "\n",
            "Epoch 2: LearningRateScheduler setting learning rate to 9.166666666666668e-06.\n",
            "Epoch 2/12\n",
            "225/225 [==============================] - 67s 297ms/step - loss: 0.1576 - accuracy: 0.9492 - f1_score: 0.9492 - val_loss: 0.1169 - val_accuracy: 0.9650 - val_f1_score: 0.9650 - lr: 9.1667e-06\n",
            "\n",
            "Epoch 3: LearningRateScheduler setting learning rate to 1.7333333333333336e-05.\n",
            "Epoch 3/12\n",
            "225/225 [==============================] - 67s 296ms/step - loss: 0.0899 - accuracy: 0.9781 - f1_score: 0.9781 - val_loss: 0.1100 - val_accuracy: 0.9690 - val_f1_score: 0.9690 - lr: 1.7333e-05\n",
            "\n",
            "Epoch 4: LearningRateScheduler setting learning rate to 2.5500000000000003e-05.\n",
            "Epoch 4/12\n",
            "225/225 [==============================] - 67s 297ms/step - loss: 0.0601 - accuracy: 0.9898 - f1_score: 0.9898 - val_loss: 0.0885 - val_accuracy: 0.9819 - val_f1_score: 0.9819 - lr: 2.5500e-05\n",
            "\n",
            "Epoch 5: LearningRateScheduler setting learning rate to 3.366666666666667e-05.\n",
            "Epoch 5/12\n",
            "225/225 [==============================] - 59s 263ms/step - loss: 0.0569 - accuracy: 0.9924 - f1_score: 0.9924 - val_loss: 0.1031 - val_accuracy: 0.9796 - val_f1_score: 0.9796 - lr: 3.3667e-05\n",
            "\n",
            "Epoch 6: LearningRateScheduler setting learning rate to 4.183333333333334e-05.\n",
            "Epoch 6/12\n",
            "225/225 [==============================] - ETA: 0s - loss: 0.0572 - accuracy: 0.9932 - f1_score: 0.9932\n",
            "Epoch 6: ReduceLROnPlateau reducing learning rate to 4.183333294349723e-06.\n",
            "225/225 [==============================] - 67s 298ms/step - loss: 0.0572 - accuracy: 0.9932 - f1_score: 0.9932 - val_loss: 0.0874 - val_accuracy: 0.9819 - val_f1_score: 0.9819 - lr: 4.1833e-06\n",
            "\n",
            "Epoch 7: LearningRateScheduler setting learning rate to 5e-05.\n",
            "Epoch 7/12\n",
            "225/225 [==============================] - 59s 264ms/step - loss: 0.0719 - accuracy: 0.9879 - f1_score: 0.9879 - val_loss: 0.0909 - val_accuracy: 0.9801 - val_f1_score: 0.9801 - lr: 5.0000e-05\n",
            "\n",
            "Epoch 8: LearningRateScheduler setting learning rate to 2.0600000000000003e-05.\n",
            "Epoch 8/12\n",
            "225/225 [==============================] - 67s 298ms/step - loss: 0.0384 - accuracy: 0.9981 - f1_score: 0.9981 - val_loss: 0.0826 - val_accuracy: 0.9825 - val_f1_score: 0.9825 - lr: 2.0600e-05\n",
            "\n",
            "Epoch 9: LearningRateScheduler setting learning rate to 8.840000000000003e-06.\n",
            "Epoch 9/12\n",
            "225/225 [==============================] - 59s 264ms/step - loss: 0.0340 - accuracy: 0.9994 - f1_score: 0.9994 - val_loss: 0.0844 - val_accuracy: 0.9825 - val_f1_score: 0.9825 - lr: 8.8400e-06\n",
            "\n",
            "Epoch 10: LearningRateScheduler setting learning rate to 4.136000000000001e-06.\n",
            "Epoch 10/12\n",
            "225/225 [==============================] - 67s 297ms/step - loss: 0.0325 - accuracy: 1.0000 - f1_score: 1.0000 - val_loss: 0.0813 - val_accuracy: 0.9836 - val_f1_score: 0.9836 - lr: 4.1360e-06\n",
            "\n",
            "Epoch 11: LearningRateScheduler setting learning rate to 2.2544000000000004e-06.\n",
            "Epoch 11/12\n",
            "225/225 [==============================] - 59s 264ms/step - loss: 0.0329 - accuracy: 0.9999 - f1_score: 0.9999 - val_loss: 0.0831 - val_accuracy: 0.9836 - val_f1_score: 0.9836 - lr: 2.2544e-06\n",
            "\n",
            "Epoch 12: LearningRateScheduler setting learning rate to 1.5017600000000001e-06.\n",
            "Epoch 12/12\n",
            "225/225 [==============================] - ETA: 0s - loss: 0.0324 - accuracy: 1.0000 - f1_score: 1.0000\n",
            "Epoch 12: ReduceLROnPlateau reducing learning rate to 1.5017600389910514e-07.\n",
            "225/225 [==============================] - 59s 264ms/step - loss: 0.0324 - accuracy: 1.0000 - f1_score: 1.0000 - val_loss: 0.0814 - val_accuracy: 0.9819 - val_f1_score: 0.9819 - lr: 1.5018e-07\n",
            "Loading best model...\n",
            "Type of fake_train1_list:  <class 'list'>\n",
            "Type of fake_test_list:  <class 'list'>\n",
            "43/43 [==============================] - 4s 73ms/step - loss: 0.0813 - accuracy: 0.9836 - f1_score: 0.9836\n"
          ]
        },
        {
          "data": {
            "image/png": "[encoded data removed]",
            "text/plain": [
              "<Figure size 1080x360 with 2 Axes>"
            ]
          },
          "metadata": {
            "needs_background": "light"
          },
          "output_type": "display_data"
        }
      ],
      "source": [
        "preds = []\n",
        "weights = []\n",
        "models = [\"digitalepidemiologylab/covid-twitter-bert\",\"distilroberta-base\",\"nghuyong/ernie-2.0-en\",\"lordtt13/COVID-SciBERT\",\"digitalepidemiologylab/covid-twitter-bert-v2\"]\n",
        "for fold,(train,valid) in enumerate(kfold.split(fake_train1.tweet,fake_train1.label)):\n",
        "    print('#### FOLD',fold+1)\n",
        "    x_train,x_valid,y_train,y_valid = fake_train1.tweet[train],fake_train1.tweet[valid]\\\n",
        "    ,fake_train1.label[train],fake_train1.label[valid]\n",
        "    if (use_pseudo):\n",
        "        print(\"use pseudo\")\n",
        "        x_train = pd.concat([x_train, df_pseudo.tweet]).reset_index(drop=True)\n",
        "        y_train = pd.concat([y_train, df_pseudo.label]).reset_index(drop=True)\n",
        "    if (use_external2):\n",
        "        x_train = pd.concat([x_train, fake_external2.tweet]).reset_index(drop=True)\n",
        "        y_train = pd.concat([y_train, fake_external2.label]).reset_index(drop=True)\n",
        "    \n",
        "    x_train = x_train.tolist()\n",
        "    y_train = y_train.tolist()\n",
        "    y_valid = y_valid.tolist()\n",
        "    x_valid = x_valid.tolist()\n",
        "\n",
        "    \n",
        "    tokenizer = AutoTokenizer.from_pretrained(models[0])\n",
        "    \n",
        "    x_fake_train = regular_encode(x_train,tokenizer, maxlen=max_len)\n",
        "    x_fake_valid = regular_encode(x_valid,tokenizer,maxlen=max_len)\n",
        "\n",
        "    y_fake_train = to_categorical(y_train,dtype='int32')\n",
        "    y_fake_valid = to_categorical(y_valid,dtype='int32')\n",
        "\n",
        "    print(y_fake_train[0:5])\n",
        "    print(y_fake_valid[0:5])\n",
        "    \n",
        "    train_dataset = get_train_dataset(x_fake_train,y_fake_train)\n",
        "    valid_dataset = get_valid_dataset(x_fake_valid,y_fake_valid)\n",
        "    \n",
        "    \n",
        "    n_steps = x_fake_train.shape[0] // batch_size\n",
        "\n",
        "    # BUILD MODEL\n",
        "    K.clear_session()\n",
        "    tf.tpu.experimental.initialize_tpu_system(tpu)\n",
        "    with strategy.scope():\n",
        "        transformer_layer = TFAutoModel.from_pretrained(models[0])\n",
        "        model = build_model(transformer_layer, max_len=max_len)\n",
        "    \n",
        "    #early_stopping = tf.keras.callbacks.EarlyStopping(monitor='val_loss', min_delta=0, patience=2, verbose=0, mode='auto', baseline=None, restore_best_weights=False)\n",
        "        \n",
        "    sv = tf.keras.callbacks.ModelCheckpoint(\n",
        "        'fold-%i.h5'%fold, monitor='val_f1_score', verbose=0, save_best_only=True,\n",
        "        save_weights_only=True, mode='max', save_freq='epoch')\n",
        "    cb_lr_schedule = tf.keras.callbacks.ReduceLROnPlateau(\n",
        "        monitor = 'val_f1_score', factor = 0.1, patience = 2, verbose = 2, min_delta = 0.0001, mode = 'max')\n",
        "    \n",
        "    train_history = model.fit(\n",
        "    train_dataset,\n",
        "    steps_per_epoch=n_steps,\n",
        "    callbacks = [cb_lr_schedule,sv,lr_warm_up],\n",
        "    validation_data= valid_dataset, epochs=epochs)\n",
        "    \n",
        "    \n",
        "    print('Loading best model...')\n",
        "    model.load_weights('fold-%i.h5'%fold)\n",
        "\n",
        "    fake_train1_list = fake_train1['tweet'].tolist()\n",
        "    fake_test_list = fake_test['tweet'].tolist()\n",
        "\n",
        "    print(\"Type of fake_train1_list: \", type(fake_train1_list))\n",
        "    print(\"Type of fake_test_list: \", type(fake_test_list))\n",
        "    \n",
        "        \n",
        "    x_full_train = regular_encode(fake_train1_list, tokenizer, maxlen=max_len)\n",
        "    \n",
        "    \n",
        "    weights.append(model.evaluate(valid_dataset)[2])\n",
        "    x_fake_test = regular_encode(fake_test_list,tokenizer,maxlen=max_len)\n",
        "    preds.append(model.predict(x_fake_test))\n",
        "    \n",
        "    \n",
        "    if display_plot:\n",
        "        plt.figure(figsize=(15,5))\n",
        "        plt.plot(np.arange(epochs),train_history.history['f1_score'],'-o',label='Train F1 Score',color='#ff7f0e')\n",
        "        plt.plot(np.arange(epochs),train_history.history['val_f1_score'],'-o',label='Val F1 Score',color='#1f77b4')\n",
        "        x = np.argmax( train_history.history['val_f1_score'] ); y = np.max( train_history.history['val_f1_score'] )\n",
        "        xdist = plt.xlim()[1] - plt.xlim()[0]; ydist = plt.ylim()[1] - plt.ylim()[0]\n",
        "        plt.scatter(x,y,s=200,color='#1f77b4'); plt.text(x-0.03*xdist,y-0.13*ydist,'max score\\n%.2f'%y,size=14)\n",
        "        plt.ylabel('F1 Score',size=14); plt.xlabel('Epoch',size=14)\n",
        "        plt.legend(loc=2)\n",
        "        plt2 = plt.gca().twinx()\n",
        "        plt2.plot(np.arange(epochs),train_history.history['loss'],'-o',label='Train Loss',color='#2ca02c')\n",
        "        plt2.plot(np.arange(epochs),train_history.history['val_loss'],'-o',label='Val Loss',color='#d62728')\n",
        "        x = np.argmin( train_history.history['val_loss'] ); y = np.min( train_history.history['val_loss'] )\n",
        "        ydist = plt.ylim()[1] - plt.ylim()[0]\n",
        "        plt.scatter(x,y,s=200,color='#d62728'); plt.text(x-0.03*xdist,y+0.05*ydist,'min loss',size=14)\n",
        "        plt.ylabel('Loss',size=14)\n",
        "        plt.title('FOLD %i'%(fold+1),size=18)\n",
        "        plt.legend(loc=3)\n",
        "        plt.show()  \n",
        "        \n",
        "    del model"
      ]
    },
    {
      "cell_type": "code",
      "execution_count": 27,
      "metadata": {
        "id": "24Gc8rRMVeIu"
      },
      "outputs": [],
      "source": [
        "def weight_ensemble(weights,predictions):\n",
        "    weight_sum = np.sum(weights)  \n",
        "    prediction_sum = 0\n",
        "    for i in range(len(weights)):\n",
        "        prediction_sum += (weights[i]/weight_sum)*predictions[i]\n",
        "    print(prediction_sum)\n",
        "    np.savez('model_predict_weight',prediction_sum)\n",
        "    result = np.argmax(prediction_sum,axis=1)\n",
        "    return result"
      ]
    },
    {
      "cell_type": "code",
      "execution_count": 28,
      "metadata": {
        "id": "sXzyZFhKVeIv"
      },
      "outputs": [],
      "source": [
        "def mean_ensemble(predictions):\n",
        "    result = np.argmax(np.mean(predictions,axis=0),axis=1)\n",
        "    np.savez('model_predict_mean',np.mean(predictions,axis=0))\n",
        "    return result"
      ]
    },
    {
      "cell_type": "code",
      "execution_count": 29,
      "metadata": {
        "colab": {
          "base_uri": "https://localhost:8080/"
        },
        "id": "KB4BRbCSVeIv",
        "outputId": "21b5d0ca-c6f7-4cc4-bd5f-d9b84b377822"
      },
      "outputs": [
        {
          "name": "stdout",
          "output_type": "stream",
          "text": [
            "[[0.00370008 0.9962999 ]\n",
            " [0.99665105 0.00334907]\n",
            " [0.9942495  0.00575054]\n",
            " ...\n",
            " [0.00323238 0.99676764]\n",
            " [0.00429804 0.995702  ]\n",
            " [0.00372128 0.99627876]]\n"
          ]
        }
      ],
      "source": [
        "weight_result= weight_ensemble(weights,preds)"
      ]
    },
    {
      "cell_type": "code",
      "execution_count": 30,
      "metadata": {
        "id": "6rMHbupLVeIv"
      },
      "outputs": [],
      "source": [
        "data1 = np.load('./model_predict_weight.npz')"
      ]
    },
    {
      "cell_type": "code",
      "execution_count": 31,
      "metadata": {
        "colab": {
          "base_uri": "https://localhost:8080/"
        },
        "id": "DEgkXZYwVeIv",
        "outputId": "33979184-72b8-47ee-caed-6320a3755199"
      },
      "outputs": [
        {
          "data": {
            "text/plain": [
              "0.4803738317757009"
            ]
          },
          "execution_count": 31,
          "metadata": {},
          "output_type": "execute_result"
        }
      ],
      "source": [
        "mean_result = mean_ensemble(preds)\n",
        "f1_Score= f1_score(np.array(fake_valid1.label,dtype='int32'),mean_result,average='weighted')\n",
        "f1_Score"
      ]
    },
    {
      "cell_type": "code",
      "execution_count": 32,
      "metadata": {
        "colab": {
          "base_uri": "https://localhost:8080/"
        },
        "id": "w5LB2TOIVeIv",
        "outputId": "ef7e0d77-45da-4906-9bd6-7c86faf6c0eb"
      },
      "outputs": [
        {
          "data": {
            "text/plain": [
              "0.4803738317757009"
            ]
          },
          "execution_count": 32,
          "metadata": {},
          "output_type": "execute_result"
        }
      ],
      "source": [
        "result = np.argmax(preds[4],axis=1)\n",
        "f1_score(np.array(fake_valid1.label,dtype='int32'),result,average='weighted')"
      ]
    },
    {
      "cell_type": "code",
      "execution_count": 33,
      "metadata": {
        "id": "iDhC0E8OVeIv"
      },
      "outputs": [],
      "source": [
        "def make_submission(result):\n",
        "    submission = pd.DataFrame(columns=['id','label'])\n",
        "    submission.label = result\n",
        "    nlist = range(1,result.shape[0]+1)\n",
        "    submission.id = nlist\n",
        "    submission.to_csv('answer.txt', index=False)"
      ]
    },
    {
      "cell_type": "code",
      "execution_count": 34,
      "metadata": {
        "id": "rZHqVOK7VeIv"
      },
      "outputs": [],
      "source": [
        "make_submission(weight_result)"
      ]
    },
    {
      "cell_type": "code",
      "execution_count": 35,
      "metadata": {
        "id": "Oz-eH-mmHjmY"
      },
      "outputs": [],
      "source": [
        "make_submission(mean_result)"
      ]
    },
    {
      "cell_type": "code",
      "execution_count": 36,
      "metadata": {
        "colab": {
          "base_uri": "https://localhost:8080/"
        },
        "id": "jOp9NFvvVeIv",
        "outputId": "3a74becc-15af-4d6f-9ec4-7e32717f5a32"
      },
      "outputs": [
        {
          "data": {
            "text/plain": [
              "9"
            ]
          },
          "execution_count": 36,
          "metadata": {},
          "output_type": "execute_result"
        }
      ],
      "source": [
        "x"
      ]
    },
    {
      "cell_type": "code",
      "execution_count": 37,
      "metadata": {
        "id": "kd2jOeQ7VeIy"
      },
      "outputs": [],
      "source": [
        "submission = pd.DataFrame(columns=['id','label'])\n",
        "submission.label = weight_result\n",
        "nlist = range(1,weight_result.shape[0]+1)\n",
        "submission.id = nlist\n",
        "submission.to_csv('answer.txt', index=False)"
      ]
    },
    {
      "cell_type": "code",
      "execution_count": 44,
      "metadata": {
        "colab": {
          "base_uri": "https://localhost:8080/"
        },
        "id": "z0e3GyAPVeIy",
        "outputId": "59d4960e-f509-49a7-fc12-487ecb448bbf"
      },
      "outputs": [
        {
          "name": "stderr",
          "output_type": "stream",
          "text": [
            "Truncation was not explicitly activated but `max_length` is provided a specific value, please use `truncation=True` to explicitly truncate examples to max length. Defaulting to 'longest_first' truncation strategy. If you encode pairs of sequences (GLUE-style) with the tokenizer you can select this strategy more precisely by providing a specific strategy to `truncation`.\n",
            "/usr/local/lib/python3.7/dist-packages/transformers/tokenization_utils_base.py:2308: FutureWarning: The `pad_to_max_length` argument is deprecated and will be removed in a future version, use `padding=True` or `padding='longest'` to pad to the longest sequence in the batch, or use `padding='max_length'` to pad to a max length. In this case, you can give a specific length with `max_length` (e.g. `max_length=45`) or leave max_length to None to pad to the maximal input size of the model (e.g. 512 for Bert).\n",
            "  FutureWarning,\n",
            "Some layers from the model checkpoint at lordtt13/COVID-SciBERT were not used when initializing TFBertModel: ['mlm___cls']\n",
            "- This IS expected if you are initializing TFBertModel from the checkpoint of a model trained on another task or with another architecture (e.g. initializing a BertForSequenceClassification model from a BertForPreTraining model).\n",
            "- This IS NOT expected if you are initializing TFBertModel from the checkpoint of a model that you expect to be exactly identical (initializing a BertForSequenceClassification model from a BertForSequenceClassification model).\n",
            "All the layers of TFBertModel were initialized from the model checkpoint at lordtt13/COVID-SciBERT.\n",
            "If your task is similar to the task the model of the checkpoint was trained on, you can already use TFBertModel for predictions without further training.\n"
          ]
        },
        {
          "name": "stdout",
          "output_type": "stream",
          "text": [
            "Model: \"model_2\"\n",
            "_________________________________________________________________\n",
            " Layer (type)                Output Shape              Param #   \n",
            "=================================================================\n",
            " input_words_ids (InputLayer  [(None, 140)]            0         \n",
            " )                                                               \n",
            "                                                                 \n",
            " tf_bert_model_2 (TFBertMode  TFBaseModelOutputWithPoo  110572032\n",
            " l)                          lingAndCrossAttentions(l            \n",
            "                             ast_hidden_state=(None,             \n",
            "                             140, 768),                          \n",
            "                              pooler_output=(None, 76            \n",
            "                             8),                                 \n",
            "                              past_key_values=None, h            \n",
            "                             idden_states=None, atten            \n",
            "                             tions=None, cross_attent            \n",
            "                             ions=None)                          \n",
            "                                                                 \n",
            " tf.__operators__.getitem_2   (None, 768)              0         \n",
            " (SlicingOpLambda)                                               \n",
            "                                                                 \n",
            " dense_2 (Dense)             (None, 2)                 1538      \n",
            "                                                                 \n",
            "=================================================================\n",
            "Total params: 110,573,570\n",
            "Trainable params: 110,573,570\n",
            "Non-trainable params: 0\n",
            "_________________________________________________________________\n"
          ]
        },
        {
          "name": "stderr",
          "output_type": "stream",
          "text": [
            "/usr/local/lib/python3.7/dist-packages/keras/optimizer_v2/adam.py:105: UserWarning: The `lr` argument is deprecated, use `learning_rate` instead.\n",
            "  super(Adam, self).__init__(name, **kwargs)\n"
          ]
        },
        {
          "name": "stdout",
          "output_type": "stream",
          "text": [
            "\n",
            "Epoch 1: LearningRateScheduler setting learning rate to 1e-06.\n",
            "Epoch 1/12\n"
          ]
        },
        {
          "name": "stderr",
          "output_type": "stream",
          "text": [
            "WARNING:tensorflow:Gradients do not exist for variables ['tf_bert_model_2/bert/pooler/dense/kernel:0', 'tf_bert_model_2/bert/pooler/dense/bias:0'] when minimizing the loss. If you're using `model.compile()`, did you forget to provide a `loss`argument?\n",
            "WARNING:tensorflow:Gradients do not exist for variables ['tf_bert_model_2/bert/pooler/dense/kernel:0', 'tf_bert_model_2/bert/pooler/dense/bias:0'] when minimizing the loss. If you're using `model.compile()`, did you forget to provide a `loss`argument?\n"
          ]
        },
        {
          "name": "stdout",
          "output_type": "stream",
          "text": [
            "214/214 [==============================] - 138s 205ms/step - loss: 0.4154 - accuracy: 0.8117 - f1_score: 0.8115 - val_loss: 0.2637 - val_accuracy: 0.8949 - val_f1_score: 0.8945 - lr: 1.0000e-06\n",
            "\n",
            "Epoch 2: LearningRateScheduler setting learning rate to 9.166666666666668e-06.\n",
            "Epoch 2/12\n",
            "214/214 [==============================] - 26s 120ms/step - loss: 0.1611 - accuracy: 0.9484 - f1_score: 0.9484 - val_loss: 0.1163 - val_accuracy: 0.9678 - val_f1_score: 0.9677 - lr: 9.1667e-06\n",
            "\n",
            "Epoch 3: LearningRateScheduler setting learning rate to 1.7333333333333336e-05.\n",
            "Epoch 3/12\n",
            "214/214 [==============================] - 26s 120ms/step - loss: 0.1065 - accuracy: 0.9713 - f1_score: 0.9713 - val_loss: 0.0717 - val_accuracy: 0.9888 - val_f1_score: 0.9888 - lr: 1.7333e-05\n",
            "\n",
            "Epoch 4: LearningRateScheduler setting learning rate to 2.5500000000000003e-05.\n",
            "Epoch 4/12\n",
            "214/214 [==============================] - 26s 120ms/step - loss: 0.0726 - accuracy: 0.9881 - f1_score: 0.9881 - val_loss: 0.0498 - val_accuracy: 0.9939 - val_f1_score: 0.9939 - lr: 2.5500e-05\n",
            "\n",
            "Epoch 5: LearningRateScheduler setting learning rate to 3.366666666666667e-05.\n",
            "Epoch 5/12\n",
            "214/214 [==============================] - 26s 120ms/step - loss: 0.0626 - accuracy: 0.9894 - f1_score: 0.9894 - val_loss: 0.0428 - val_accuracy: 0.9967 - val_f1_score: 0.9967 - lr: 3.3667e-05\n",
            "\n",
            "Epoch 6: LearningRateScheduler setting learning rate to 4.183333333333334e-05.\n",
            "Epoch 6/12\n",
            "214/214 [==============================] - 26s 121ms/step - loss: 0.0522 - accuracy: 0.9929 - f1_score: 0.9929 - val_loss: 0.0427 - val_accuracy: 0.9977 - val_f1_score: 0.9977 - lr: 4.1833e-05\n",
            "\n",
            "Epoch 7: LearningRateScheduler setting learning rate to 5e-05.\n",
            "Epoch 7/12\n",
            "214/214 [==============================] - 23s 110ms/step - loss: 0.0630 - accuracy: 0.9886 - f1_score: 0.9886 - val_loss: 0.0466 - val_accuracy: 0.9958 - val_f1_score: 0.9958 - lr: 5.0000e-05\n",
            "\n",
            "Epoch 8: LearningRateScheduler setting learning rate to 2.0600000000000003e-05.\n",
            "Epoch 8/12\n",
            "214/214 [==============================] - 26s 121ms/step - loss: 0.0378 - accuracy: 0.9981 - f1_score: 0.9981 - val_loss: 0.0328 - val_accuracy: 1.0000 - val_f1_score: 1.0000 - lr: 2.0600e-05\n",
            "\n",
            "Epoch 9: LearningRateScheduler setting learning rate to 8.840000000000003e-06.\n",
            "Epoch 9/12\n",
            "214/214 [==============================] - 24s 110ms/step - loss: 0.0340 - accuracy: 0.9995 - f1_score: 0.9995 - val_loss: 0.0324 - val_accuracy: 1.0000 - val_f1_score: 1.0000 - lr: 8.8400e-06\n",
            "\n",
            "Epoch 10: LearningRateScheduler setting learning rate to 4.136000000000001e-06.\n",
            "Epoch 10/12\n",
            "214/214 [==============================] - 24s 111ms/step - loss: 0.0328 - accuracy: 1.0000 - f1_score: 1.0000 - val_loss: 0.0323 - val_accuracy: 1.0000 - val_f1_score: 1.0000 - lr: 4.1360e-06\n",
            "\n",
            "Epoch 11: LearningRateScheduler setting learning rate to 2.2544000000000004e-06.\n",
            "Epoch 11/12\n",
            "214/214 [==============================] - ETA: 0s - loss: 0.0332 - accuracy: 0.9996 - f1_score: 0.9996\n",
            "Epoch 11: ReduceLROnPlateau reducing learning rate to 1.1271999937889632e-06.\n",
            "214/214 [==============================] - 26s 121ms/step - loss: 0.0332 - accuracy: 0.9996 - f1_score: 0.9996 - val_loss: 0.0322 - val_accuracy: 1.0000 - val_f1_score: 1.0000 - lr: 1.1272e-06\n",
            "\n",
            "Epoch 12: LearningRateScheduler setting learning rate to 1.5017600000000001e-06.\n",
            "Epoch 12/12\n",
            "214/214 [==============================] - 24s 112ms/step - loss: 0.0327 - accuracy: 0.9999 - f1_score: 0.9999 - val_loss: 0.0322 - val_accuracy: 1.0000 - val_f1_score: 1.0000 - lr: 1.5018e-06\n",
            "Loading best model...\n",
            "54/54 [==============================] - 3s 35ms/step - loss: 0.0328 - accuracy: 1.0000 - f1_score: 1.0000\n"
          ]
        }
      ],
      "source": [
        "\n",
        "MODEL = \"lordtt13/COVID-SciBERT\"\n",
        "tokenizer = AutoTokenizer.from_pretrained(MODEL)\n",
        "\n",
        "fake_valid_list = fake_valid['tweet'].tolist()\n",
        "\n",
        "x_fake_valid = regular_encode(fake_valid_list,tokenizer,maxlen=max_len)\n",
        "x_fake_train = regular_encode(fake_train1_list,tokenizer,maxlen=max_len)\n",
        "\n",
        "\n",
        "\n",
        "y_fake_train = to_categorical(fake_train1.label,2,dtype='int32')\n",
        "y_fake_valid = to_categorical(fake_valid1.label,2,dtype='int32')\n",
        "\n",
        "with strategy.scope():\n",
        "    transformer_layer = TFAutoModel.from_pretrained(MODEL)\n",
        "    model = build_model(transformer_layer, max_len=max_len)\n",
        "model.summary()\n",
        "n_steps = x_fake_train.shape[0] // batch_size\n",
        "\n",
        "train_dataset = get_train_dataset(x_fake_train,y_fake_train)\n",
        "valid_dataset = get_valid_dataset(x_fake_valid,y_fake_valid)\n",
        "cb_lr_schedule = tf.keras.callbacks.ReduceLROnPlateau(\n",
        "        monitor = 'val_f1_score', factor = 0.5, patience = 3, verbose = 1, min_delta = 0.0001, mode = 'max')\n",
        "sv = tf.keras.callbacks.ModelCheckpoint(\n",
        "        'best_model.h5', monitor='val_f1_score', verbose=0, save_best_only=True,\n",
        "        save_weights_only=True, mode='max', save_freq='epoch')\n",
        "train_history = model.fit(\n",
        "    train_dataset,\n",
        "    steps_per_epoch=n_steps,\n",
        "    callbacks = [cb_lr_schedule,lr_warm_up,sv],\n",
        "    validation_data= valid_dataset,\n",
        "    epochs=epochs\n",
        "    )\n",
        "print('Loading best model...')\n",
        "model.load_weights('best_model.h5')\n",
        "x_fake_test = regular_encode(fake_valid_list,tokenizer,maxlen=max_len)\n",
        "score = model.evaluate(valid_dataset)\n",
        "pred = model.predict(x_fake_test)\n",
        "np.savez('single-model',pred)"
      ]
    },
    {
      "cell_type": "code",
      "execution_count": 45,
      "metadata": {
        "colab": {
          "base_uri": "https://localhost:8080/"
        },
        "id": "y7y6Hf3QVeIy",
        "outputId": "dae63247-b5c2-4016-98fa-55570891058f"
      },
      "outputs": [
        {
          "data": {
            "text/plain": [
              "1.0"
            ]
          },
          "execution_count": 45,
          "metadata": {},
          "output_type": "execute_result"
        }
      ],
      "source": [
        "f1_score(np.array(fake_valid1.label,dtype='int32'),np.argmax(pred,axis=1),average='weighted')"
      ]
    },
    {
      "cell_type": "code",
      "execution_count": 46,
      "metadata": {
        "colab": {
          "base_uri": "https://localhost:8080/"
        },
        "id": "E6nYL827fQdi",
        "outputId": "63e1bced-c685-42ef-b7c6-629f12dcabd2"
      },
      "outputs": [
        {
          "data": {
            "text/plain": [
              "1.0"
            ]
          },
          "execution_count": 46,
          "metadata": {},
          "output_type": "execute_result"
        }
      ],
      "source": [
        "precision_score(np.array(fake_valid1.label,dtype='int32'),np.argmax(pred,axis=1),average='weighted') "
      ]
    },
    {
      "cell_type": "code",
      "execution_count": 47,
      "metadata": {
        "colab": {
          "base_uri": "https://localhost:8080/"
        },
        "id": "ASBVps_Nfale",
        "outputId": "8957e98a-9a26-4221-fb56-d7a4d293825e"
      },
      "outputs": [
        {
          "data": {
            "text/plain": [
              "1.0"
            ]
          },
          "execution_count": 47,
          "metadata": {},
          "output_type": "execute_result"
        }
      ],
      "source": [
        "recall_score(np.array(fake_valid1.label,dtype='int32'),np.argmax(pred,axis=1),average='weighted') "
      ]
    },
    {
      "cell_type": "code",
      "execution_count": 48,
      "metadata": {
        "colab": {
          "base_uri": "https://localhost:8080/"
        },
        "id": "BcK0kCh3fctm",
        "outputId": "6b676b95-e15a-497f-d21a-a88a355ff9ed"
      },
      "outputs": [
        {
          "data": {
            "text/plain": [
              "1.0"
            ]
          },
          "execution_count": 48,
          "metadata": {},
          "output_type": "execute_result"
        }
      ],
      "source": [
        "accuracy_score(np.array(fake_valid1.label,dtype='int32'),np.argmax(pred,axis=1))"
      ]
    },
    {
      "cell_type": "code",
      "execution_count": 49,
      "metadata": {
        "colab": {
          "base_uri": "https://localhost:8080/"
        },
        "id": "x34G0-6sff50",
        "outputId": "05ce5c81-5b9d-47a7-b0aa-a2928331371b"
      },
      "outputs": [
        {
          "name": "stdout",
          "output_type": "stream",
          "text": [
            "Test set\n",
            "  Loss: 0.033\n",
            "  Accuracy: 1.000\n"
          ]
        }
      ],
      "source": [
        "print('Test set\\n  Loss: {:0.3f}\\n  Accuracy: {:0.3f}'.format(score[0],score[1]))"
      ]
    },
    {
      "cell_type": "code",
      "execution_count": 50,
      "metadata": {
        "colab": {
          "base_uri": "https://localhost:8080/",
          "height": 518
        },
        "id": "b4SoEsFHfgZj",
        "outputId": "7b8b9de2-3bd3-4c91-ccb6-0e1b1e2beb73"
      },
      "outputs": [
        {
          "data": {
            "text/plain": [
              "(0.0, 0.43456902671605346)"
            ]
          },
          "execution_count": 50,
          "metadata": {},
          "output_type": "execute_result"
        },
        {
          "data": {
            "image/png": "[encoded data removed]",
            "text/plain": [
              "<Figure size 1152x576 with 2 Axes>"
            ]
          },
          "metadata": {
            "needs_background": "light"
          },
          "output_type": "display_data"
        }
      ],
      "source": [
        "plt.figure(figsize=(16, 8))\n",
        "plt.subplot(1, 2, 1)\n",
        "plot_graphs(train_history, 'accuracy')\n",
        "plt.ylim(None, 1)\n",
        "plt.subplot(1, 2, 2)\n",
        "plot_graphs(train_history, 'loss')\n",
        "plt.ylim(0, None)"
      ]
    },
    {
      "cell_type": "code",
      "execution_count": 51,
      "metadata": {
        "colab": {
          "base_uri": "https://localhost:8080/"
        },
        "id": "-2oNzAX_fidU",
        "outputId": "2352740d-8417-4c10-8625-bca55f2771ea"
      },
      "outputs": [
        {
          "data": {
            "text/plain": [
              "2140"
            ]
          },
          "execution_count": 51,
          "metadata": {},
          "output_type": "execute_result"
        }
      ],
      "source": [
        "y_valid_label_list = fake_valid1.label.to_list()\n",
        "len(y_valid_label_list)"
      ]
    },
    {
      "cell_type": "markdown",
      "metadata": {
        "id": "YAGH67dGfkla"
      },
      "source": [
        "#Classification Report"
      ]
    },
    {
      "cell_type": "code",
      "execution_count": 52,
      "metadata": {
        "colab": {
          "base_uri": "https://localhost:8080/"
        },
        "id": "pg1exPk5fkQz",
        "outputId": "d17bb72a-f176-4dc9-e033-e16fe3859759"
      },
      "outputs": [
        {
          "name": "stdout",
          "output_type": "stream",
          "text": [
            "              precision    recall  f1-score   support\n",
            "\n",
            "           0       1.00      1.00      1.00      1020\n",
            "           1       1.00      1.00      1.00      1120\n",
            "\n",
            "    accuracy                           1.00      2140\n",
            "   macro avg       1.00      1.00      1.00      2140\n",
            "weighted avg       1.00      1.00      1.00      2140\n",
            "\n"
          ]
        }
      ],
      "source": [
        "print(classification_report(y_valid_label_list, np.argmax(pred,axis=1), labels=[0,1]))"
      ]
    },
    {
      "cell_type": "markdown",
      "metadata": {
        "id": "KYCC9Brtfqkd"
      },
      "source": [
        "#Confusion Matrix chart"
      ]
    },
    {
      "cell_type": "code",
      "execution_count": 53,
      "metadata": {
        "colab": {
          "base_uri": "https://localhost:8080/",
          "height": 282
        },
        "id": "-qk2wjH9fqt1",
        "outputId": "965408c7-5091-4d36-f9c0-a5ec709a7bf4"
      },
      "outputs": [
        {
          "data": {
            "text/plain": [
              "<matplotlib.axes._subplots.AxesSubplot at 0x7f902f97f810>"
            ]
          },
          "execution_count": 53,
          "metadata": {},
          "output_type": "execute_result"
        },
        {
          "data": {
            "image/png": "[encoded data removed]",
            "text/plain": [
              "<Figure size 432x288 with 2 Axes>"
            ]
          },
          "metadata": {
            "needs_background": "light"
          },
          "output_type": "display_data"
        }
      ],
      "source": [
        "conf_mat = confusion_matrix(y_valid_label_list, np.argmax(pred,axis=1), labels=[0,1])\n",
        "sns.heatmap(conf_mat, annot=True)"
      ]
    },
    {
      "cell_type": "markdown",
      "metadata": {
        "id": "W3NmUj3NgGLj"
      },
      "source": [
        "#Result prediction by the model for the given input from fake_test file"
      ]
    },
    {
      "cell_type": "code",
      "execution_count": 54,
      "metadata": {
        "colab": {
          "base_uri": "https://localhost:8080/"
        },
        "id": "_Ci0hF8YfxMY",
        "outputId": "42e8f99f-9002-4b45-ea00-3a3b527891d5"
      },
      "outputs": [
        {
          "name": "stderr",
          "output_type": "stream",
          "text": [
            "/usr/local/lib/python3.7/dist-packages/transformers/tokenization_utils_base.py:2308: FutureWarning: The `pad_to_max_length` argument is deprecated and will be removed in a future version, use `padding=True` or `padding='longest'` to pad to the longest sequence in the batch, or use `padding='max_length'` to pad to a max length. In this case, you can give a specific length with `max_length` (e.g. `max_length=45`) or leave max_length to None to pad to the maximal input size of the model (e.g. 512 for Bert).\n",
            "  FutureWarning,\n"
          ]
        }
      ],
      "source": [
        "new_text = fake_test['tweet'][0]\n",
        "fake_test_list = [new_text]\n",
        "x_fake_test_pred = regular_encode(fake_test_list,tokenizer,maxlen=max_len)\n",
        "\n",
        "new_pred = model.predict(x_fake_test_pred)\n",
        "labels = ['fake', 'real']"
      ]
    },
    {
      "cell_type": "code",
      "execution_count": 55,
      "metadata": {
        "colab": {
          "base_uri": "https://localhost:8080/"
        },
        "id": "w8MtCFK3f0UN",
        "outputId": "a31de509-fb53-475f-9797-a243dfab266e"
      },
      "outputs": [
        {
          "name": "stdout",
          "output_type": "stream",
          "text": [
            "[[0.00259912 0.9974009 ]]\n",
            "1\n",
            "real\n"
          ]
        }
      ],
      "source": [
        "print(new_pred)\n",
        "print(np.argmax(new_pred))\n",
        "print(labels[np.argmax(new_pred)])"
      ]
    },
    {
      "cell_type": "code",
      "execution_count": 56,
      "metadata": {
        "colab": {
          "base_uri": "https://localhost:8080/"
        },
        "id": "5SdwAbkPf2ww",
        "outputId": "88245433-5e92-4487-f621-b728d1a84360"
      },
      "outputs": [
        {
          "name": "stdout",
          "output_type": "stream",
          "text": [
            "Our daily update is published. States reported 734k tests 39k new cases and 532 deaths. Current hospitalizations fell below 30k for the first time since June 22. https://t.co/wzSYMe0Sht\n"
          ]
        }
      ],
      "source": [
        "print(new_text)"
      ]
    },
    {
      "cell_type": "markdown",
      "metadata": {
        "id": "9Lj27O2Ef4zo"
      },
      "source": [
        "#Result prediction by the model for the input from fake_external2 file"
      ]
    },
    {
      "cell_type": "code",
      "execution_count": 57,
      "metadata": {
        "id": "HfY4SFJYf4_Q"
      },
      "outputs": [],
      "source": [
        "new_text1 = fake_external2['tweet'][8]\n",
        "fake_test_list1 = [new_text1]\n",
        "x_fake_test_pred1 = regular_encode(fake_test_list1,tokenizer,maxlen=max_len)\n",
        "\n",
        "new_pred1 = model.predict(x_fake_test_pred1)\n",
        "labels = ['fake', 'real']"
      ]
    },
    {
      "cell_type": "code",
      "execution_count": 58,
      "metadata": {
        "colab": {
          "base_uri": "https://localhost:8080/"
        },
        "id": "FyD4Gzs5gAXt",
        "outputId": "7ebaf788-9002-4754-b1c6-c46513d5f3bf"
      },
      "outputs": [
        {
          "name": "stdout",
          "output_type": "stream",
          "text": [
            "[[0.998422 0.001578]]\n",
            "0\n",
            "fake\n"
          ]
        }
      ],
      "source": [
        "print(new_pred1)\n",
        "print(np.argmax(new_pred1))\n",
        "print(labels[np.argmax(new_pred1)])"
      ]
    },
    {
      "cell_type": "code",
      "execution_count": 59,
      "metadata": {
        "colab": {
          "base_uri": "https://localhost:8080/"
        },
        "id": "TEo1HpYXgCIw",
        "outputId": "b97d45c3-f997-468f-a363-e95438a02604"
      },
      "outputs": [
        {
          "name": "stdout",
          "output_type": "stream",
          "text": [
            "\"SARS-CoV-2 is just a mutated form of the common cold\"\n"
          ]
        }
      ],
      "source": [
        "print(new_text1)"
      ]
    },
    {
      "cell_type": "code",
      "execution_count": 61,
      "metadata": {
        "colab": {
          "base_uri": "https://localhost:8080/",
          "height": 206
        },
        "id": "oEXet-L4gEcI",
        "outputId": "ce77fe63-eb89-48b9-955f-994f9ddeaef7"
      },
      "outputs": [
        {
          "data": {
            "text/html": [
              "\n",
              "  <div id=\"df-cb008bb9-f874-4409-a201-587c2057a360\">\n",
              "    <div class=\"colab-df-container\">\n",
              "      <div>\n",
              "<style scoped>\n",
              "    .dataframe tbody tr th:only-of-type {\n",
              "        vertical-align: middle;\n",
              "    }\n",
              "\n",
              "    .dataframe tbody tr th {\n",
              "        vertical-align: top;\n",
              "    }\n",
              "\n",
              "    .dataframe thead th {\n",
              "        text-align: right;\n",
              "    }\n",
              "</style>\n",
              "<table border=\"1\" class=\"dataframe\">\n",
              "  <thead>\n",
              "    <tr style=\"text-align: right;\">\n",
              "      <th></th>\n",
              "      <th>tweet</th>\n",
              "      <th>label</th>\n",
              "    </tr>\n",
              "  </thead>\n",
              "  <tbody>\n",
              "    <tr>\n",
              "      <th>5</th>\n",
              "      <td>\"Cats and dogs spread coronavirus\"</td>\n",
              "      <td>0</td>\n",
              "    </tr>\n",
              "    <tr>\n",
              "      <th>6</th>\n",
              "      <td>\"Face masks always protect against coronavirus\"</td>\n",
              "      <td>0</td>\n",
              "    </tr>\n",
              "    <tr>\n",
              "      <th>7</th>\n",
              "      <td>\"Hand dryers kill coronavirus\"</td>\n",
              "      <td>0</td>\n",
              "    </tr>\n",
              "    <tr>\n",
              "      <th>8</th>\n",
              "      <td>\"SARS-CoV-2 is just a mutated form of the comm...</td>\n",
              "      <td>0</td>\n",
              "    </tr>\n",
              "    <tr>\n",
              "      <th>9</th>\n",
              "      <td>\"You have to be with someone for 10 minutes to...</td>\n",
              "      <td>0</td>\n",
              "    </tr>\n",
              "  </tbody>\n",
              "</table>\n",
              "</div>\n",
              "      <button class=\"colab-df-convert\" onclick=\"convertToInteractive('df-cb008bb9-f874-4409-a201-587c2057a360')\"\n",
              "              title=\"Convert this dataframe to an interactive table.\"\n",
              "              style=\"display:none;\">\n",
              "        \n",
              "  <svg xmlns=\"http://www.w3.org/2000/svg\" height=\"24px\"viewBox=\"0 0 24 24\"\n",
              "       width=\"24px\">\n",
              "    <path d=\"M0 0h24v24H0V0z\" fill=\"none\"/>\n",
              "    <path d=\"M18.56 5.44l.94 2.06.94-2.06 2.06-.94-2.06-.94-.94-2.06-.94 2.06-2.06.94zm-11 1L8.5 8.5l.94-2.06 2.06-.94-2.06-.94L8.5 2.5l-.94 2.06-2.06.94zm10 10l.94 2.06.94-2.06 2.06-.94-2.06-.94-.94-2.06-.94 2.06-2.06.94z\"/><path d=\"M17.41 7.96l-1.37-1.37c-.4-.4-.92-.59-1.43-.59-.52 0-1.04.2-1.43.59L10.3 9.45l-7.72 7.72c-.78.78-.78 2.05 0 2.83L4 21.41c.39.39.9.59 1.41.59.51 0 1.02-.2 1.41-.59l7.78-7.78 2.81-2.81c.8-.78.8-2.07 0-2.86zM5.41 20L4 18.59l7.72-7.72 1.47 1.35L5.41 20z\"/>\n",
              "  </svg>\n",
              "      </button>\n",
              "      \n",
              "  <style>\n",
              "    .colab-df-container {\n",
              "      display:flex;\n",
              "      flex-wrap:wrap;\n",
              "      gap: 12px;\n",
              "    }\n",
              "\n",
              "    .colab-df-convert {\n",
              "      background-color: #E8F0FE;\n",
              "      border: none;\n",
              "      border-radius: 50%;\n",
              "      cursor: pointer;\n",
              "      display: none;\n",
              "      fill: #1967D2;\n",
              "      height: 32px;\n",
              "      padding: 0 0 0 0;\n",
              "      width: 32px;\n",
              "    }\n",
              "\n",
              "    .colab-df-convert:hover {\n",
              "      background-color: #E2EBFA;\n",
              "      box-shadow: 0px 1px 2px rgba(60, 64, 67, 0.3), 0px 1px 3px 1px rgba(60, 64, 67, 0.15);\n",
              "      fill: #174EA6;\n",
              "    }\n",
              "\n",
              "    [theme=dark] .colab-df-convert {\n",
              "      background-color: #3B4455;\n",
              "      fill: #D2E3FC;\n",
              "    }\n",
              "\n",
              "    [theme=dark] .colab-df-convert:hover {\n",
              "      background-color: #434B5C;\n",
              "      box-shadow: 0px 1px 3px 1px rgba(0, 0, 0, 0.15);\n",
              "      filter: drop-shadow(0px 1px 2px rgba(0, 0, 0, 0.3));\n",
              "      fill: #FFFFFF;\n",
              "    }\n",
              "  </style>\n",
              "\n",
              "      <script>\n",
              "        const buttonEl =\n",
              "          document.querySelector('#df-cb008bb9-f874-4409-a201-587c2057a360 button.colab-df-convert');\n",
              "        buttonEl.style.display =\n",
              "          google.colab.kernel.accessAllowed ? 'block' : 'none';\n",
              "\n",
              "        async function convertToInteractive(key) {\n",
              "          const element = document.querySelector('#df-cb008bb9-f874-4409-a201-587c2057a360');\n",
              "          const dataTable =\n",
              "            await google.colab.kernel.invokeFunction('convertToInteractive',\n",
              "                                                     [key], {});\n",
              "          if (!dataTable) return;\n",
              "\n",
              "          const docLinkHtml = 'Like what you see? Visit the ' +\n",
              "            '<a target=\"_blank\" href=https://colab.research.google.com/notebooks/data_table.ipynb>data table notebook</a>'\n",
              "            + ' to learn more about interactive tables.';\n",
              "          element.innerHTML = '';\n",
              "          dataTable['output_type'] = 'display_data';\n",
              "          await google.colab.output.renderOutput(dataTable, element);\n",
              "          const docLink = document.createElement('div');\n",
              "          docLink.innerHTML = docLinkHtml;\n",
              "          element.appendChild(docLink);\n",
              "        }\n",
              "      </script>\n",
              "    </div>\n",
              "  </div>\n",
              "  "
            ],
            "text/plain": [
              "                                               tweet  label\n",
              "5                 \"Cats and dogs spread coronavirus\"      0\n",
              "6    \"Face masks always protect against coronavirus\"      0\n",
              "7                     \"Hand dryers kill coronavirus\"      0\n",
              "8  \"SARS-CoV-2 is just a mutated form of the comm...      0\n",
              "9  \"You have to be with someone for 10 minutes to...      0"
            ]
          },
          "execution_count": 61,
          "metadata": {},
          "output_type": "execute_result"
        }
      ],
      "source": [
        "fake_external2[5:10]"
      ]
    }
  ],
  "metadata": {
    "accelerator": "TPU",
    "colab": {
      "background_execution": "on",
      "collapsed_sections": [
        "IiUcD-FYVeIu"
      ],
      "include_colab_link": true,
      "machine_shape": "hm",
      "provenance": []
    },
    "gpuClass": "standard",
    "kernelspec": {
      "display_name": "Python 3.9.6 64-bit",
      "language": "python",
      "name": "python3"
    },
    "language_info": {
      "codemirror_mode": {
        "name": "ipython",
        "version": 3
      },
      "file_extension": ".py",
      "mimetype": "text/x-python",
      "name": "python",
      "nbconvert_exporter": "python",
      "pygments_lexer": "ipython3",
      "version": "3.9.6"
    },
    "papermill": {
      "duration": 3571.600563,
      "end_time": "2020-12-22T06:19:47.944257",
      "environment_variables": {},
      "exception": null,
      "input_path": "__notebook__.ipynb",
      "output_path": "__notebook__.ipynb",
      "parameters": {},
      "start_time": "2020-12-22T05:20:16.343694",
      "version": "2.1.0"
    },
    "vscode": {
      "interpreter": {
        "hash": "31f2aee4e71d21fbe5cf8b01ff0e069b9275f58929596ceb00d14d90e3e16cd6"
      }
    },
    "widgets": {
      "application/vnd.jupyter.widget-state+json": {
        "18fa0ceb2ea641bdbc6221974603f945": {
          "model_module": "@jupyter-widgets/controls",
          "model_module_version": "1.5.0",
          "model_name": "HTMLModel",
          "state": {
            "_dom_classes": [],
            "_model_module": "@jupyter-widgets/controls",
            "_model_module_version": "1.5.0",
            "_model_name": "HTMLModel",
            "_view_count": null,
            "_view_module": "@jupyter-widgets/controls",
            "_view_module_version": "1.5.0",
            "_view_name": "HTMLView",
            "description": "",
            "description_tooltip": null,
            "layout": "IPY_MODEL_5e5493e51cea4beab5b56dd8196ac6e2",
            "placeholder": "​",
            "style": "IPY_MODEL_c9e2cf76298a43b18d2f19933971b5b3",
            "value": " 232k/232k [00:00&lt;00:00, 1.63MB/s]"
          }
        },
        "1a752ce57075442492e7f98b5116764f": {
          "model_module": "@jupyter-widgets/base",
          "model_module_version": "1.2.0",
          "model_name": "LayoutModel",
          "state": {
            "_model_module": "@jupyter-widgets/base",
            "_model_module_version": "1.2.0",
            "_model_name": "LayoutModel",
            "_view_count": null,
            "_view_module": "@jupyter-widgets/base",
            "_view_module_version": "1.2.0",
            "_view_name": "LayoutView",
            "align_content": null,
            "align_items": null,
            "align_self": null,
            "border": null,
            "bottom": null,
            "display": null,
            "flex": null,
            "flex_flow": null,
            "grid_area": null,
            "grid_auto_columns": null,
            "grid_auto_flow": null,
            "grid_auto_rows": null,
            "grid_column": null,
            "grid_gap": null,
            "grid_row": null,
            "grid_template_areas": null,
            "grid_template_columns": null,
            "grid_template_rows": null,
            "height": null,
            "justify_content": null,
            "justify_items": null,
            "left": null,
            "margin": null,
            "max_height": null,
            "max_width": null,
            "min_height": null,
            "min_width": null,
            "object_fit": null,
            "object_position": null,
            "order": null,
            "overflow": null,
            "overflow_x": null,
            "overflow_y": null,
            "padding": null,
            "right": null,
            "top": null,
            "visibility": null,
            "width": null
          }
        },
        "24e80aeb30884c8a82e88e8e1b7b390d": {
          "model_module": "@jupyter-widgets/controls",
          "model_module_version": "1.5.0",
          "model_name": "FloatProgressModel",
          "state": {
            "_dom_classes": [],
            "_model_module": "@jupyter-widgets/controls",
            "_model_module_version": "1.5.0",
            "_model_name": "FloatProgressModel",
            "_view_count": null,
            "_view_module": "@jupyter-widgets/controls",
            "_view_module_version": "1.5.0",
            "_view_name": "ProgressView",
            "bar_style": "success",
            "description": "",
            "description_tooltip": null,
            "layout": "IPY_MODEL_4dd7d40641a94898b2215528a2fa1172",
            "max": 1472566816,
            "min": 0,
            "orientation": "horizontal",
            "style": "IPY_MODEL_b3e36746320e4a158b396b7088b9d550",
            "value": 1472566816
          }
        },
        "25a9fc1e183840a4b5790131281c7f23": {
          "model_module": "@jupyter-widgets/controls",
          "model_module_version": "1.5.0",
          "model_name": "DescriptionStyleModel",
          "state": {
            "_model_module": "@jupyter-widgets/controls",
            "_model_module_version": "1.5.0",
            "_model_name": "DescriptionStyleModel",
            "_view_count": null,
            "_view_module": "@jupyter-widgets/base",
            "_view_module_version": "1.2.0",
            "_view_name": "StyleView",
            "description_width": ""
          }
        },
        "2eb07f1f57e3411a8b20a8e74e751565": {
          "model_module": "@jupyter-widgets/controls",
          "model_module_version": "1.5.0",
          "model_name": "HTMLModel",
          "state": {
            "_dom_classes": [],
            "_model_module": "@jupyter-widgets/controls",
            "_model_module_version": "1.5.0",
            "_model_name": "HTMLModel",
            "_view_count": null,
            "_view_module": "@jupyter-widgets/controls",
            "_view_module_version": "1.5.0",
            "_view_name": "HTMLView",
            "description": "",
            "description_tooltip": null,
            "layout": "IPY_MODEL_2fec7dcc4ef246c88e4694fa7cbb5910",
            "placeholder": "​",
            "style": "IPY_MODEL_8607b6864aae48cc9990347bd8c49de0",
            "value": "Downloading: 100%"
          }
        },
        "2fec7dcc4ef246c88e4694fa7cbb5910": {
          "model_module": "@jupyter-widgets/base",
          "model_module_version": "1.2.0",
          "model_name": "LayoutModel",
          "state": {
            "_model_module": "@jupyter-widgets/base",
            "_model_module_version": "1.2.0",
            "_model_name": "LayoutModel",
            "_view_count": null,
            "_view_module": "@jupyter-widgets/base",
            "_view_module_version": "1.2.0",
            "_view_name": "LayoutView",
            "align_content": null,
            "align_items": null,
            "align_self": null,
            "border": null,
            "bottom": null,
            "display": null,
            "flex": null,
            "flex_flow": null,
            "grid_area": null,
            "grid_auto_columns": null,
            "grid_auto_flow": null,
            "grid_auto_rows": null,
            "grid_column": null,
            "grid_gap": null,
            "grid_row": null,
            "grid_template_areas": null,
            "grid_template_columns": null,
            "grid_template_rows": null,
            "height": null,
            "justify_content": null,
            "justify_items": null,
            "left": null,
            "margin": null,
            "max_height": null,
            "max_width": null,
            "min_height": null,
            "min_width": null,
            "object_fit": null,
            "object_position": null,
            "order": null,
            "overflow": null,
            "overflow_x": null,
            "overflow_y": null,
            "padding": null,
            "right": null,
            "top": null,
            "visibility": null,
            "width": null
          }
        },
        "33162d54a78a4ec996f7f870c34e5cf9": {
          "model_module": "@jupyter-widgets/base",
          "model_module_version": "1.2.0",
          "model_name": "LayoutModel",
          "state": {
            "_model_module": "@jupyter-widgets/base",
            "_model_module_version": "1.2.0",
            "_model_name": "LayoutModel",
            "_view_count": null,
            "_view_module": "@jupyter-widgets/base",
            "_view_module_version": "1.2.0",
            "_view_name": "LayoutView",
            "align_content": null,
            "align_items": null,
            "align_self": null,
            "border": null,
            "bottom": null,
            "display": null,
            "flex": null,
            "flex_flow": null,
            "grid_area": null,
            "grid_auto_columns": null,
            "grid_auto_flow": null,
            "grid_auto_rows": null,
            "grid_column": null,
            "grid_gap": null,
            "grid_row": null,
            "grid_template_areas": null,
            "grid_template_columns": null,
            "grid_template_rows": null,
            "height": null,
            "justify_content": null,
            "justify_items": null,
            "left": null,
            "margin": null,
            "max_height": null,
            "max_width": null,
            "min_height": null,
            "min_width": null,
            "object_fit": null,
            "object_position": null,
            "order": null,
            "overflow": null,
            "overflow_x": null,
            "overflow_y": null,
            "padding": null,
            "right": null,
            "top": null,
            "visibility": null,
            "width": null
          }
        },
        "376589330ea04c4fa7d35622ee72f083": {
          "model_module": "@jupyter-widgets/controls",
          "model_module_version": "1.5.0",
          "model_name": "HTMLModel",
          "state": {
            "_dom_classes": [],
            "_model_module": "@jupyter-widgets/controls",
            "_model_module_version": "1.5.0",
            "_model_name": "HTMLModel",
            "_view_count": null,
            "_view_module": "@jupyter-widgets/controls",
            "_view_module_version": "1.5.0",
            "_view_name": "HTMLView",
            "description": "",
            "description_tooltip": null,
            "layout": "IPY_MODEL_f07cfe2910464d18bb660b7053f54b7a",
            "placeholder": "​",
            "style": "IPY_MODEL_25a9fc1e183840a4b5790131281c7f23",
            "value": "Downloading: 100%"
          }
        },
        "4c6b3f08a9f54c4ea5969dc8764f7408": {
          "model_module": "@jupyter-widgets/controls",
          "model_module_version": "1.5.0",
          "model_name": "HBoxModel",
          "state": {
            "_dom_classes": [],
            "_model_module": "@jupyter-widgets/controls",
            "_model_module_version": "1.5.0",
            "_model_name": "HBoxModel",
            "_view_count": null,
            "_view_module": "@jupyter-widgets/controls",
            "_view_module_version": "1.5.0",
            "_view_name": "HBoxView",
            "box_style": "",
            "children": [
              "IPY_MODEL_376589330ea04c4fa7d35622ee72f083",
              "IPY_MODEL_24e80aeb30884c8a82e88e8e1b7b390d",
              "IPY_MODEL_a7ea42c7572347f681866e154eebba22"
            ],
            "layout": "IPY_MODEL_33162d54a78a4ec996f7f870c34e5cf9"
          }
        },
        "4d93f7ffdf3d40e595b0d67d1706a460": {
          "model_module": "@jupyter-widgets/controls",
          "model_module_version": "1.5.0",
          "model_name": "HTMLModel",
          "state": {
            "_dom_classes": [],
            "_model_module": "@jupyter-widgets/controls",
            "_model_module_version": "1.5.0",
            "_model_name": "HTMLModel",
            "_view_count": null,
            "_view_module": "@jupyter-widgets/controls",
            "_view_module_version": "1.5.0",
            "_view_name": "HTMLView",
            "description": "",
            "description_tooltip": null,
            "layout": "IPY_MODEL_6b6e9dda47714c84adc219f637c718e4",
            "placeholder": "​",
            "style": "IPY_MODEL_b526093e2e9a405b861d1374ea720473",
            "value": " 421/421 [00:00&lt;00:00, 14.5kB/s]"
          }
        },
        "4dd7d40641a94898b2215528a2fa1172": {
          "model_module": "@jupyter-widgets/base",
          "model_module_version": "1.2.0",
          "model_name": "LayoutModel",
          "state": {
            "_model_module": "@jupyter-widgets/base",
            "_model_module_version": "1.2.0",
            "_model_name": "LayoutModel",
            "_view_count": null,
            "_view_module": "@jupyter-widgets/base",
            "_view_module_version": "1.2.0",
            "_view_name": "LayoutView",
            "align_content": null,
            "align_items": null,
            "align_self": null,
            "border": null,
            "bottom": null,
            "display": null,
            "flex": null,
            "flex_flow": null,
            "grid_area": null,
            "grid_auto_columns": null,
            "grid_auto_flow": null,
            "grid_auto_rows": null,
            "grid_column": null,
            "grid_gap": null,
            "grid_row": null,
            "grid_template_areas": null,
            "grid_template_columns": null,
            "grid_template_rows": null,
            "height": null,
            "justify_content": null,
            "justify_items": null,
            "left": null,
            "margin": null,
            "max_height": null,
            "max_width": null,
            "min_height": null,
            "min_width": null,
            "object_fit": null,
            "object_position": null,
            "order": null,
            "overflow": null,
            "overflow_x": null,
            "overflow_y": null,
            "padding": null,
            "right": null,
            "top": null,
            "visibility": null,
            "width": null
          }
        },
        "5e5493e51cea4beab5b56dd8196ac6e2": {
          "model_module": "@jupyter-widgets/base",
          "model_module_version": "1.2.0",
          "model_name": "LayoutModel",
          "state": {
            "_model_module": "@jupyter-widgets/base",
            "_model_module_version": "1.2.0",
            "_model_name": "LayoutModel",
            "_view_count": null,
            "_view_module": "@jupyter-widgets/base",
            "_view_module_version": "1.2.0",
            "_view_name": "LayoutView",
            "align_content": null,
            "align_items": null,
            "align_self": null,
            "border": null,
            "bottom": null,
            "display": null,
            "flex": null,
            "flex_flow": null,
            "grid_area": null,
            "grid_auto_columns": null,
            "grid_auto_flow": null,
            "grid_auto_rows": null,
            "grid_column": null,
            "grid_gap": null,
            "grid_row": null,
            "grid_template_areas": null,
            "grid_template_columns": null,
            "grid_template_rows": null,
            "height": null,
            "justify_content": null,
            "justify_items": null,
            "left": null,
            "margin": null,
            "max_height": null,
            "max_width": null,
            "min_height": null,
            "min_width": null,
            "object_fit": null,
            "object_position": null,
            "order": null,
            "overflow": null,
            "overflow_x": null,
            "overflow_y": null,
            "padding": null,
            "right": null,
            "top": null,
            "visibility": null,
            "width": null
          }
        },
        "6b6e9dda47714c84adc219f637c718e4": {
          "model_module": "@jupyter-widgets/base",
          "model_module_version": "1.2.0",
          "model_name": "LayoutModel",
          "state": {
            "_model_module": "@jupyter-widgets/base",
            "_model_module_version": "1.2.0",
            "_model_name": "LayoutModel",
            "_view_count": null,
            "_view_module": "@jupyter-widgets/base",
            "_view_module_version": "1.2.0",
            "_view_name": "LayoutView",
            "align_content": null,
            "align_items": null,
            "align_self": null,
            "border": null,
            "bottom": null,
            "display": null,
            "flex": null,
            "flex_flow": null,
            "grid_area": null,
            "grid_auto_columns": null,
            "grid_auto_flow": null,
            "grid_auto_rows": null,
            "grid_column": null,
            "grid_gap": null,
            "grid_row": null,
            "grid_template_areas": null,
            "grid_template_columns": null,
            "grid_template_rows": null,
            "height": null,
            "justify_content": null,
            "justify_items": null,
            "left": null,
            "margin": null,
            "max_height": null,
            "max_width": null,
            "min_height": null,
            "min_width": null,
            "object_fit": null,
            "object_position": null,
            "order": null,
            "overflow": null,
            "overflow_x": null,
            "overflow_y": null,
            "padding": null,
            "right": null,
            "top": null,
            "visibility": null,
            "width": null
          }
        },
        "6e4d0ef57c9a474f9f04dfb5b4485a09": {
          "model_module": "@jupyter-widgets/controls",
          "model_module_version": "1.5.0",
          "model_name": "ProgressStyleModel",
          "state": {
            "_model_module": "@jupyter-widgets/controls",
            "_model_module_version": "1.5.0",
            "_model_name": "ProgressStyleModel",
            "_view_count": null,
            "_view_module": "@jupyter-widgets/base",
            "_view_module_version": "1.2.0",
            "_view_name": "StyleView",
            "bar_color": null,
            "description_width": ""
          }
        },
        "75e64242a91847d59b4be7f2f76dc3f7": {
          "model_module": "@jupyter-widgets/controls",
          "model_module_version": "1.5.0",
          "model_name": "DescriptionStyleModel",
          "state": {
            "_model_module": "@jupyter-widgets/controls",
            "_model_module_version": "1.5.0",
            "_model_name": "DescriptionStyleModel",
            "_view_count": null,
            "_view_module": "@jupyter-widgets/base",
            "_view_module_version": "1.2.0",
            "_view_name": "StyleView",
            "description_width": ""
          }
        },
        "7bb79baa0991436c962c75f8ca3f3b80": {
          "model_module": "@jupyter-widgets/controls",
          "model_module_version": "1.5.0",
          "model_name": "HBoxModel",
          "state": {
            "_dom_classes": [],
            "_model_module": "@jupyter-widgets/controls",
            "_model_module_version": "1.5.0",
            "_model_name": "HBoxModel",
            "_view_count": null,
            "_view_module": "@jupyter-widgets/controls",
            "_view_module_version": "1.5.0",
            "_view_name": "HBoxView",
            "box_style": "",
            "children": [
              "IPY_MODEL_2eb07f1f57e3411a8b20a8e74e751565",
              "IPY_MODEL_7d90fc28a5ea4508bbf358b7a66ffce0",
              "IPY_MODEL_4d93f7ffdf3d40e595b0d67d1706a460"
            ],
            "layout": "IPY_MODEL_96dcef23b53e4081a81c23062e9c2cfb"
          }
        },
        "7c35d6277c2348058774314d68aff663": {
          "model_module": "@jupyter-widgets/controls",
          "model_module_version": "1.5.0",
          "model_name": "HTMLModel",
          "state": {
            "_dom_classes": [],
            "_model_module": "@jupyter-widgets/controls",
            "_model_module_version": "1.5.0",
            "_model_name": "HTMLModel",
            "_view_count": null,
            "_view_module": "@jupyter-widgets/controls",
            "_view_module_version": "1.5.0",
            "_view_name": "HTMLView",
            "description": "",
            "description_tooltip": null,
            "layout": "IPY_MODEL_8d9071ed425e4c45ba3cd3f2cb2d3594",
            "placeholder": "​",
            "style": "IPY_MODEL_f94688da8098448fb6fb62e33dc30efc",
            "value": "Downloading: 100%"
          }
        },
        "7d90fc28a5ea4508bbf358b7a66ffce0": {
          "model_module": "@jupyter-widgets/controls",
          "model_module_version": "1.5.0",
          "model_name": "FloatProgressModel",
          "state": {
            "_dom_classes": [],
            "_model_module": "@jupyter-widgets/controls",
            "_model_module_version": "1.5.0",
            "_model_name": "FloatProgressModel",
            "_view_count": null,
            "_view_module": "@jupyter-widgets/controls",
            "_view_module_version": "1.5.0",
            "_view_name": "ProgressView",
            "bar_style": "success",
            "description": "",
            "description_tooltip": null,
            "layout": "IPY_MODEL_1a752ce57075442492e7f98b5116764f",
            "max": 421,
            "min": 0,
            "orientation": "horizontal",
            "style": "IPY_MODEL_6e4d0ef57c9a474f9f04dfb5b4485a09",
            "value": 421
          }
        },
        "8607b6864aae48cc9990347bd8c49de0": {
          "model_module": "@jupyter-widgets/controls",
          "model_module_version": "1.5.0",
          "model_name": "DescriptionStyleModel",
          "state": {
            "_model_module": "@jupyter-widgets/controls",
            "_model_module_version": "1.5.0",
            "_model_name": "DescriptionStyleModel",
            "_view_count": null,
            "_view_module": "@jupyter-widgets/base",
            "_view_module_version": "1.2.0",
            "_view_name": "StyleView",
            "description_width": ""
          }
        },
        "8d9071ed425e4c45ba3cd3f2cb2d3594": {
          "model_module": "@jupyter-widgets/base",
          "model_module_version": "1.2.0",
          "model_name": "LayoutModel",
          "state": {
            "_model_module": "@jupyter-widgets/base",
            "_model_module_version": "1.2.0",
            "_model_name": "LayoutModel",
            "_view_count": null,
            "_view_module": "@jupyter-widgets/base",
            "_view_module_version": "1.2.0",
            "_view_name": "LayoutView",
            "align_content": null,
            "align_items": null,
            "align_self": null,
            "border": null,
            "bottom": null,
            "display": null,
            "flex": null,
            "flex_flow": null,
            "grid_area": null,
            "grid_auto_columns": null,
            "grid_auto_flow": null,
            "grid_auto_rows": null,
            "grid_column": null,
            "grid_gap": null,
            "grid_row": null,
            "grid_template_areas": null,
            "grid_template_columns": null,
            "grid_template_rows": null,
            "height": null,
            "justify_content": null,
            "justify_items": null,
            "left": null,
            "margin": null,
            "max_height": null,
            "max_width": null,
            "min_height": null,
            "min_width": null,
            "object_fit": null,
            "object_position": null,
            "order": null,
            "overflow": null,
            "overflow_x": null,
            "overflow_y": null,
            "padding": null,
            "right": null,
            "top": null,
            "visibility": null,
            "width": null
          }
        },
        "96dcef23b53e4081a81c23062e9c2cfb": {
          "model_module": "@jupyter-widgets/base",
          "model_module_version": "1.2.0",
          "model_name": "LayoutModel",
          "state": {
            "_model_module": "@jupyter-widgets/base",
            "_model_module_version": "1.2.0",
            "_model_name": "LayoutModel",
            "_view_count": null,
            "_view_module": "@jupyter-widgets/base",
            "_view_module_version": "1.2.0",
            "_view_name": "LayoutView",
            "align_content": null,
            "align_items": null,
            "align_self": null,
            "border": null,
            "bottom": null,
            "display": null,
            "flex": null,
            "flex_flow": null,
            "grid_area": null,
            "grid_auto_columns": null,
            "grid_auto_flow": null,
            "grid_auto_rows": null,
            "grid_column": null,
            "grid_gap": null,
            "grid_row": null,
            "grid_template_areas": null,
            "grid_template_columns": null,
            "grid_template_rows": null,
            "height": null,
            "justify_content": null,
            "justify_items": null,
            "left": null,
            "margin": null,
            "max_height": null,
            "max_width": null,
            "min_height": null,
            "min_width": null,
            "object_fit": null,
            "object_position": null,
            "order": null,
            "overflow": null,
            "overflow_x": null,
            "overflow_y": null,
            "padding": null,
            "right": null,
            "top": null,
            "visibility": null,
            "width": null
          }
        },
        "9b85b602487949b39ae56ebe6317e885": {
          "model_module": "@jupyter-widgets/controls",
          "model_module_version": "1.5.0",
          "model_name": "ProgressStyleModel",
          "state": {
            "_model_module": "@jupyter-widgets/controls",
            "_model_module_version": "1.5.0",
            "_model_name": "ProgressStyleModel",
            "_view_count": null,
            "_view_module": "@jupyter-widgets/base",
            "_view_module_version": "1.2.0",
            "_view_name": "StyleView",
            "bar_color": null,
            "description_width": ""
          }
        },
        "9f169032640741ec83150159c0b41a23": {
          "model_module": "@jupyter-widgets/base",
          "model_module_version": "1.2.0",
          "model_name": "LayoutModel",
          "state": {
            "_model_module": "@jupyter-widgets/base",
            "_model_module_version": "1.2.0",
            "_model_name": "LayoutModel",
            "_view_count": null,
            "_view_module": "@jupyter-widgets/base",
            "_view_module_version": "1.2.0",
            "_view_name": "LayoutView",
            "align_content": null,
            "align_items": null,
            "align_self": null,
            "border": null,
            "bottom": null,
            "display": null,
            "flex": null,
            "flex_flow": null,
            "grid_area": null,
            "grid_auto_columns": null,
            "grid_auto_flow": null,
            "grid_auto_rows": null,
            "grid_column": null,
            "grid_gap": null,
            "grid_row": null,
            "grid_template_areas": null,
            "grid_template_columns": null,
            "grid_template_rows": null,
            "height": null,
            "justify_content": null,
            "justify_items": null,
            "left": null,
            "margin": null,
            "max_height": null,
            "max_width": null,
            "min_height": null,
            "min_width": null,
            "object_fit": null,
            "object_position": null,
            "order": null,
            "overflow": null,
            "overflow_x": null,
            "overflow_y": null,
            "padding": null,
            "right": null,
            "top": null,
            "visibility": null,
            "width": null
          }
        },
        "a691a6551bff4c819719dcf87b49b512": {
          "model_module": "@jupyter-widgets/controls",
          "model_module_version": "1.5.0",
          "model_name": "HBoxModel",
          "state": {
            "_dom_classes": [],
            "_model_module": "@jupyter-widgets/controls",
            "_model_module_version": "1.5.0",
            "_model_name": "HBoxModel",
            "_view_count": null,
            "_view_module": "@jupyter-widgets/controls",
            "_view_module_version": "1.5.0",
            "_view_name": "HBoxView",
            "box_style": "",
            "children": [
              "IPY_MODEL_7c35d6277c2348058774314d68aff663",
              "IPY_MODEL_f1f79689d88543588960e4115a7f830e",
              "IPY_MODEL_18fa0ceb2ea641bdbc6221974603f945"
            ],
            "layout": "IPY_MODEL_9f169032640741ec83150159c0b41a23"
          }
        },
        "a7ea42c7572347f681866e154eebba22": {
          "model_module": "@jupyter-widgets/controls",
          "model_module_version": "1.5.0",
          "model_name": "HTMLModel",
          "state": {
            "_dom_classes": [],
            "_model_module": "@jupyter-widgets/controls",
            "_model_module_version": "1.5.0",
            "_model_name": "HTMLModel",
            "_view_count": null,
            "_view_module": "@jupyter-widgets/controls",
            "_view_module_version": "1.5.0",
            "_view_name": "HTMLView",
            "description": "",
            "description_tooltip": null,
            "layout": "IPY_MODEL_d31314b899bf4a9b8f2152497bf7847a",
            "placeholder": "​",
            "style": "IPY_MODEL_75e64242a91847d59b4be7f2f76dc3f7",
            "value": " 1.47G/1.47G [00:32&lt;00:00, 45.2MB/s]"
          }
        },
        "b3e36746320e4a158b396b7088b9d550": {
          "model_module": "@jupyter-widgets/controls",
          "model_module_version": "1.5.0",
          "model_name": "ProgressStyleModel",
          "state": {
            "_model_module": "@jupyter-widgets/controls",
            "_model_module_version": "1.5.0",
            "_model_name": "ProgressStyleModel",
            "_view_count": null,
            "_view_module": "@jupyter-widgets/base",
            "_view_module_version": "1.2.0",
            "_view_name": "StyleView",
            "bar_color": null,
            "description_width": ""
          }
        },
        "b526093e2e9a405b861d1374ea720473": {
          "model_module": "@jupyter-widgets/controls",
          "model_module_version": "1.5.0",
          "model_name": "DescriptionStyleModel",
          "state": {
            "_model_module": "@jupyter-widgets/controls",
            "_model_module_version": "1.5.0",
            "_model_name": "DescriptionStyleModel",
            "_view_count": null,
            "_view_module": "@jupyter-widgets/base",
            "_view_module_version": "1.2.0",
            "_view_name": "StyleView",
            "description_width": ""
          }
        },
        "c5fa3f4e068342859208adfedfa98bd5": {
          "model_module": "@jupyter-widgets/base",
          "model_module_version": "1.2.0",
          "model_name": "LayoutModel",
          "state": {
            "_model_module": "@jupyter-widgets/base",
            "_model_module_version": "1.2.0",
            "_model_name": "LayoutModel",
            "_view_count": null,
            "_view_module": "@jupyter-widgets/base",
            "_view_module_version": "1.2.0",
            "_view_name": "LayoutView",
            "align_content": null,
            "align_items": null,
            "align_self": null,
            "border": null,
            "bottom": null,
            "display": null,
            "flex": null,
            "flex_flow": null,
            "grid_area": null,
            "grid_auto_columns": null,
            "grid_auto_flow": null,
            "grid_auto_rows": null,
            "grid_column": null,
            "grid_gap": null,
            "grid_row": null,
            "grid_template_areas": null,
            "grid_template_columns": null,
            "grid_template_rows": null,
            "height": null,
            "justify_content": null,
            "justify_items": null,
            "left": null,
            "margin": null,
            "max_height": null,
            "max_width": null,
            "min_height": null,
            "min_width": null,
            "object_fit": null,
            "object_position": null,
            "order": null,
            "overflow": null,
            "overflow_x": null,
            "overflow_y": null,
            "padding": null,
            "right": null,
            "top": null,
            "visibility": null,
            "width": null
          }
        },
        "c9e2cf76298a43b18d2f19933971b5b3": {
          "model_module": "@jupyter-widgets/controls",
          "model_module_version": "1.5.0",
          "model_name": "DescriptionStyleModel",
          "state": {
            "_model_module": "@jupyter-widgets/controls",
            "_model_module_version": "1.5.0",
            "_model_name": "DescriptionStyleModel",
            "_view_count": null,
            "_view_module": "@jupyter-widgets/base",
            "_view_module_version": "1.2.0",
            "_view_name": "StyleView",
            "description_width": ""
          }
        },
        "d31314b899bf4a9b8f2152497bf7847a": {
          "model_module": "@jupyter-widgets/base",
          "model_module_version": "1.2.0",
          "model_name": "LayoutModel",
          "state": {
            "_model_module": "@jupyter-widgets/base",
            "_model_module_version": "1.2.0",
            "_model_name": "LayoutModel",
            "_view_count": null,
            "_view_module": "@jupyter-widgets/base",
            "_view_module_version": "1.2.0",
            "_view_name": "LayoutView",
            "align_content": null,
            "align_items": null,
            "align_self": null,
            "border": null,
            "bottom": null,
            "display": null,
            "flex": null,
            "flex_flow": null,
            "grid_area": null,
            "grid_auto_columns": null,
            "grid_auto_flow": null,
            "grid_auto_rows": null,
            "grid_column": null,
            "grid_gap": null,
            "grid_row": null,
            "grid_template_areas": null,
            "grid_template_columns": null,
            "grid_template_rows": null,
            "height": null,
            "justify_content": null,
            "justify_items": null,
            "left": null,
            "margin": null,
            "max_height": null,
            "max_width": null,
            "min_height": null,
            "min_width": null,
            "object_fit": null,
            "object_position": null,
            "order": null,
            "overflow": null,
            "overflow_x": null,
            "overflow_y": null,
            "padding": null,
            "right": null,
            "top": null,
            "visibility": null,
            "width": null
          }
        },
        "f07cfe2910464d18bb660b7053f54b7a": {
          "model_module": "@jupyter-widgets/base",
          "model_module_version": "1.2.0",
          "model_name": "LayoutModel",
          "state": {
            "_model_module": "@jupyter-widgets/base",
            "_model_module_version": "1.2.0",
            "_model_name": "LayoutModel",
            "_view_count": null,
            "_view_module": "@jupyter-widgets/base",
            "_view_module_version": "1.2.0",
            "_view_name": "LayoutView",
            "align_content": null,
            "align_items": null,
            "align_self": null,
            "border": null,
            "bottom": null,
            "display": null,
            "flex": null,
            "flex_flow": null,
            "grid_area": null,
            "grid_auto_columns": null,
            "grid_auto_flow": null,
            "grid_auto_rows": null,
            "grid_column": null,
            "grid_gap": null,
            "grid_row": null,
            "grid_template_areas": null,
            "grid_template_columns": null,
            "grid_template_rows": null,
            "height": null,
            "justify_content": null,
            "justify_items": null,
            "left": null,
            "margin": null,
            "max_height": null,
            "max_width": null,
            "min_height": null,
            "min_width": null,
            "object_fit": null,
            "object_position": null,
            "order": null,
            "overflow": null,
            "overflow_x": null,
            "overflow_y": null,
            "padding": null,
            "right": null,
            "top": null,
            "visibility": null,
            "width": null
          }
        },
        "f1f79689d88543588960e4115a7f830e": {
          "model_module": "@jupyter-widgets/controls",
          "model_module_version": "1.5.0",
          "model_name": "FloatProgressModel",
          "state": {
            "_dom_classes": [],
            "_model_module": "@jupyter-widgets/controls",
            "_model_module_version": "1.5.0",
            "_model_name": "FloatProgressModel",
            "_view_count": null,
            "_view_module": "@jupyter-widgets/controls",
            "_view_module_version": "1.5.0",
            "_view_name": "ProgressView",
            "bar_style": "success",
            "description": "",
            "description_tooltip": null,
            "layout": "IPY_MODEL_c5fa3f4e068342859208adfedfa98bd5",
            "max": 231508,
            "min": 0,
            "orientation": "horizontal",
            "style": "IPY_MODEL_9b85b602487949b39ae56ebe6317e885",
            "value": 231508
          }
        },
        "f94688da8098448fb6fb62e33dc30efc": {
          "model_module": "@jupyter-widgets/controls",
          "model_module_version": "1.5.0",
          "model_name": "DescriptionStyleModel",
          "state": {
            "_model_module": "@jupyter-widgets/controls",
            "_model_module_version": "1.5.0",
            "_model_name": "DescriptionStyleModel",
            "_view_count": null,
            "_view_module": "@jupyter-widgets/base",
            "_view_module_version": "1.2.0",
            "_view_name": "StyleView",
            "description_width": ""
          }
        }
      }
    }
  },
  "nbformat": 4,
  "nbformat_minor": 0
}
